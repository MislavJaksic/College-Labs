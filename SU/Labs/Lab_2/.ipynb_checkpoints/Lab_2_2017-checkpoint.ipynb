{
 "cells": [
  {
   "cell_type": "markdown",
   "metadata": {},
   "source": [
    "Sveučilište u Zagrebu  \n",
    "Fakultet elektrotehnike i računarstva  \n",
    "  \n",
    "## Strojno učenje 2017/2018  \n",
    "http://www.fer.unizg.hr/predmet/su"
   ]
  },
  {
   "cell_type": "markdown",
   "metadata": {},
   "source": [
    "------------------------------\n",
    "\n",
    "### Laboratorijska vježba 2: Linearni diskriminativni modeli\n",
    "\n",
    "*Verzija: 1.2  \n",
    "Zadnji put ažurirano: 30. listopada 2017.*\n",
    "\n",
    "(c) 2015-2017 Jan Šnajder, Domagoj Alagić  \n",
    "\n",
    "Objavljeno: **30. listopada 2017.**  \n",
    "Rok za predaju: **6. studenog 2017. u 07:00h**\n",
    "\n",
    "------------------------------"
   ]
  },
  {
   "cell_type": "markdown",
   "metadata": {},
   "source": [
    "### Upute\n",
    "\n",
    "Prva laboratorijska vježba sastoji se od šest zadataka. U nastavku slijedite upute navedene u ćelijama s tekstom. Rješavanje vježbe svodi se na **dopunjavanje ove bilježnice**: umetanja ćelije ili više njih **ispod** teksta zadatka, pisanja odgovarajućeg kôda te evaluiranja ćelija. \n",
    "\n",
    "Osigurajte da u potpunosti **razumijete** kôd koji ste napisali. Kod predaje vježbe, morate biti u stanju na zahtjev asistenta (ili demonstratora) preinačiti i ponovno evaluirati Vaš kôd. Nadalje, morate razumjeti teorijske osnove onoga što radite, u okvirima onoga što smo obradili na predavanju. Ispod nekih zadataka možete naći i pitanja koja služe kao smjernice za bolje razumijevanje gradiva (**nemojte pisati** odgovore na pitanja u bilježnicu). Stoga se nemojte ograničiti samo na to da riješite zadatak, nego slobodno eksperimentirajte. To upravo i jest svrha ovih vježbi.\n",
    "\n",
    "Vježbe trebate raditi **samostalno**. Možete se konzultirati s drugima o načelnom načinu rješavanja, ali u konačnici morate sami odraditi vježbu. U protivnome vježba nema smisla."
   ]
  },
  {
   "cell_type": "code",
   "execution_count": 35,
   "metadata": {
    "collapsed": false
   },
   "outputs": [
    {
     "name": "stdout",
     "output_type": "stream",
     "text": [
      "Populating the interactive namespace from numpy and matplotlib\n"
     ]
    }
   ],
   "source": [
    "# Učitaj osnovne biblioteke...\n",
    "import scipy as sp\n",
    "import sklearn\n",
    "import mlutils\n",
    "import matplotlib.pyplot as plt\n",
    "%pylab inline"
   ]
  },
  {
   "cell_type": "markdown",
   "metadata": {},
   "source": [
    "## Zadatci"
   ]
  },
  {
   "cell_type": "markdown",
   "metadata": {},
   "source": [
    "### 1. Linearna regresija kao klasifikator"
   ]
  },
  {
   "cell_type": "markdown",
   "metadata": {},
   "source": [
    "U prvoj laboratorijskoj vježbi koristili smo model linearne regresije za, naravno, regresiju. Međutim, model linearne regresije može se koristiti i za **klasifikaciju**. Iako zvuči pomalo kontraintuitivno, zapravo je dosta jednostavno. Naime, cilj je naučiti funkciju $f(\\mathbf{x})$ koja za negativne primjere predviđa vrijednost $1$, dok za pozitivne primjere predviđa vrijednost $0$. U tom slučaju, funkcija $f(\\mathbf{x})=0.5$ predstavlja granicu između klasa, tj. primjeri za koje vrijedi $h(\\mathbf{x})\\geq 0.5$ klasificiraju se kao pozitivni, dok se ostali klasificiraju kao negativni.\n",
    "\n",
    "Klasifikacija pomoću linearne regresije implementirana je u razredu [`RidgeClassifier`](http://scikit-learn.org/stable/modules/generated/sklearn.linear_model.RidgeClassifier.html). U sljedećim podzadatcima **istrenirajte** taj model na danim podatcima i **prikažite** dobivenu granicu između klasa. Pritom isključite regularizaciju ($\\alpha = 0$, odnosno `alpha=0`). Također i ispišite **točnost** vašeg klasifikacijskog modela (smijete koristiti funkciju [`metrics.accuracy_score`](http://scikit-learn.org/stable/modules/generated/sklearn.metrics.accuracy_score.html)). Skupove podataka vizualizirajte korištenjem pomoćne funkcije ``plot_clf_problem(X, y, h=None)`` koja je dostupna u pomoćnom paketu `mlutils` (datoteku `mlutils.py` možete preuzeti sa stranice kolegija). `X` i `y` predstavljaju ulazne primjere i oznake, dok `h` predstavlja funkciju predikcije modela (npr. `model.predict`). \n",
    "\n",
    "U ovom zadatku cilj je razmotriti kako se klasifikacijski model linearne regresije ponaša na linearno odvojim i neodvojivim podatcima.\n"
   ]
  },
  {
   "cell_type": "code",
   "execution_count": 36,
   "metadata": {
    "collapsed": true
   },
   "outputs": [],
   "source": [
    "from sklearn.linear_model import LinearRegression, RidgeClassifier\n",
    "from sklearn.metrics import accuracy_score"
   ]
  },
  {
   "cell_type": "markdown",
   "metadata": {},
   "source": [
    "#### (a)\n",
    "\n",
    "Prvo, isprobajte *ugrađeni* model na linearno odvojivom skupu podataka `seven` ($N=7$)."
   ]
  },
  {
   "cell_type": "code",
   "execution_count": 37,
   "metadata": {
    "collapsed": false
   },
   "outputs": [],
   "source": [
    "seven_X = np.array([[2,1], [2,3], [1,2], [3,2], [5,2], [5,4], [6,3]])\n",
    "seven_y = np.array([1, 1, 1, 1, 0, 0, 0])"
   ]
  },
  {
   "cell_type": "code",
   "execution_count": 38,
   "metadata": {
    "collapsed": false
   },
   "outputs": [],
   "source": [
    "def PerformModel(model, X, y):\n",
    "    model.fit(X, y)\n",
    "    w0 = model.intercept_\n",
    "    wi = model.coef_\n",
    "    predictions = model.predict(X)\n",
    "    \n",
    "    classificationPrediction = []\n",
    "    for prediction in predictions:\n",
    "        if prediction > 0.5:\n",
    "            classificationPrediction.append(1)\n",
    "        else:\n",
    "            classificationPrediction.append(0)\n",
    "    trainError = accuracy_score(classificationPrediction, y)\n",
    "    trainError = str(trainError*100) + \"% training accuracy\"\n",
    "    return w0, wi, predictions, classificationPrediction, trainError\n",
    "\n",
    "def DrawLineOnInterval(w0, wi, interval):\n",
    "    w = JoinCoef(w0, wi)\n",
    "    XDraw = sp.linspace(interval[0], interval[1])\n",
    "    yDraw = []\n",
    "    for x in XDraw:\n",
    "        yDraw.append((-1)*w[0]/float(w[2]) + (-1)*w[1]*x/float(w[2]))\n",
    "    plt.plot(XDraw, yDraw, \"r--\")\n",
    "    \n",
    "def JoinCoef(w0, wi):\n",
    "    try:\n",
    "        w0 = np.array([w0])\n",
    "        return np.concatenate((w0, wi))\n",
    "    except:\n",
    "        return np.concatenate((w0[0], wi[0]))\n",
    "    "
   ]
  },
  {
   "cell_type": "code",
   "execution_count": 39,
   "metadata": {
    "collapsed": false,
    "scrolled": true
   },
   "outputs": [
    {
     "name": "stdout",
     "output_type": "stream",
     "text": [
      "[ 2.1]\n",
      "[[-0.5 -0.1]]\n",
      "[1 1 1 1 0 0 0]\n",
      "[1, 1, 1, 1, 0, 0, 0]\n",
      "100.0% training accuracy\n"
     ]
    },
    {
     "data": {
      "image/png": "[encoded data removed]",
      "text/plain": [
       "<matplotlib.figure.Figure at 0xc5c40f0>"
      ]
     },
     "metadata": {},
     "output_type": "display_data"
    }
   ],
   "source": [
    "model = RidgeClassifier(alpha=0)\n",
    "w0, wi, predictions, classificationPrediction, trainError = PerformModel(model, seven_X, seven_y)\n",
    "print w0\n",
    "print wi\n",
    "print predictions\n",
    "print classificationPrediction\n",
    "print trainError\n",
    "\n",
    "mlutils.plot_2d_clf_problem(seven_X, seven_y, h=lambda x : model.predict(x) >= 0.5)\n",
    "DrawLineOnInterval(w0, wi, [3.5,4])"
   ]
  },
  {
   "cell_type": "markdown",
   "metadata": {},
   "source": [
    "Kako bi se uvjerili da se u isprobanoj implementaciji ne radi o ničemu doli o običnoj linearnoj regresiji, napišite kôd koji dolazi do jednakog rješenja korištenjem isključivo razreda [`LinearRegression`](http://scikit-learn.org/stable/modules/generated/sklearn.linear_model.LinearRegression.html). Funkciju za predikciju, koju predajete kao treći argument `h` funkciji `plot_2d_clf_problem`, možete definirati lambda-izrazom: `lambda x : model.predict(x) >= 0.5`."
   ]
  },
  {
   "cell_type": "code",
   "execution_count": 40,
   "metadata": {
    "collapsed": false
   },
   "outputs": [
    {
     "name": "stdout",
     "output_type": "stream",
     "text": [
      "1.55\n",
      "[-0.25 -0.05]\n",
      "[ 1.   0.9  1.2  0.7  0.2  0.1 -0.1]\n",
      "[1, 1, 1, 1, 0, 0, 0]\n",
      "100.0% training accuracy\n"
     ]
    },
    {
     "data": {
      "image/png": "[encoded data removed]",
      "text/plain": [
       "<matplotlib.figure.Figure at 0x4809390>"
      ]
     },
     "metadata": {},
     "output_type": "display_data"
    }
   ],
   "source": [
    "model = LinearRegression()\n",
    "w0, wi, predictions, classificationPrediction, trainError = PerformModel(model, seven_X, seven_y)\n",
    "print w0\n",
    "print wi\n",
    "print predictions\n",
    "print classificationPrediction\n",
    "print trainError\n",
    "\n",
    "mlutils.plot_2d_clf_problem(seven_X, seven_y, h=lambda x : model.predict(x) >= 0.5)\n",
    "#DrawLineOnInterval(w0, wi, [3.5,4]) #if the codomain was -1..1, then the line would be the same"
   ]
  },
  {
   "cell_type": "markdown",
   "metadata": {},
   "source": [
    "**Q:** Kako bi bila definirana granica između klasa ako bismo koristili oznake klasa $-1$ i $1$ umjesto $0$ i $1$?"
   ]
  },
  {
   "cell_type": "markdown",
   "metadata": {},
   "source": [
    "#### (b)"
   ]
  },
  {
   "cell_type": "markdown",
   "metadata": {},
   "source": [
    "Probajte isto na linearno odvojivom skupu podataka `outlier` ($N=8$):"
   ]
  },
  {
   "cell_type": "code",
   "execution_count": 41,
   "metadata": {
    "collapsed": true
   },
   "outputs": [],
   "source": [
    "outlier_X = np.append(seven_X, [[12,8]], axis=0)\n",
    "outlier_y = np.append(seven_y, 0)"
   ]
  },
  {
   "cell_type": "code",
   "execution_count": 42,
   "metadata": {
    "collapsed": false
   },
   "outputs": [
    {
     "name": "stdout",
     "output_type": "stream",
     "text": [
      "0.92469352014\n",
      "[-0.20140105  0.15411559]\n",
      "[ 0.67600701  0.98423818  1.03152364  0.62872154  0.22591944  0.53415061\n",
      "  0.17863398 -0.2591944 ]\n",
      "[1, 1, 1, 1, 0, 1, 0, 0]\n",
      "87.5% training accuracy\n"
     ]
    },
    {
     "data": {
      "image/png": "[encoded data removed]",
      "text/plain": [
       "<matplotlib.figure.Figure at 0x9e1efd0>"
      ]
     },
     "metadata": {},
     "output_type": "display_data"
    }
   ],
   "source": [
    "model = LinearRegression()\n",
    "w0, wi, predictions, classificationPrediction, trainError = PerformModel(model, outlier_X, outlier_y)\n",
    "print w0\n",
    "print wi\n",
    "print predictions\n",
    "print classificationPrediction\n",
    "print trainError\n",
    "\n",
    "mlutils.plot_2d_clf_problem(outlier_X, outlier_y, h=lambda x : model.predict(x) >= 0.5)\n",
    "#DrawFunctionOnInterval(JoinCoef(w0, wi), [3.5,4])"
   ]
  },
  {
   "cell_type": "markdown",
   "metadata": {},
   "source": [
    "**Q:** Zašto model ne ostvaruje potpunu točnost iako su podatci linearno odvojivi?"
   ]
  },
  {
   "cell_type": "markdown",
   "metadata": {},
   "source": [
    "#### (c)"
   ]
  },
  {
   "cell_type": "markdown",
   "metadata": {},
   "source": [
    "Završno, probajte isto na linearno neodvojivom skupu podataka `unsep` ($N=8$):"
   ]
  },
  {
   "cell_type": "code",
   "execution_count": 43,
   "metadata": {
    "collapsed": true
   },
   "outputs": [],
   "source": [
    "unsep_X = np.append(seven_X, [[2,2]], axis=0)\n",
    "unsep_y = np.append(seven_y, 0)"
   ]
  },
  {
   "cell_type": "code",
   "execution_count": 44,
   "metadata": {
    "collapsed": false
   },
   "outputs": [
    {
     "name": "stdout",
     "output_type": "stream",
     "text": [
      "1.25252525253\n",
      "[-0.2020202  -0.04040404]\n",
      "[ 0.80808081  0.72727273  0.96969697  0.56565657  0.16161616  0.08080808\n",
      " -0.08080808  0.76767677]\n",
      "[1, 1, 1, 1, 0, 0, 0, 1]\n",
      "87.5% training accuracy\n"
     ]
    },
    {
     "data": {
      "image/png": "[encoded data removed]",
      "text/plain": [
       "<matplotlib.figure.Figure at 0x75468d0>"
      ]
     },
     "metadata": {},
     "output_type": "display_data"
    }
   ],
   "source": [
    "model = LinearRegression()\n",
    "w0, wi, predictions, classificationPrediction, trainError = PerformModel(model, unsep_X, unsep_y)\n",
    "print w0\n",
    "print wi\n",
    "print predictions\n",
    "print classificationPrediction\n",
    "print trainError\n",
    "\n",
    "mlutils.plot_2d_clf_problem(unsep_X, unsep_y, h=lambda x : model.predict(x) >= 0.5)\n",
    "#DrawFunctionOnInterval(JoinCoef(w0, wi), [3,3.5])"
   ]
  },
  {
   "cell_type": "markdown",
   "metadata": {},
   "source": [
    "**Q:** Očito je zašto model nije u mogućnosti postići potpunu točnost na ovom skupu podataka. Međutim, smatrate li da je problem u modelu ili u podacima? Argumentirajte svoj stav."
   ]
  },
  {
   "cell_type": "markdown",
   "metadata": {},
   "source": [
    "### 2. Višeklasna klasifikacija"
   ]
  },
  {
   "cell_type": "markdown",
   "metadata": {},
   "source": [
    "Postoji više načina kako se binarni klasifikatori mogu se upotrijebiti za višeklasnu klasifikaciju. Najčešće se koristi shema tzv. **jedan-naspram-ostali** (engl. *one-vs-rest*, OVR), u kojoj se trenira po jedan klasifikator $h_j$ za svaku od $K$ klasa. Svaki klasifikator $h_j$ trenira se da razdvaja primjere klase $j$ od primjera svih drugih klasa, a primjer se klasificira u klasu $j$ za koju je $h_j(\\mathbf{x})$ maksimalan.\n",
    "\n",
    "Pomoću funkcije [`datasets.make_classification`](http://scikit-learn.org/stable/modules/generated/sklearn.datasets.make_classification.html) generirajte slučajan dvodimenzijski skup podataka od tri klase i prikažite ga koristeći funkciju `plot_2d_clf_problem`. Radi jednostavnosti, pretpostavite da nema redundantnih značajki te da je svaka od klasa \"zbijena\" upravo u jednu grupu."
   ]
  },
  {
   "cell_type": "code",
   "execution_count": 45,
   "metadata": {
    "collapsed": false
   },
   "outputs": [],
   "source": [
    "from sklearn.datasets import make_classification"
   ]
  },
  {
   "cell_type": "code",
   "execution_count": 46,
   "metadata": {
    "collapsed": false
   },
   "outputs": [
    {
     "data": {
      "image/png": "[encoded data removed]",
      "text/plain": [
       "<matplotlib.figure.Figure at 0x9b3a2e8>"
      ]
     },
     "metadata": {},
     "output_type": "display_data"
    }
   ],
   "source": [
    "X2, y2 = make_classification(n_samples=3, n_features=2, n_informative=2, n_redundant=0, n_repeated=0, n_classes=3, n_clusters_per_class=1)\n",
    "#y2 is either 0,1,2\n",
    "mlutils.plot_2d_clf_problem(X2, y2, h=None)"
   ]
  },
  {
   "cell_type": "code",
   "execution_count": 47,
   "metadata": {
    "collapsed": true
   },
   "outputs": [],
   "source": [
    "def DataSieve(array, sieveHole):\n",
    "    \"\"\"sieveHole is 0, 1 or 2\"\"\"\n",
    "    newArray = []\n",
    "    for y in array:\n",
    "        if y == sieveHole:\n",
    "            newArray.append(1)\n",
    "        else:\n",
    "            newArray.append(0)\n",
    "    return newArray\n",
    "\n",
    "def MetaModel(x):\n",
    "    x = x.reshape(1, -1)\n",
    "    return np.argmax([models[0].predict(x), models[1].predict(x), models[2].predict(x)])"
   ]
  },
  {
   "cell_type": "markdown",
   "metadata": {},
   "source": [
    "Trenirajte tri binarna klasifikatora, $h_1$, $h_2$ i $h_3$ te prikažite granice između klasa (tri grafikona). Zatim definirajte $h(\\mathbf{x})=\\mathrm{argmax}_j h_j(\\mathbf{x})$  (napišite svoju funkciju `predict` koja to radi) i prikažite granice između klasa za taj model. Zatim se uvjerite da biste identičan rezultat dobili izravno primjenom modela `RidgeClassifier`, budući da taj model za višeklasan problem zapravo interno implementira shemu jedan-naspram-ostali.\n",
    "\n",
    "**Q:** Alternativna shema jest ona zvana **jedan-naspram-jedan** (engl, *one-vs-one*, OVO). Koja je prednost sheme OVR nad shemom OVO? A obratno?"
   ]
  },
  {
   "cell_type": "code",
   "execution_count": 48,
   "metadata": {
    "collapsed": false
   },
   "outputs": [
    {
     "data": {
      "image/png": "[encoded data removed]",
      "text/plain": [
       "<matplotlib.figure.Figure at 0x9aab748>"
      ]
     },
     "metadata": {},
     "output_type": "display_data"
    },
    {
     "data": {
      "image/png": "[encoded data removed]",
      "text/plain": [
       "<matplotlib.figure.Figure at 0xc344828>"
      ]
     },
     "metadata": {},
     "output_type": "display_data"
    },
    {
     "data": {
      "image/png": "[encoded data removed]",
      "text/plain": [
       "<matplotlib.figure.Figure at 0xca93c88>"
      ]
     },
     "metadata": {},
     "output_type": "display_data"
    }
   ],
   "source": [
    "models = []\n",
    "for classNumber in range(3):\n",
    "    model = LinearRegression()\n",
    "    ySieved = DataSieve(y2, classNumber)\n",
    "    \n",
    "    PerformModel(model, X2, ySieved)\n",
    "    models.append(model)\n",
    "    \n",
    "    mlutils.plot_2d_clf_problem(X2, y2, h=lambda x : model.predict(x) >= 0.5)\n",
    "    plt.show()"
   ]
  },
  {
   "cell_type": "code",
   "execution_count": 49,
   "metadata": {
    "collapsed": false
   },
   "outputs": [
    {
     "data": {
      "text/plain": [
       "'for classNumber in range(3):\\n    model = RidgeClassifier(alpha=0)\\n    ySieved = DataSieve(y2, classNumber)\\n    \\n    PerformModel(model, X2, ySieved)\\n\\n    mlutils.plot_2d_clf_problem(X2, y2, h=model.predict)\\n    plt.show()'"
      ]
     },
     "execution_count": 49,
     "metadata": {},
     "output_type": "execute_result"
    }
   ],
   "source": [
    "\"\"\"for classNumber in range(3):\n",
    "    model = RidgeClassifier(alpha=0)\n",
    "    ySieved = DataSieve(y2, classNumber)\n",
    "    \n",
    "    PerformModel(model, X2, ySieved)\n",
    "\n",
    "    mlutils.plot_2d_clf_problem(X2, y2, h=model.predict)\n",
    "    plt.show()\"\"\""
   ]
  },
  {
   "cell_type": "code",
   "execution_count": 50,
   "metadata": {
    "collapsed": false
   },
   "outputs": [
    {
     "data": {
      "image/png": "[encoded data removed]",
      "text/plain": [
       "<matplotlib.figure.Figure at 0xbc29780>"
      ]
     },
     "metadata": {},
     "output_type": "display_data"
    }
   ],
   "source": [
    "mlutils.plot_2d_clf_problem(X2, y2, h=MetaModel)"
   ]
  },
  {
   "cell_type": "code",
   "execution_count": 51,
   "metadata": {
    "collapsed": false
   },
   "outputs": [
    {
     "data": {
      "image/png": "[encoded data removed]",
      "text/plain": [
       "<matplotlib.figure.Figure at 0xc718cf8>"
      ]
     },
     "metadata": {},
     "output_type": "display_data"
    }
   ],
   "source": [
    "model = RidgeClassifier(alpha=0)\n",
    "    \n",
    "PerformModel(model, X2, y2)\n",
    "\n",
    "mlutils.plot_2d_clf_problem(X2, y2, h=model.predict)"
   ]
  },
  {
   "cell_type": "markdown",
   "metadata": {},
   "source": [
    "### 3. Logistička regresija"
   ]
  },
  {
   "cell_type": "markdown",
   "metadata": {},
   "source": [
    "Ovaj zadatak bavi se probabilističkim diskriminativnim modelom, **logističkom regresijom**, koja je, unatoč nazivu, klasifikacijski model.\n",
    "\n",
    "Logistička regresija tipičan je predstavnik tzv. **poopćenih linearnih modela** koji su oblika: $h(\\mathbf{x})=f(\\mathbf{w}^\\intercal\\tilde{\\mathbf{x}})$. Logistička funkcija za funkciju $f$ koristi tzv. **logističku** (sigmoidalnu) funkciju $\\sigma (x) = \\frac{1}{1 + \\textit{exp}(-x)}$."
   ]
  },
  {
   "cell_type": "markdown",
   "metadata": {},
   "source": [
    "#### (a)"
   ]
  },
  {
   "cell_type": "markdown",
   "metadata": {},
   "source": [
    "Definirajte logističku (sigmoidalnu) funkciju $\\mathrm{sigm}(x)=\\frac{1}{1+\\exp(-\\alpha x)}$ i prikažite je za $\\alpha\\in\\{1,2,4\\}$."
   ]
  },
  {
   "cell_type": "code",
   "execution_count": 52,
   "metadata": {
    "collapsed": true
   },
   "outputs": [],
   "source": [
    "def sigm(x, alpha):\n",
    "    return (1. / (1 + (math.e**((-1)*alpha*x))))\n",
    "#alpha = wT*x + w0"
   ]
  },
  {
   "cell_type": "code",
   "execution_count": 53,
   "metadata": {
    "collapsed": false
   },
   "outputs": [
    {
     "data": {
      "image/png": "[encoded data removed]",
      "text/plain": [
       "<matplotlib.figure.Figure at 0x9b8a2b0>"
      ]
     },
     "metadata": {},
     "output_type": "display_data"
    }
   ],
   "source": [
    "alphas = [1, 2, 4]\n",
    "XDraw = sp.linspace(-5, 5)\n",
    "\n",
    "for alpha in alphas:\n",
    "    yDraw = []\n",
    "    for x in XDraw:\n",
    "        yDraw.append(sigm(x, alpha))\n",
    "    plt.plot(XDraw, yDraw)\n",
    "    \n",
    "plt.legend([\"alpha 1\", \"alpha 2\", \"alpha 4\"])\n",
    "plt.grid()"
   ]
  },
  {
   "cell_type": "markdown",
   "metadata": {},
   "source": [
    "**Q**: Zašto je sigmoidalna funkcija prikladan izbor za aktivacijsku funkciju poopćenoga linearnog modela? \n",
    "</br>\n",
    "\n",
    "**Q**: Kakav utjecaj ima faktor $\\alpha$ na oblik sigmoide? Što to znači za model logističke regresije (tj. kako izlaz modela ovisi o normi vektora težina $\\mathbf{w}$)?"
   ]
  },
  {
   "cell_type": "markdown",
   "metadata": {},
   "source": [
    "#### (b)"
   ]
  },
  {
   "cell_type": "markdown",
   "metadata": {},
   "source": [
    "Implementirajte funkciju \n",
    "\n",
    "> `lr_train(X, y, eta=0.01, max_iter=2000, alpha=0, epsilon=0.0001, trace=False)` \n",
    "\n",
    "za treniranje modela logističke regresije gradijentnim spustom (*batch* izvedba). Funkcija uzima označeni skup primjera za učenje (matrica primjera `X` i vektor oznaka `y`) te vraća $(n+1)$-dimenzijski vektor težina tipa `ndarray`. Ako je `trace=True`, funkcija dodatno vraća listu (ili matricu) vektora težina $\\mathbf{w}^0,\\mathbf{w}^1,\\dots,\\mathbf{w}^k$ generiranih kroz sve iteracije optimizacije, od 0 do $k$. Optimizaciju treba provoditi dok se ne dosegne `max_iter` iteracija, ili kada razlika u pogrešci unakrsne entropije između dviju iteracija padne ispod vrijednosti `epsilon`. Parametar `alpha` predstavlja faktor regularizacije.\n",
    "\n",
    "Preporučamo definiranje pomoćne funkcije `lr_h(x,w)` koja daje predikciju za primjer `x` uz zadane težine `w`. Također, preporučamo i funkciju `cross_entropy_error(X,y,w)` koja izračunava pogrešku unakrsne entropije modela na označenom skupu `(X,y)` uz te iste težine.\n",
    "\n",
    "**NB:** Obratite pozornost na to da je način kako su definirane oznake ($\\{+1,-1\\}$ ili $\\{1,0\\}$) kompatibilan s izračunom funkcije gubitka u optimizacijskome algoritmu."
   ]
  },
  {
   "cell_type": "code",
   "execution_count": 54,
   "metadata": {
    "collapsed": true
   },
   "outputs": [],
   "source": [
    "from sklearn.metrics import log_loss"
   ]
  },
  {
   "cell_type": "code",
   "execution_count": 61,
   "metadata": {
    "collapsed": false
   },
   "outputs": [],
   "source": [
    "def lr_train(X, y, eta=0.01, max_iter=2000, alpha=0, epsilon=0.0001, trace=False):\n",
    "    \n",
    "    w0 = 0\n",
    "    features = len(X[0])\n",
    "    wi = []\n",
    "    for i in range(features):\n",
    "        wi.append(0)\n",
    "    wi = np.array(wi)\n",
    "\n",
    "    wHistory = []\n",
    "    previousError = 0\n",
    "    \n",
    "    for i in range(max_iter):    \n",
    "        error = cross_entropy_error(X, y, w0, wi)\n",
    "        \n",
    "        if abs(error-previousError) < epsilon:\n",
    "            print \"Valley floor has been reached\"\n",
    "            break\n",
    "        previousError = error\n",
    "        \n",
    "        predictions = lr_h(X, w0, wi)\n",
    "        classificationError = predictions - y\n",
    "\n",
    "        gradientWi = np.dot(classificationError, X)\n",
    "        gradientW0 = np.sum(classificationError)\n",
    "        \n",
    "        wi = wi * (1 - eta * alpha) - eta * gradientWi\n",
    "        w0 = w0 - eta * gradientW0\n",
    "        \n",
    "        wHistory.append([w0, wi])\n",
    "    \n",
    "    if trace:\n",
    "        return w0, wi, wHistory\n",
    "    else:\n",
    "        return w0, wi\n",
    "\n",
    "def lr_h(X, w0, wi):\n",
    "    predictionsReal = np.dot(X, wi) + w0\n",
    "    return sigm(predictionsReal, alpha=1)\n",
    "\n",
    "def cross_entropy_error(X, y, w0, wi):\n",
    "    predictions = lr_h(X, w0, wi)\n",
    "    return log_loss(y, predictions) # -(yt log(yp) + (1 - yt) log(1 - yp))\n",
    "\n",
    "def predict(X, w0, wi):\n",
    "    predictions = lr_h(X, w0, wi)\n",
    "    return map(lambda x: 0 if x < 0.5 else 1, predictions)"
   ]
  },
  {
   "cell_type": "markdown",
   "metadata": {},
   "source": [
    "Koristeći funkciju `lr_train`, trenirajte model logističke regresije na skupu `seven`, prikažite dobivenu granicu između klasa te  izračunajte pogrešku unakrsne entropije. \n",
    "\n",
    "**NB:** Pripazite da modelu date dovoljan broj iteracija."
   ]
  },
  {
   "cell_type": "code",
   "execution_count": 62,
   "metadata": {
    "collapsed": false,
    "scrolled": true
   },
   "outputs": [
    {
     "name": "stdout",
     "output_type": "stream",
     "text": [
      "Valley floor has been reached\n",
      "4.45449454204\n",
      "[-1.71089242  0.68413507]\n",
      "[ 0.84772198  0.95627456  0.9838868   0.66598638  0.06112867  0.20368385\n",
      "  0.02278833]\n",
      "[1 1 1 1 0 0 0]\n",
      "0.135218727202\n"
     ]
    },
    {
     "data": {
      "image/png": "[encoded data removed]",
      "text/plain": [
       "<matplotlib.figure.Figure at 0x98f2828>"
      ]
     },
     "metadata": {},
     "output_type": "display_data"
    }
   ],
   "source": [
    "w0, wi = lr_train(seven_X, seven_y)\n",
    "\n",
    "print w0\n",
    "print wi\n",
    "print lr_h(seven_X, w0, wi)\n",
    "print seven_y\n",
    "print cross_entropy_error(seven_X, seven_y, w0, wi)\n",
    "mlutils.plot_2d_clf_problem(seven_X, seven_y, h=lambda x : 0 if lr_h(x, w0, wi) <= 0.5 else 1)"
   ]
  },
  {
   "cell_type": "markdown",
   "metadata": {},
   "source": [
    "#### (c)"
   ]
  },
  {
   "cell_type": "markdown",
   "metadata": {},
   "source": [
    "**Q:** Koji kriterij zaustavljanja je aktiviran?\n",
    "\n",
    "**Q:** Zašto dobivena pogreška unakrsne entropije nije jednaka nuli?\n",
    "\n",
    "**Q:** Kako biste utvrdili da je optimizacijski postupak doista pronašao hipotezu koja minimizira pogrešku učenja? O čemu to ovisi?\n",
    "\n",
    "**Q:** Na koji način biste preinačili kôd ako biste htjeli da se optimizacija izvodi stohastičkim gradijentnim spustom (*online learning*)?"
   ]
  },
  {
   "cell_type": "markdown",
   "metadata": {},
   "source": [
    "#### (d)"
   ]
  },
  {
   "cell_type": "markdown",
   "metadata": {},
   "source": [
    "Prikažite na jednom grafikonu pogrešku unakrsne entropije (očekivanje logističkog gubitka) i pogrešku klasifikacije (očekivanje gubitka 0-1) na skupu `seven` kroz iteracije optimizacijskog postupka. Koristite trag težina funkcije `lr_train` iz zadatka (b) (opcija `trace=True`). Na drugom grafikonu prikažite pogrešku unakrsne entropije kao funkciju broja iteracija za različite stope učenja, $\\eta\\in\\{0.005,0.01,0.05,0.1\\}$."
   ]
  },
  {
   "cell_type": "code",
   "execution_count": null,
   "metadata": {
    "collapsed": true
   },
   "outputs": [],
   "source": [
    "from sklearn.metrics import zero_one_loss"
   ]
  },
  {
   "cell_type": "code",
   "execution_count": null,
   "metadata": {
    "collapsed": false
   },
   "outputs": [],
   "source": [
    "etas = [0.005, 0.01, 0.05, 0.1, 0.25, 0.5, 1.0]\n",
    "for eta in etas:\n",
    "    w0, wi, wHistory = lr_train(seven_X, seven_y, eta=eta, trace=True)\n",
    "    \n",
    "    errors = []\n",
    "    for ws in wHistory:\n",
    "        w0 = ws[0]\n",
    "        wi = ws[1]\n",
    "        error = cross_entropy_error(seven_X, seven_y, w0, wi)\n",
    "        errors.append(error)  \n",
    "        \n",
    "    plt.plot(range(len(wHistory)), errors)\n",
    "\n",
    "plt.xlabel('iterations')\n",
    "plt.ylabel('errors')\n",
    "plt.legend(['eta 0.005 ', 'eta 0.01', 'eta 0.05', 'eta 0.1', 'eta 0.25', 'eta 0.5', 'eta 1.0'])\n",
    "plt.show()\n",
    "\n",
    "for eta in etas:\n",
    "    w0, wi, wHistory = lr_train(seven_X, seven_y, eta=eta, trace=True)\n",
    "    \n",
    "    zeroOnes = []\n",
    "    for ws in wHistory:\n",
    "        w0 = ws[0]\n",
    "        wi = ws[1]\n",
    "        \n",
    "        predictions = predict(seven_X, w0, wi)\n",
    "        zeroOne = zero_one_loss(seven_y, predictions)\n",
    "        zeroOnes.append(zeroOne)\n",
    "        \n",
    "        \n",
    "    plt.plot(range(len(wHistory)), zeroOnes)\n",
    "\n",
    "plt.xlabel('iteration')\n",
    "plt.ylabel('error01')\n",
    "plt.legend(['eta 0.005', 'eta 0.01', 'eta 0.05', 'eta 0.1', 'eta 0.25', 'eta 0.5', 'eta 1.0'])\n",
    "plt.show()"
   ]
  },
  {
   "cell_type": "markdown",
   "metadata": {},
   "source": [
    "\n",
    "**Q:** Zašto je pogreška unakrsne entropije veća od pogreške klasifikacije? Je li to uvijek slučaj kod logističke regresije i zašto?\n",
    "\n",
    "**Q:** Koju stopu učenja $\\eta$ biste odabrali i zašto?"
   ]
  },
  {
   "cell_type": "markdown",
   "metadata": {},
   "source": [
    "#### (e)"
   ]
  },
  {
   "cell_type": "markdown",
   "metadata": {},
   "source": [
    "Upoznajte se s klasom [`linear_model.LogisticRegression`](http://scikit-learn.org/stable/modules/generated/sklearn.linear_model.LogisticRegression.html) koja implementira logističku regresiju. Usporedite rezultat modela na skupu `seven` s rezultatom koji dobivate pomoću vlastite implementacije algoritma.\n",
    "\n",
    "**NB:** Kako ugrađena implementacija koristi naprednije verzije optimizacije funkcije, vrlo je vjerojatno da Vam se rješenja neće poklapati, ali generalne performanse modela bi trebale. Ponovno, pripazite na broj iteracija i snagu regularizacije."
   ]
  },
  {
   "cell_type": "code",
   "execution_count": null,
   "metadata": {
    "collapsed": true
   },
   "outputs": [],
   "source": [
    "from sklearn.linear_model import LogisticRegression"
   ]
  },
  {
   "cell_type": "code",
   "execution_count": null,
   "metadata": {
    "collapsed": false
   },
   "outputs": [],
   "source": [
    "model = LogisticRegression(solver=\"sag\", max_iter=2000)\n",
    "w0, wi, predictions, classificationPrediction, trainError = PerformModel(model, seven_X, seven_y)\n",
    "\n",
    "mlutils.plot_2d_clf_problem(seven_X, seven_y, h=model.predict)"
   ]
  },
  {
   "cell_type": "markdown",
   "metadata": {},
   "source": [
    "### 4. Analiza logističke regresije"
   ]
  },
  {
   "cell_type": "markdown",
   "metadata": {},
   "source": [
    "#### (a)"
   ]
  },
  {
   "cell_type": "markdown",
   "metadata": {},
   "source": [
    "Koristeći ugrađenu implementaciju logističke regresije, provjerite kako se logistička regresija nosi s vrijednostima koje odskaču. Iskoristite skup `outlier` iz prvog zadatka. Prikažite granicu između klasa."
   ]
  },
  {
   "cell_type": "markdown",
   "metadata": {},
   "source": [
    "**Q:** Zašto se rezultat razlikuje od onog koji je dobio model klasifikacije linearnom regresijom iz prvog zadatka?"
   ]
  },
  {
   "cell_type": "code",
   "execution_count": null,
   "metadata": {
    "collapsed": false
   },
   "outputs": [],
   "source": [
    "model = LogisticRegression(solver=\"sag\", max_iter=2000)\n",
    "w0, wi, predictions, classificationPrediction, trainError = PerformModel(model, outlier_X, outlier_y)\n",
    "\n",
    "mlutils.plot_2d_clf_problem(outlier_X, outlier_y, h=model.predict)"
   ]
  },
  {
   "cell_type": "markdown",
   "metadata": {},
   "source": [
    "#### (b)"
   ]
  },
  {
   "cell_type": "markdown",
   "metadata": {},
   "source": [
    "Trenirajte model logističke regresije na skupu `seven` te na dva odvojena grafikona prikažite, kroz iteracije optimizacijskoga algoritma, (1) izlaz modela $h(\\mathbf{x})$ za svih sedam primjera te (2) vrijednosti težina $w_0$, $w_1$, $w_2$.\n"
   ]
  },
  {
   "cell_type": "code",
   "execution_count": null,
   "metadata": {
    "collapsed": false
   },
   "outputs": [],
   "source": [
    "w0, wi, wHistory = lr_train(seven_X, seven_y, trace=True)\n",
    "\n",
    "allPredictions = []\n",
    "w012 = []\n",
    "for ws in wHistory:\n",
    "    w0 = ws[0]\n",
    "    w1 = ws[1][0]\n",
    "    w2 = ws[1][1]\n",
    "    wi = ws[1]\n",
    "\n",
    "    predictions = lr_h(unsep_X, w0, wi)\n",
    "    allPredictions.append(predictions)  \n",
    "    \n",
    "    w012.append([w0, w1, w2])\n",
    "\n",
    "plt.plot(range(len(wHistory)), allPredictions)\n",
    "     \n",
    "plt.xlabel('iteration')\n",
    "plt.ylabel('prediction')\n",
    "plt.legend(['1', '1', '1', '1', '0', '0', '0', '0'])\n",
    "plt.show()\n",
    "\n",
    "plt.plot(range(len(wHistory)), w012)\n",
    "\n",
    "plt.xlabel('iteration')\n",
    "plt.ylabel('parameter')\n",
    "plt.legend(['w0', 'w1', 'w2'])\n",
    "plt.show()"
   ]
  },
  {
   "cell_type": "markdown",
   "metadata": {},
   "source": [
    "#### (c)"
   ]
  },
  {
   "cell_type": "markdown",
   "metadata": {},
   "source": [
    "Ponovite eksperiment iz podzadatka (b) koristeći linearno neodvojiv skup podataka `unsep` iz prvog zadatka."
   ]
  },
  {
   "cell_type": "markdown",
   "metadata": {},
   "source": [
    "**Q:** Usporedite grafikone za slučaj linearno odvojivih i linearno neodvojivih primjera te komentirajte razliku."
   ]
  },
  {
   "cell_type": "code",
   "execution_count": null,
   "metadata": {
    "collapsed": false
   },
   "outputs": [],
   "source": [
    "w0, wi, wHistory = lr_train(unsep_X, unsep_y, trace=True)\n",
    "\n",
    "allPredictions = []\n",
    "w012 = []\n",
    "for ws in wHistory:\n",
    "    w0 = ws[0]\n",
    "    w1 = ws[1][0]\n",
    "    w2 = ws[1][1]\n",
    "    wi = ws[1]\n",
    "\n",
    "    predictions = lr_h(unsep_X, w0, wi)\n",
    "    allPredictions.append(predictions)  \n",
    "    \n",
    "    w012.append([w0, w1, w2])\n",
    "\n",
    "plt.plot(range(len(wHistory)), allPredictions)\n",
    "     \n",
    "plt.xlabel('iteration')\n",
    "plt.ylabel('prediction')\n",
    "plt.legend(['1', '1', '1', '1', '0', '0', '0', '0'])\n",
    "plt.show()\n",
    "\n",
    "plt.plot(range(len(wHistory)), w012)\n",
    "\n",
    "plt.xlabel('iteration')\n",
    "plt.ylabel('parameters')\n",
    "plt.legend(['w0', 'w1', 'w2'])\n",
    "plt.show()"
   ]
  },
  {
   "cell_type": "markdown",
   "metadata": {},
   "source": [
    "### 5. Regularizirana logistička regresija"
   ]
  },
  {
   "cell_type": "markdown",
   "metadata": {},
   "source": [
    "Trenirajte model logističke regresije na skupu `seven` s različitim faktorima L2-regularizacije, $\\alpha\\in\\{0,1,10,100\\}$. Prikažite na dva odvojena grafikona (1) pogrešku unakrsne entropije te (2) L2-normu vektora $\\mathbf{w}$ kroz iteracije optimizacijskog algoritma."
   ]
  },
  {
   "cell_type": "markdown",
   "metadata": {},
   "source": [
    "**Q:** Jesu li izgledi krivulja očekivani i zašto?\n",
    "\n",
    "**Q:** Koju biste vrijednost za $\\alpha$ odabrali i zašto?"
   ]
  },
  {
   "cell_type": "code",
   "execution_count": null,
   "metadata": {
    "collapsed": true
   },
   "outputs": [],
   "source": [
    "from numpy.linalg import norm"
   ]
  },
  {
   "cell_type": "code",
   "execution_count": null,
   "metadata": {
    "collapsed": false
   },
   "outputs": [],
   "source": [
    "alphas = [0, 1, 10, 100]\n",
    "for alpha in alphas:\n",
    "    w0, wi, wHistory = lr_train(seven_X, seven_y, alpha=alpha, trace=True)\n",
    "    \n",
    "    errors = []\n",
    "    for ws in wHistory:\n",
    "        w0 = ws[0]\n",
    "        wi = ws[1]\n",
    "        \n",
    "        error = cross_entropy_error(seven_X, seven_y, w0, wi)\n",
    "        errors.append(error)  \n",
    "\n",
    "    plt.plot(range(len(wHistory)), errors)\n",
    "\n",
    "plt.xlabel('iteration')\n",
    "plt.ylabel('error')\n",
    "plt.legend(['alpha 0', 'alpha 1', 'alpha 10', 'alpha 100'])\n",
    "plt.show()\n",
    "\n",
    "for alpha in alphas:\n",
    "    w0, wi, wHistory = lr_train(seven_X, seven_y, alpha=alpha, trace=True)\n",
    "    \n",
    "    l2_norms = []\n",
    "    for ws in wHistory:\n",
    "        w0 = ws[0]\n",
    "        w1 = ws[1][0]\n",
    "        w2 = ws[1][1]\n",
    "        \n",
    "        w012 = np.array([w0, w1, w2])\n",
    "        l2_norms.append(linalg.norm(w012, 2))\n",
    "\n",
    "    plt.plot(range(len(wHistory)), l2_norms)\n",
    "\n",
    "plt.xlabel('iteration')\n",
    "plt.ylabel('l2 norm')\n",
    "plt.legend(['alpha 0', 'alpha 1', 'alpha 10', 'alpha 100'])\n",
    "plt.show()"
   ]
  },
  {
   "cell_type": "markdown",
   "metadata": {},
   "source": [
    "### 6. Logistička regresija s funkcijom preslikavanja"
   ]
  },
  {
   "cell_type": "markdown",
   "metadata": {},
   "source": [
    "Proučite funkciju [`datasets.make_classification`](http://scikit-learn.org/stable/modules/generated/sklearn.datasets.make_classification.html). Generirajte i prikažite dvoklasan skup podataka s ukupno $N=100$ dvodimenzijskih ($n=2)$ primjera, i to sa dvije grupe po klasi (`n_clusters_per_class=2`). Malo je izgledno da će tako generiran skup biti linearno odvojiv, međutim to nije problem jer primjere možemo preslikati u višedimenzijski prostor značajki pomoću klase [`preprocessing.PolynomialFeatures`](http://scikit-learn.org/stable/modules/generated/sklearn.preprocessing.PolynomialFeatures.html), kao što smo to učinili kod linearne regresije u prvoj laboratorijskoj vježbi. Trenirajte model logističke regresije koristeći za preslikavanje u prostor značajki polinomijalnu funkciju stupnja $d=2$ i stupnja $d=3$. Prikažite dobivene granice između klasa. Možete koristiti svoju implementaciju, ali se radi brzine preporuča koristiti `linear_model.LogisticRegression`. Regularizacijski faktor odaberite po želji.\n",
    "\n",
    "**NB:** Kao i ranije, za prikaz granice između klasa koristite funkciju `plot_2d_clf_problem`. Funkciji kao argumente predajte izvorni skup podataka, a preslikavanje u prostor značajki napravite unutar poziva funkcije `h` koja čini predikciju, na sljedeći način:"
   ]
  },
  {
   "cell_type": "code",
   "execution_count": null,
   "metadata": {
    "collapsed": true
   },
   "outputs": [],
   "source": [
    "from sklearn.preprocessing import PolynomialFeatures"
   ]
  },
  {
   "cell_type": "code",
   "execution_count": null,
   "metadata": {
    "collapsed": false
   },
   "outputs": [],
   "source": [
    "X6, y6 = make_classification(n_samples=100, n_features=2, n_informative=2, n_redundant=0, n_repeated=0, n_classes=2, n_clusters_per_class=2)\n",
    "#y6 is either 0,1\n",
    "mlutils.plot_2d_clf_problem(X6, y6, h=None)"
   ]
  },
  {
   "cell_type": "code",
   "execution_count": null,
   "metadata": {
    "collapsed": false
   },
   "outputs": [],
   "source": [
    "degrees = [2, 3]\n",
    "Cs = [1, 0.1]\n",
    "\n",
    "for degree in degrees:\n",
    "    for C in Cs:\n",
    "        features = PolynomialFeatures(degree)\n",
    "        X6Poly = features.fit_transform(X6)\n",
    "\n",
    "        model = LogisticRegression(solver=\"sag\", max_iter=2000, C=C)\n",
    "\n",
    "        model.fit(X6Poly, y6)\n",
    "        mlutils.plot_2d_clf_problem(X6, y6, h= lambda x: model.predict(features.transform(x)))\n",
    "        plt.show()"
   ]
  },
  {
   "cell_type": "markdown",
   "metadata": {},
   "source": [
    "**Q:** Koji biste stupanj polinoma upotrijebili i zašto? Je li taj odabir povezan s odabirom regularizacijskog faktora $\\alpha$? Zašto?"
   ]
  }
 ],
 "metadata": {
  "anaconda-cloud": {},
  "kernelspec": {
   "display_name": "Python 2",
   "language": "python",
   "name": "python2"
  },
  "language_info": {
   "codemirror_mode": {
    "name": "ipython",
    "version": 2
   },
   "file_extension": ".py",
   "mimetype": "text/x-python",
   "name": "python",
   "nbconvert_exporter": "python",
   "pygments_lexer": "ipython2",
   "version": "2.7.13"
  }
 },
 "nbformat": 4,
 "nbformat_minor": 2
}
