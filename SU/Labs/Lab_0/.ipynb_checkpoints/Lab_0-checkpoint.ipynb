{
 "cells": [
  {
   "cell_type": "code",
   "execution_count": 143,
   "metadata": {
    "collapsed": false
   },
   "outputs": [],
   "source": [
    "import numpy as np\n",
    "import scipy as sp\n",
    "import matplotlib.pyplot as plt\n",
    "import pandas as pd"
   ]
  },
  {
   "cell_type": "markdown",
   "metadata": {},
   "source": [
    "Task 1:"
   ]
  },
  {
   "cell_type": "code",
   "execution_count": 144,
   "metadata": {
    "collapsed": true
   },
   "outputs": [],
   "source": [
    "a = [2,4,5,6,8,13]\n",
    "b = [1,3,10,13,15]"
   ]
  },
  {
   "cell_type": "code",
   "execution_count": 145,
   "metadata": {
    "collapsed": false
   },
   "outputs": [
    {
     "name": "stdout",
     "output_type": "stream",
     "text": [
      "[2, 4, 5, 6, 8, 13, 1, 3, 10, 13, 15]\n"
     ]
    }
   ],
   "source": [
    "c = []\n",
    "c.extend(a)\n",
    "c.extend(b)\n",
    "#c = a.extend(b) will not work! Why?\n",
    "#My answer: because extend() returns nothing!\n",
    "print c"
   ]
  },
  {
   "cell_type": "code",
   "execution_count": 146,
   "metadata": {
    "collapsed": false
   },
   "outputs": [
    {
     "name": "stdout",
     "output_type": "stream",
     "text": [
      "[1, 2, 3, 4, 5, 6, 8, 10, 13, 13, 15]\n"
     ]
    }
   ],
   "source": [
    "c.sort()\n",
    "print c"
   ]
  },
  {
   "cell_type": "code",
   "execution_count": 147,
   "metadata": {
    "collapsed": false
   },
   "outputs": [
    {
     "name": "stdout",
     "output_type": "stream",
     "text": [
      "[1, 2, 3, 4, 5, 6, 8, 10, 13, 15]\n"
     ]
    }
   ],
   "source": [
    "lastNumber = c[0]\n",
    "d = [lastNumber]\n",
    "for index in xrange(1, len(c)):\n",
    "    if lastNumber != c[index]:\n",
    "        d.append(c[index])\n",
    "        lastNumber = c[index]\n",
    "print d"
   ]
  },
  {
   "cell_type": "code",
   "execution_count": 148,
   "metadata": {
    "collapsed": false
   },
   "outputs": [
    {
     "name": "stdout",
     "output_type": "stream",
     "text": [
      "3\n",
      "[13, 15]\n",
      "[3, 4, 5]\n"
     ]
    }
   ],
   "source": [
    "print d[2]\n",
    "print d[-2:]\n",
    "print d[2:5]"
   ]
  },
  {
   "cell_type": "code",
   "execution_count": 149,
   "metadata": {
    "collapsed": false
   },
   "outputs": [
    {
     "name": "stdout",
     "output_type": "stream",
     "text": [
      "[2, 3, 4, 5, 6, 7, 8, 9, 10, 11, 12, 13, 14, 15, 16, 17, 18, 19, 20]\n"
     ]
    }
   ],
   "source": [
    "ran = range(2, 21)\n",
    "print ran"
   ]
  },
  {
   "cell_type": "code",
   "execution_count": 150,
   "metadata": {
    "collapsed": false
   },
   "outputs": [
    {
     "name": "stdout",
     "output_type": "stream",
     "text": [
      "0 2\n",
      "1 3\n",
      "2 4\n",
      "3 5\n",
      "4 6\n",
      "5 7\n",
      "6 8\n",
      "7 9\n",
      "8 10\n",
      "9 11\n",
      "10 12\n",
      "11 13\n",
      "12 14\n",
      "13 15\n",
      "14 16\n",
      "15 17\n",
      "16 18\n",
      "17 19\n",
      "18 20\n"
     ]
    }
   ],
   "source": [
    "for index in xrange(len(ran)):\n",
    "    print index,\n",
    "    print ran[index]"
   ]
  },
  {
   "cell_type": "code",
   "execution_count": 151,
   "metadata": {
    "collapsed": false
   },
   "outputs": [
    {
     "name": "stdout",
     "output_type": "stream",
     "text": [
      "[0.69314718055994529, 1.0986122886681098, 1.3862943611198906, 1.6094379124341003, 1.791759469228055, 1.9459101490553132, 2.0794415416798357, 2.1972245773362196, 2.3025850929940459, 2.3978952727983707, 2.4849066497880004, 2.5649493574615367, 2.6390573296152584, 2.7080502011022101, 2.7725887222397811, 2.8332133440562162, 2.8903717578961645, 2.9444389791664403, 2.9957322735539909]\n"
     ]
    }
   ],
   "source": [
    "ran = [log(number) for number in ran]\n",
    "print ran"
   ]
  },
  {
   "cell_type": "markdown",
   "metadata": {},
   "source": [
    "Task 2:"
   ]
  },
  {
   "cell_type": "code",
   "execution_count": 152,
   "metadata": {
    "collapsed": false
   },
   "outputs": [
    {
     "name": "stdout",
     "output_type": "stream",
     "text": [
      "fixes\n",
      "brushes\n",
      "cries\n",
      "plaies\n",
      "echoes\n"
     ]
    }
   ],
   "source": [
    "def make_3sg_form(word):\n",
    "    if word[-1] == \"y\":\n",
    "        return word[:-1]+\"ies\"\n",
    "    if word[-1] in (\"o\",\"s\",\"x\",\"z\"):\n",
    "        return word+\"es\"\n",
    "    if word[-2:] in (\"ch\",\"sh\"):\n",
    "        return word+\"es\"\n",
    "    return word + \"s\"\n",
    "words = [\"fix\", \"brush\", \"cry\", \"play\", \"echo\"]\n",
    "for word in words:\n",
    "    print make_3sg_form(word)"
   ]
  },
  {
   "cell_type": "markdown",
   "metadata": {},
   "source": [
    "Task 3:"
   ]
  },
  {
   "cell_type": "code",
   "execution_count": 153,
   "metadata": {
    "collapsed": false
   },
   "outputs": [
    {
     "name": "stdout",
     "output_type": "stream",
     "text": [
      "['hello', 'greetings']\n"
     ]
    }
   ],
   "source": [
    "def filterShortWords(word_list, min_length=2):\n",
    "    if min_length < 1:\n",
    "        raise Expection(\"Length less then 1\")\n",
    "    return [word for word in word_list if (len(word) > min_length)]\n",
    "\n",
    "words = [\"hi\", \"hello\", \"hey\", \"greetings\", \"hail\"]\n",
    "print filterShortWords(words, 4)"
   ]
  },
  {
   "cell_type": "markdown",
   "metadata": {},
   "source": [
    "Task 4:"
   ]
  },
  {
   "cell_type": "code",
   "execution_count": 154,
   "metadata": {
    "collapsed": true
   },
   "outputs": [],
   "source": [
    "langs_paradigms = {\n",
    "                  \"Java\" : [\"object-oriented\", \"imperative\"],\n",
    "                  \"Haskell\" : [\"functional\"],\n",
    "                  \"Lisp\" : [\"functional\", \"procedural\"]\n",
    "                  }"
   ]
  },
  {
   "cell_type": "code",
   "execution_count": 155,
   "metadata": {
    "collapsed": false
   },
   "outputs": [
    {
     "name": "stdout",
     "output_type": "stream",
     "text": [
      "{'Lisp': ['functional', 'procedural'], 'Haskell': ['functional'], 'Java': ['object-oriented', 'imperative']}\n",
      "['functional', 'procedural']\n",
      "['functional', 'procedural', 'myOwn']\n"
     ]
    }
   ],
   "source": [
    "class ProgLanguageRepository(object):\n",
    "    def __init__(self, langDict):\n",
    "        self.data = langDict\n",
    "    def count(self):\n",
    "        return len(self.data)\n",
    "    def get_langs_paradigms(self, lang):\n",
    "        return self.data.get(lang)\n",
    "    def add_lang_paradigm(self, lang, paradigm):\n",
    "        if paradigm not in self.data.get(lang):\n",
    "            self.data[lang].append(paradigm)\n",
    "    #Terribly boring basic class ...\n",
    "rep = ProgLanguageRepository(langs_paradigms)\n",
    "print rep.data\n",
    "print rep.get_langs_paradigms(\"Lisp\")\n",
    "rep.add_lang_paradigm(\"Lisp\", \"myOwn\")\n",
    "rep.add_lang_paradigm(\"Lisp\", \"myOwn\")\n",
    "print rep.get_langs_paradigms(\"Lisp\")"
   ]
  },
  {
   "cell_type": "markdown",
   "metadata": {},
   "source": [
    "Task 5:"
   ]
  },
  {
   "cell_type": "code",
   "execution_count": 156,
   "metadata": {
    "collapsed": false,
    "scrolled": true
   },
   "outputs": [
    {
     "name": "stdout",
     "output_type": "stream",
     "text": [
      "[[1]\n",
      " [2]]\n",
      "[4 0]\n",
      "[[ 5  3]\n",
      " [10  6]]\n"
     ]
    }
   ],
   "source": [
    "x1 = np.array([[1],[2]])\n",
    "x2 = np.array([[3],[5]])\n",
    "x3 = np.array([[-3],[4]])\n",
    "x4 = np.array([4,0])\n",
    "A = np.array([[5,3],[10,6]])\n",
    "print x1\n",
    "print x4\n",
    "print A"
   ]
  },
  {
   "cell_type": "markdown",
   "metadata": {},
   "source": [
    "[Numpy Quickstart](https://docs.scipy.org/doc/numpy-1.13.0/user/quickstart.html#stacking-together-different-arrays)\n",
    "\n",
    "[Linear Algebra](https://docs.scipy.org/doc/numpy-1.13.0/reference/routines.linalg.html)\n",
    "\n",
    "[Array manipulation routines](https://docs.scipy.org/doc/numpy-1.13.0/reference/routines.array-manipulation.html)\n",
    "  - Horizontal and vertical stacking"
   ]
  },
  {
   "cell_type": "code",
   "execution_count": 158,
   "metadata": {
    "collapsed": false
   },
   "outputs": [
    {
     "name": "stdout",
     "output_type": "stream",
     "text": [
      "[[ 1  3 -3]\n",
      " [ 2  5  4]]\n",
      "[[ 1  3 -3]\n",
      " [ 2  5  4]]\n",
      "[[ 4  0]\n",
      " [ 5  3]\n",
      " [10  6]]\n"
     ]
    }
   ],
   "source": [
    "print np.hstack((x1, x2, x3))\n",
    "C = np.array(np.hstack((x1, x2, x3)))\n",
    "print C\n",
    "D = np.array(np.vstack((x4, A)))\n",
    "print D"
   ]
  },
  {
   "cell_type": "code",
   "execution_count": 160,
   "metadata": {
    "collapsed": false
   },
   "outputs": [
    {
     "name": "stdout",
     "output_type": "stream",
     "text": [
      "[[-11  -9]\n",
      " [ 73  39]]\n"
     ]
    }
   ],
   "source": [
    "U = np.dot(C, D)\n",
    "print U"
   ]
  },
  {
   "cell_type": "code",
   "execution_count": 163,
   "metadata": {
    "collapsed": false
   },
   "outputs": [
    {
     "name": "stdout",
     "output_type": "stream",
     "text": [
      "[[ 0.17105263  0.03947368]\n",
      " [-0.32017544 -0.04824561]]\n",
      "[[ 0.17105263 -0.32017544]\n",
      " [ 0.03947368 -0.04824561]]\n"
     ]
    }
   ],
   "source": [
    "I = np.linalg.inv(U)\n",
    "print I\n",
    "R = np.transpose(I)\n",
    "print R"
   ]
  },
  {
   "cell_type": "code",
   "execution_count": 164,
   "metadata": {
    "collapsed": false
   },
   "outputs": [
    {
     "ename": "SyntaxError",
     "evalue": "invalid syntax (<ipython-input-164-2dddd125933a>, line 1)",
     "output_type": "error",
     "traceback": [
      "\u001b[0;36m  File \u001b[0;32m\"<ipython-input-164-2dddd125933a>\"\u001b[0;36m, line \u001b[0;32m1\u001b[0m\n\u001b[0;31m    D_total =\u001b[0m\n\u001b[0m             ^\u001b[0m\n\u001b[0;31mSyntaxError\u001b[0m\u001b[0;31m:\u001b[0m invalid syntax\n"
     ]
    }
   ],
   "source": [
    "D_total ="
   ]
  },
  {
   "cell_type": "code",
   "execution_count": 166,
   "metadata": {
    "collapsed": false
   },
   "outputs": [
    {
     "name": "stdout",
     "output_type": "stream",
     "text": [
      "0.00438596491228\n"
     ]
    }
   ],
   "source": [
    "print np.linalg.det(R)"
   ]
  },
  {
   "cell_type": "code",
   "execution_count": 167,
   "metadata": {
    "collapsed": false
   },
   "outputs": [
    {
     "name": "stdout",
     "output_type": "stream",
     "text": [
      "[[ 1.  0.]\n",
      " [ 0.  1.]]\n"
     ]
    }
   ],
   "source": [
    "print np.dot(R, np.linalg.inv(R))"
   ]
  },
  {
   "cell_type": "code",
   "execution_count": 169,
   "metadata": {
    "collapsed": false
   },
   "outputs": [
    {
     "name": "stdout",
     "output_type": "stream",
     "text": [
      "[[ 0.]\n",
      " [ 0.]\n",
      " [ 0.]\n",
      " [ 0.]]\n"
     ]
    }
   ],
   "source": [
    "zeroes = np.zeros((4,1))\n",
    "print zeroes"
   ]
  },
  {
   "cell_type": "markdown",
   "metadata": {},
   "source": [
    "Task 6:"
   ]
  },
  {
   "cell_type": "code",
   "execution_count": null,
   "metadata": {
    "collapsed": true
   },
   "outputs": [],
   "source": []
  }
 ],
 "metadata": {
  "kernelspec": {
   "display_name": "Python 2",
   "language": "python",
   "name": "python2"
  },
  "language_info": {
   "codemirror_mode": {
    "name": "ipython",
    "version": 2
   },
   "file_extension": ".py",
   "mimetype": "text/x-python",
   "name": "python",
   "nbconvert_exporter": "python",
   "pygments_lexer": "ipython2",
   "version": "2.7.13"
  }
 },
 "nbformat": 4,
 "nbformat_minor": 2
}
