{
 "cells": [
  {
   "cell_type": "markdown",
   "metadata": {},
   "source": [
    "Sveučilište u Zagrebu  \n",
    "Fakultet elektrotehnike i računarstva  \n",
    "  \n",
    "## Strojno učenje 2017/2018  \n",
    "http://www.fer.unizg.hr/predmet/su"
   ]
  },
  {
   "cell_type": "markdown",
   "metadata": {},
   "source": [
    "------------------------------\n",
    "\n",
    "### Laboratorijska vježba 4: Ansambli i procjena parametara\n",
    "\n",
    "*Verzija: 0.1  \n",
    "Zadnji put ažurirano: 11. prosinca 2017.*\n",
    "\n",
    "(c) 2015-2017 Jan Šnajder, Domagoj Alagić  \n",
    "\n",
    "Objavljeno: **11. prosinca 2017.**  \n",
    "Rok za predaju: **18. prosinca 2017. u 07:00h**\n",
    "\n",
    "------------------------------"
   ]
  },
  {
   "cell_type": "markdown",
   "metadata": {},
   "source": [
    "Objavljeno: **6. prosinca 2016.**<br>\n",
    "Rok za predaju: U terminu vježbe u tjednu od **12. prosinca 2016.**"
   ]
  },
  {
   "cell_type": "markdown",
   "metadata": {},
   "source": [
    "### Upute\n",
    "\n",
    "Četvrta laboratorijska vježba sastoji se od **četiri** zadatka. Kako bi kvalitetnije, ali i na manje zamoran način usvojili gradivo ovog kolegija, potrudili smo se uključiti tri vrste zadataka: **1)** implementacija manjih algoritama, modela ili postupaka; **2)** eksperimenti s raznim modelima te njihovim hiperparametrima, te **3)** primjena modela na (stvarnim) podatcima. Ovim zadatcima pokrivamo dvije paradigme učenja: učenje izgradnjom (engl. *learning by building*) i učenje eksperimentiranjem (engl. *learning by experimenting*).\n",
    "\n",
    "U nastavku slijedite upute navedene u ćelijama s tekstom. Rješavanje vježbe svodi se na **dopunjavanje ove bilježnice**: umetanja ćelije ili više njih **ispod** teksta zadatka, pisanja odgovarajućeg kôda te evaluiranja ćelija. \n",
    "\n",
    "Osigurajte da u potpunosti **razumijete** kôd koji ste napisali. Kod predaje vježbe, morate biti u stanju na zahtjev asistenta (ili demonstratora) preinačiti i ponovno evaluirati Vaš kôd. Nadalje, morate razumjeti teorijske osnove onoga što radite, u okvirima onoga što smo obradili na predavanju. Ispod nekih zadataka možete naći i pitanja koja služe kao smjernice za bolje razumijevanje gradiva (**nemojte pisati** odgovore na pitanja u bilježnicu). Stoga se nemojte ograničiti samo na to da riješite zadatak, nego slobodno eksperimentirajte. To upravo i jest svrha ovih vježbi.\n",
    "\n",
    "Vježbe trebate raditi **samostalno**. Možete se konzultirati s drugima o načelnom načinu rješavanja, ali u konačnici morate sami odraditi vježbu. U protivnome vježba nema smisla."
   ]
  },
  {
   "cell_type": "code",
   "execution_count": 1,
   "metadata": {
    "collapsed": false
   },
   "outputs": [
    {
     "name": "stdout",
     "output_type": "stream",
     "text": [
      "Populating the interactive namespace from numpy and matplotlib\n"
     ]
    }
   ],
   "source": [
    "# Učitaj osnovne biblioteke...\n",
    "import sklearn\n",
    "import mlutils\n",
    "import numpy as np\n",
    "import scipy as sp\n",
    "import matplotlib.pyplot as plt\n",
    "%pylab inline"
   ]
  },
  {
   "cell_type": "markdown",
   "metadata": {},
   "source": [
    "### 1. Ansambli (glasovanje)"
   ]
  },
  {
   "cell_type": "markdown",
   "metadata": {},
   "source": [
    "#### (a)\n",
    "\n",
    "Vaš je zadatak napisati razred `VotingClassifierDIY` koji implementira glasački ansambl. Konstruktor razreda ima **dva** parametra: `clfs` koji predstavlja listu klasifikatora (objekata iz paketa `sklearn`) i `voting_scheme` koji označava radi li se o glasovanju prebrojavanjem (`SCHEME_COUNTING`) ili usrednjavanjem (`SCHEME_AVERAGING`). Glasovanje prebrojavanjem jednostavno vraća najčešću oznaku klase, dok glasovanje usrednjavanjem uprosječuje pouzdanosti klasifikacije u neku klasu (po svim klasifikatorima) te vraća onu s najvećom pouzdanošću. Primijetite da svi klasifikatori imaju jednake težine. O komplementarnosti klasifikatora vodimo računa tako da koristimo jednake klasifikatore s različitim hiperparametrima.\n",
    "\n",
    "Razred sadržava metode `fit(X, y)` za učenje ansambla i dvije metode za predikciju: `predict(X)` i `predict_proba(X)`. Prva vraća predviđene oznake klasa, a druga vjerojatnosti pripadanja svakoj od klasa za svaki od danih primjera iz `X`.\n",
    "\n",
    "**NB:** Jedan od razreda koji bi Vam mogao biti koristan jest [`collections.Counter`](https://docs.python.org/2/library/collections.html#collections.Counter). Također vrijedi i za funkcije [`numpy.argmax`](https://docs.scipy.org/doc/numpy/reference/generated/numpy.argmax.html) i [`numpy.dstack`](https://docs.scipy.org/doc/numpy/reference/generated/numpy.dstack.html)."
   ]
  },
  {
   "cell_type": "code",
   "execution_count": 2,
   "metadata": {
    "collapsed": true
   },
   "outputs": [],
   "source": [
    "from collections import Counter\n",
    "\n",
    "class VotingClassifierDIY(object):\n",
    "    \n",
    "    SCHEME_COUNTING = \"counting\"\n",
    "    SCHEME_AVERAGING = \"averaging\"\n",
    "    \n",
    "    def __init__(self, clfs, voting_scheme=SCHEME_COUNTING):\n",
    "        # Vaš kôd ovdje...\n",
    "        pass\n",
    "        \n",
    "    def fit(self, X, y):\n",
    "        # Vaš kôd ovdje...\n",
    "        pass\n",
    "    \n",
    "    def predict_proba(self, X):\n",
    "        # Vaš kôd ovdje...\n",
    "        pass\n",
    "    \n",
    "    def predict(self, X):\n",
    "        # Vaš kôd ovdje...\n",
    "        pass"
   ]
  },
  {
   "cell_type": "markdown",
   "metadata": {},
   "source": [
    "#### (b)\n",
    "\n",
    "Uvjerite se da Vaša implementacija radi jednako onoj u razredu [`ensemble.VotingClassifier`](http://scikit-learn.org/stable/modules/generated/sklearn.ensemble.VotingClassifier.html), i to pri oba načina glasovanja (parametar `voting`). Parametar `weights` ostavite na pretpostavljenoj vrijednosti. Za ovu provjeru koristite tri klasifikatora logističke regresije s različitom stopom regularizacije i brojem iteracija. Koristite skup podataka dan u nastavku. Ekvivalentnost implementacije najlakše je provjeriti usporedbom izlaza funkcije `predict` (kod prebrojavanja) i funkcije `predict_proba` (kod usrednjavanja).\n",
    "\n",
    "**NB:** Ne koristimo SVM jer njegova ugrađena (probabilistička) implementacija nije posve deterministička, što bi onemogućilo robusnu provjeru Vaše implementacije."
   ]
  },
  {
   "cell_type": "code",
   "execution_count": 3,
   "metadata": {
    "collapsed": true
   },
   "outputs": [],
   "source": [
    "from sklearn.datasets import make_classification\n",
    "from sklearn.ensemble import VotingClassifier\n",
    "from sklearn.linear_model import LogisticRegression\n",
    "\n",
    "X_voting, y_voting = make_classification(n_samples=1000, n_features=4, n_redundant=0, n_informative=3, n_classes=3, n_clusters_per_class=2)"
   ]
  },
  {
   "cell_type": "code",
   "execution_count": 4,
   "metadata": {
    "collapsed": true
   },
   "outputs": [],
   "source": [
    "# Vaš kôd ovdje..."
   ]
  },
  {
   "cell_type": "markdown",
   "metadata": {},
   "source": [
    "**Q:** Kada je prebrojavanje bolje od usrednjavanja? Zašto? A obratno?  \n",
    "**Q:** Bi li se ovakav algoritam mogao primijeniti na regresiju? Kako?"
   ]
  },
  {
   "cell_type": "markdown",
   "metadata": {},
   "source": [
    "### 2. Ansambli (*bagging*)"
   ]
  },
  {
   "cell_type": "markdown",
   "metadata": {},
   "source": [
    "U ovom zadatku ćete isprobati tipičnog predstavnika *bagging*-algoritma, **algoritam slučajnih šuma**. Pitanje na koje želimo odgovoriti jest kako se ovakvi algoritmi nose s prenaučenošću, odnosno, smanjuje li *bagging* varijancu modela.\n",
    "\n",
    "Eksperiment ćete provesti na danom skupu podataka:"
   ]
  },
  {
   "cell_type": "code",
   "execution_count": 5,
   "metadata": {
    "collapsed": false
   },
   "outputs": [
    {
     "name": "stderr",
     "output_type": "stream",
     "text": [
      "C:\\Anaconda2\\lib\\site-packages\\sklearn\\cross_validation.py:44: DeprecationWarning: This module was deprecated in version 0.18 in favor of the model_selection module into which all the refactored classes and functions are moved. Also note that the interface of the new CV iterators are different from that of this module. This module will be removed in 0.20.\n",
      "  \"This module will be removed in 0.20.\", DeprecationWarning)\n"
     ]
    }
   ],
   "source": [
    "from sklearn.cross_validation import train_test_split\n",
    "\n",
    "X_bag, y_bag = make_classification(n_samples=1000, n_features=20, n_redundant=1, n_informative=17, n_classes=3, n_clusters_per_class=2)\n",
    "X_bag_train, X_bag_test, y_bag_train, y_bag_test = train_test_split(X_bag, y_bag, train_size=0.7, random_state=69)"
   ]
  },
  {
   "cell_type": "markdown",
   "metadata": {},
   "source": [
    "Razred koji implementira stablo odluke jest [`tree.DecisionTreeClassifier`](http://scikit-learn.org/stable/modules/generated/sklearn.tree.DecisionTreeClassifier.html). Prvo naučite **stablo odluke** (engl. *decision tree*) na skupu za učenje, ali tako da je taj model presložen. To možete postići tako da povećate najveću moguću dubinu stabla (parametar `max_depth`). Ispišite pogrešku na skupu za ispitivanje (pogrešku 0-1; pogledajte paket [`metrics`](http://scikit-learn.org/stable/modules/classes.html#module-sklearn.metrics))."
   ]
  },
  {
   "cell_type": "code",
   "execution_count": 6,
   "metadata": {
    "collapsed": false
   },
   "outputs": [],
   "source": [
    "from sklearn.tree import DecisionTreeClassifier\n",
    "from sklearn.metrics import zero_one_loss\n",
    "\n",
    "# Vaš kôd ovdje..."
   ]
  },
  {
   "cell_type": "markdown",
   "metadata": {},
   "source": [
    "Sada isprobajte algoritam slučajnih šuma (dostupan u razredu [`ensemble.RandomForestClassifier`](http://scikit-learn.org/stable/modules/generated/sklearn.ensemble.RandomForestClassifier.html)) za različit broj stabala $L \\in [1, 30]$. Iscrtajte pogrešku na skupu za učenje i na skupu za ispitivanje u ovisnosti o tom hiperparametru. Ispišite najmanju pogrešku na skupu za ispitivanje."
   ]
  },
  {
   "cell_type": "code",
   "execution_count": 7,
   "metadata": {
    "collapsed": false
   },
   "outputs": [],
   "source": [
    "from sklearn.ensemble import RandomForestClassifier\n",
    "\n",
    "# Vaš kôd ovdje..."
   ]
  },
  {
   "cell_type": "markdown",
   "metadata": {},
   "source": [
    "**Q:** Što možete zaključiti iz ovih grafikona?  \n",
    "**Q:** Kako *bagging* postiže diverzifikaciju pojedinačnih osnovnih modela?  \n",
    "**Q:** Koristi li ovaj algoritam složeni ili jednostavni osnovni model? Zašto?"
   ]
  },
  {
   "cell_type": "markdown",
   "metadata": {},
   "source": [
    "### 3. Ansambli (*boosting*)"
   ]
  },
  {
   "cell_type": "markdown",
   "metadata": {},
   "source": [
    "U ovom zadatku pogledat ćemo klasifikacijski algoritam AdaBoost, koji je implementiran u razredu [`ensemble.AdaBoostClassifier`](http://scikit-learn.org/stable/modules/generated/sklearn.ensemble.AdaBoostClassifier.html). Ovaj algoritam tipičan je predstavnik *boosting*-algoritama.\n",
    "\n",
    "Najprije ćemo generirati eksperimentalni skup podataka koristeći [`datasets.make_circles`](http://scikit-learn.org/stable/modules/generated/sklearn.datasets.make_circles.html). Ova funkcija stvara dvodimenzijski klasifikacijski problem u kojem su dva razreda podataka raspoređena u obliku kružnica, tako da je jedan razred unutar drugog."
   ]
  },
  {
   "cell_type": "code",
   "execution_count": 8,
   "metadata": {
    "collapsed": false
   },
   "outputs": [
    {
     "data": {
      "image/png": "[encoded data removed]",
      "text/plain": [
       "<matplotlib.figure.Figure at 0xb819748>"
      ]
     },
     "metadata": {},
     "output_type": "display_data"
    }
   ],
   "source": [
    "from sklearn.datasets import make_circles\n",
    "\n",
    "circ_X, circ_y = make_circles(n_samples=400, noise=0.1, factor=0.4)\n",
    "mlutils.plot_2d_clf_problem(circ_X, circ_y)"
   ]
  },
  {
   "cell_type": "markdown",
   "metadata": {},
   "source": [
    "#### (a)\n",
    "\n",
    "*Boosting*, kao vrsta ansambla, također se temelji na kombinaciji više klasifikatora s ciljem boljih prediktivnih sposobnosti. Međutim, ono što ovakav tip ansambla čini zanimljivim jest to da za osnovni klasifikator traži **slabi klasifikator** (engl. *weak classifier*), odnosno klasifikator koji radi tek malo bolje od nasumičnog pogađanja. Često korišteni klasifikator za tu svrhu jest **panj odluke** (engl. *decision stump*), koji radi predikciju na temelju samo jedne značajke ulaznih primjera. Panj odluke specijalizacija je **stabla odluke** (engl. *decision tree*) koje smo već spomenuli. Panj odluke stablo je dubine 1. Stabla odluke implementirana su u razredu [`tree.DecisionTreeClassifier`](http://scikit-learn.org/stable/modules/generated/sklearn.tree.DecisionTreeClassifier.html).\n",
    "\n",
    "Radi ilustracije, naučite ansambl (AdaBoost) koristeći panj odluke kao osnovni klasifikator, ali pritom isprobavajući različit broj klasifikatora u ansamblu iz skupa $L \\in \\{1, 2, 3, 50\\}$. Prikažite decizijske granice na danom skupu podataka za svaku od vrijednosti korištenjem pomoćne funkcije `mlutils.plot_2d_clf_problem`.\n",
    "\n",
    "**NB:** Još jedan dokaz da hrvatska terminologija zaista može biti smiješna. :)"
   ]
  },
  {
   "cell_type": "code",
   "execution_count": 9,
   "metadata": {
    "collapsed": false
   },
   "outputs": [],
   "source": [
    "from sklearn.ensemble import AdaBoostClassifier\n",
    "from sklearn.tree import DecisionTreeClassifier\n",
    "\n",
    "# Vaš kôd ovdje..."
   ]
  },
  {
   "cell_type": "markdown",
   "metadata": {},
   "source": [
    "**Q:** Kako AdaBoost radi? Ovise li izlazi pojedinih osnovnih modela o onima drugih?  \n",
    "**Q:** Je li AdaBoost linearan klasifikator? Pojasnite."
   ]
  },
  {
   "cell_type": "markdown",
   "metadata": {},
   "source": [
    "#### (b)\n",
    "\n",
    "Kao što je i za očekivati, broj klasifikatora $L$ u ansamblu predstavlja hiperparametar algoritma *AdaBoost*. U ovom zadatku proučit ćete kako on utječe na generalizacijsku sposobnost Vašeg ansambla. Ponovno, koristite panj odluke kao osnovni klasifikator.\n",
    "\n",
    "Poslužite se skupom podataka koji je dan niže."
   ]
  },
  {
   "cell_type": "code",
   "execution_count": 10,
   "metadata": {
    "collapsed": false
   },
   "outputs": [],
   "source": [
    "from sklearn.cross_validation import train_test_split\n",
    "\n",
    "X_boost, y_boost = make_classification(n_samples=1000, n_features=20, n_redundant=0, n_informative=18, n_classes=3, n_clusters_per_class=1)\n",
    "X_boost_train, X_boost_test, y_boost_train, y_boost_test = train_test_split(X_boost, y_boost, train_size=0.7, random_state=69)"
   ]
  },
  {
   "cell_type": "markdown",
   "metadata": {},
   "source": [
    "Iscrtajte krivulje pogrešaka na skupu za učenje i ispitivanje u ovisnosti o hiperparametru $L \\in [1,80]$. Koristite pogrešku 0-1 iz paketa [`metrics`](http://scikit-learn.org/stable/modules/classes.html#module-sklearn.metrics). Ispišite najmanju ostvarenu pogrešku na skupu za ispitivanje, te pripadajuću vrijednost hiperparametra $L$."
   ]
  },
  {
   "cell_type": "code",
   "execution_count": 11,
   "metadata": {
    "collapsed": false
   },
   "outputs": [],
   "source": [
    "from sklearn.metrics import zero_one_loss\n",
    "\n",
    "# Vaš kôd ovdje..."
   ]
  },
  {
   "cell_type": "markdown",
   "metadata": {},
   "source": [
    "**Q:** Može li uopće doći do prenaučenosti pri korištenju *boosting*-algoritama?"
   ]
  },
  {
   "cell_type": "markdown",
   "metadata": {},
   "source": [
    "#### (c)\n",
    "\n",
    "Kao što je rečeno na početku, *boosting*-algoritmi traže slabe klasifikatore kako bi bili najefikasniji što mogu biti. Međutim, kako se takav ansambl mjeri s jednim **jakim klasifikatorom** (engl. *strong classifier*)? To ćemo isprobati na istom primjeru, ali korištenjem jednog optimalno naučenog stabla odluke.\n",
    "\n",
    "Ispišite pogrešku ispitivanja optimalnog stabla odluke. Glavni hiperparametar stabala odluka jest njihova maksimalna dubina $d$ (parametar `max_depth`). Iscrtajte krivulje pogrešaka na skupu za učenje i ispitivanje u ovisnosti o dubini stabla $d \\in [1,20]$."
   ]
  },
  {
   "cell_type": "code",
   "execution_count": 12,
   "metadata": {
    "collapsed": false
   },
   "outputs": [],
   "source": [
    "# Vaš kôd ovdje..."
   ]
  },
  {
   "cell_type": "markdown",
   "metadata": {},
   "source": [
    "**Q:** Isplati li se koristiti ansambl u obliku *boostinga*? Idu li grafikoni tome u prilog?<br>\n",
    "**Q:** Koja je prednost *boostinga* nad korištenjem jednog jakog klasifikatora?"
   ]
  },
  {
   "cell_type": "markdown",
   "metadata": {},
   "source": [
    "### 4. Procjena maksimalne izglednosti i procjena maksimalne aposteriorne vjerojatnosti"
   ]
  },
  {
   "cell_type": "markdown",
   "metadata": {},
   "source": [
    "#### (a)\n",
    "\n",
    "Definirajte funkciju izglednosti $\\mathcal{L}(\\mu|\\mathcal{D})$ za skup $\\mathcal{D}=\\{x^{(i)}\\}_{i=1}^N$ Bernoullijevih varijabli. Neka od $N$ varijabli njih $m$ ima vrijednost 1 (npr. od $N$ bacanja novčića, $m$ puta smo dobili glavu). Definirajte funkciju izglednosti tako da je parametrizirana s $N$ i $m$, dakle definirajte funkciju $\\mathcal{L}(\\mu|N,m)$. "
   ]
  },
  {
   "cell_type": "code",
   "execution_count": 13,
   "metadata": {
    "collapsed": true
   },
   "outputs": [],
   "source": [
    "def CalculateLikelihood(probability, total, successes):\n",
    "    likelihood = (probability**successes) * (1 - probability)**(total - successes)\n",
    "    return likelihood"
   ]
  },
  {
   "cell_type": "markdown",
   "metadata": {},
   "source": [
    "#### (b)"
   ]
  },
  {
   "cell_type": "markdown",
   "metadata": {},
   "source": [
    "Prikažite funkciju $\\mathcal{L}(\\mu|N,m)$ za (1) $N=10$ i $m=1,2,5,9$ te za (2) $N=100$ i $m=1,10,50,90$ (dva zasebna grafikona)."
   ]
  },
  {
   "cell_type": "code",
   "execution_count": 14,
   "metadata": {
    "collapsed": false
   },
   "outputs": [
    {
     "data": {
      "text/plain": [
       "<matplotlib.legend.Legend at 0xbcc7390>"
      ]
     },
     "execution_count": 14,
     "metadata": {},
     "output_type": "execute_result"
    },
    {
     "data": {
      "image/png": "[encoded data removed]",
      "text/plain": [
       "<matplotlib.figure.Figure at 0xbcc79b0>"
      ]
     },
     "metadata": {},
     "output_type": "display_data"
    }
   ],
   "source": [
    "N = 10\n",
    "ms = [1,2,5,9]\n",
    "ps = sp.linspace(0,1)\n",
    "for m in ms:\n",
    "    likelihoods = []\n",
    "    for p in ps:\n",
    "        likelihood = CalculateLikelihood(p, N, m)\n",
    "        likelihoods.append(likelihood)\n",
    "    plt.plot(ps, likelihoods)\n",
    "    \n",
    "plt.legend([\"1\", \"2\", \"5\", \"9\"])"
   ]
  },
  {
   "cell_type": "code",
   "execution_count": 15,
   "metadata": {
    "collapsed": false
   },
   "outputs": [
    {
     "data": {
      "text/plain": [
       "<matplotlib.legend.Legend at 0xc246278>"
      ]
     },
     "execution_count": 15,
     "metadata": {},
     "output_type": "execute_result"
    },
    {
     "data": {
      "image/png": "[encoded data removed]",
      "text/plain": [
       "<matplotlib.figure.Figure at 0xc246898>"
      ]
     },
     "metadata": {},
     "output_type": "display_data"
    }
   ],
   "source": [
    "N = 100\n",
    "ms = [1,20,50,90]\n",
    "ps = sp.linspace(0,1)\n",
    "for m in ms:\n",
    "    likelihoods = []\n",
    "    for p in ps:\n",
    "        likelihood = CalculateLikelihood(p, N, m)\n",
    "        likelihoods.append(likelihood)\n",
    "    plt.plot(ps, likelihoods)\n",
    "    \n",
    "plt.legend([\"1\", \"10\", \"50\", \"90\"])"
   ]
  },
  {
   "cell_type": "markdown",
   "metadata": {},
   "source": [
    "**Q:** Koja vrijednost odgovara ML-procjenama i zašto?"
   ]
  },
  {
   "cell_type": "markdown",
   "metadata": {},
   "source": [
    "#### (c)\n",
    "\n",
    "Prikažite funkciju $\\mathcal{L}(\\mu|N,m)$ za $N=10$ i $m=\\{0,9\\}$."
   ]
  },
  {
   "cell_type": "code",
   "execution_count": 16,
   "metadata": {
    "collapsed": false
   },
   "outputs": [
    {
     "data": {
      "text/plain": [
       "<matplotlib.legend.Legend at 0xdbf72b0>"
      ]
     },
     "execution_count": 16,
     "metadata": {},
     "output_type": "execute_result"
    },
    {
     "data": {
      "image/png": "[encoded data removed]",
      "text/plain": [
       "<matplotlib.figure.Figure at 0xdbf7320>"
      ]
     },
     "metadata": {},
     "output_type": "display_data"
    }
   ],
   "source": [
    "N = 10\n",
    "ms = [0,9]\n",
    "ps = sp.linspace(0,1)\n",
    "for m in ms:\n",
    "    likelihoods = []\n",
    "    for p in ps:\n",
    "        likelihood = CalculateLikelihood(p, N, m)\n",
    "        likelihoods.append(likelihood)\n",
    "    plt.plot(ps, likelihoods)\n",
    "    \n",
    "plt.legend([\"0\", \"9\"])"
   ]
  },
  {
   "cell_type": "markdown",
   "metadata": {},
   "source": [
    "**Q:** Koja je ML-procjena za $\\mu$ i što je problem s takvom procjenom u ovome slučaju?"
   ]
  },
  {
   "cell_type": "markdown",
   "metadata": {},
   "source": [
    "#### (d)\n",
    "\n",
    "Prikažite beta-distribuciju $B(\\mu|\\alpha,\\beta)$ za različite kombinacije parametara $\\alpha$ i $\\beta$, uključivo $\\alpha=\\beta=1$ te $\\alpha=\\beta=2$."
   ]
  },
  {
   "cell_type": "code",
   "execution_count": 17,
   "metadata": {
    "collapsed": false
   },
   "outputs": [
    {
     "data": {
      "image/png": "[encoded data removed]",
      "text/plain": [
       "<matplotlib.figure.Figure at 0x6968f28>"
      ]
     },
     "metadata": {},
     "output_type": "display_data"
    }
   ],
   "source": [
    "from scipy.stats import beta\n",
    "\n",
    "ps = sp.linspace(0,1)\n",
    "\n",
    "plt.plot(ps,beta.pdf(ps,1,1), label='a=1,b=1')\n",
    "plt.plot(ps,beta.pdf(ps,1.5,2), label='a=1.5,b=2')\n",
    "plt.plot(ps,beta.pdf(ps,1,2), label='a=1,b=2')\n",
    "plt.plot(ps,beta.pdf(ps,2,1), label='a=2,b=1')\n",
    "plt.plot(ps,beta.pdf(ps,2,2), label='a=2,b=2')\n",
    "plt.legend()\n",
    "plt.show()"
   ]
  },
  {
   "cell_type": "markdown",
   "metadata": {},
   "source": [
    "**Q:** Koje parametere biste odabrali za modeliranje apriornog znanja o parametru $\\mu$ za novčić za koji mislite da je \"donekle pravedan, ali malo češće pada na glavu\"? Koje biste parametre odabrali za novčić za koji držite da je posve pravedan? Zašto uopće koristimo beta-distribuciju, a ne neku drugu?"
   ]
  },
  {
   "cell_type": "markdown",
   "metadata": {},
   "source": [
    "#### (e)\n",
    "\n",
    "Definirajte funkciju za izračun zajedničke vjerojatnosti $P(\\mu,\\mathcal{D}) = P(\\mathcal{D}|\\mu) \\cdot P(\\mu|\\alpha,\\beta)$ te prikažite tu funkciju za $N=10$ i $m=9$ i nekolicinu kombinacija parametara $\\alpha$ i $\\beta$. "
   ]
  },
  {
   "cell_type": "code",
   "execution_count": 18,
   "metadata": {
    "collapsed": false
   },
   "outputs": [],
   "source": [
    "def CalculateJointProbability(p, N, m, a, b):\n",
    "    probability = CalculateLikelihood(p, N, m) * beta.pdf(p, a, b)\n",
    "    return probability"
   ]
  },
  {
   "cell_type": "code",
   "execution_count": 19,
   "metadata": {
    "collapsed": false
   },
   "outputs": [
    {
     "data": {
      "text/plain": [
       "[<matplotlib.lines.Line2D at 0xdd68cc0>]"
      ]
     },
     "execution_count": 19,
     "metadata": {},
     "output_type": "execute_result"
    },
    {
     "data": {
      "image/png": "[encoded data removed]",
      "text/plain": [
       "<matplotlib.figure.Figure at 0xdd68438>"
      ]
     },
     "metadata": {},
     "output_type": "display_data"
    }
   ],
   "source": [
    "N = 10\n",
    "m = 9\n",
    "ps = sp.linspace(0,1)\n",
    "likelihoods = []\n",
    "for p in ps:\n",
    "    likelihood = CalculateJointProbability(p,N,m,1,1)\n",
    "    likelihoods.append(likelihood)\n",
    "plt.plot(ps, likelihoods)\n",
    "likelihoods = []\n",
    "for p in ps:\n",
    "    likelihood = CalculateJointProbability(p,N,m,2,2)\n",
    "    likelihoods.append(likelihood)\n",
    "plt.plot(ps, likelihoods)"
   ]
  },
  {
   "cell_type": "markdown",
   "metadata": {},
   "source": [
    "**Q**: Koje vrijednosti odgovaraju MAP-procjeni za $\\mu$? Usporedite ih sa ML-procjenama."
   ]
  },
  {
   "cell_type": "markdown",
   "metadata": {},
   "source": [
    "#### (f)\n",
    "\n",
    "Za $N=10$ i $m=1$, na jednome grafikonu prikažite sve tri distribucije: $P(\\mu,\\mathcal{D})$, $P(\\mu|\\alpha,\\beta)$ i $\\mathcal{L}(\\mu|\\mathcal{D})$."
   ]
  },
  {
   "cell_type": "code",
   "execution_count": 20,
   "metadata": {
    "collapsed": false
   },
   "outputs": [
    {
     "data": {
      "text/plain": [
       "<matplotlib.legend.Legend at 0xe2b5828>"
      ]
     },
     "execution_count": 20,
     "metadata": {},
     "output_type": "execute_result"
    },
    {
     "data": {
      "image/png": "[encoded data removed]",
      "text/plain": [
       "<matplotlib.figure.Figure at 0xbb0c0b8>"
      ]
     },
     "metadata": {},
     "output_type": "display_data"
    }
   ],
   "source": [
    "N = 10\n",
    "m = 1\n",
    "ps = sp.linspace(0,1)\n",
    "a = 2\n",
    "b = 2\n",
    "likelihoods = []\n",
    "for p in ps:\n",
    "    likelihood = CalculateJointProbability(p,N,m,a,b)\n",
    "    likelihoods.append(likelihood)\n",
    "    \n",
    "plt.plot(ps, likelihoods)\n",
    "\n",
    "plt.plot(ps, beta.pdf(ps, a, b))\n",
    "\n",
    "likelihoods = []\n",
    "for p in ps:\n",
    "    likelihood = CalculateLikelihood(p, N, m)\n",
    "    likelihoods.append(likelihood)\n",
    "    \n",
    "plt.plot(ps, likelihoods)\n",
    "\n",
    "plt.legend(['JointProb', 'Beta', 'Likelihood'])"
   ]
  },
  {
   "cell_type": "markdown",
   "metadata": {},
   "source": [
    "#### (g)\n",
    "\n",
    "Pročitajte [ove](http://scikit-learn.org/stable/datasets/) upute o učitavanju oglednih skupova podataka u SciPy. Učitajte skup podataka *Iris*. Taj skup sadrži $n=4$ značajke i $K=3$ klase. Odaberite jednu klasu i odaberite sve primjere iz te klase, dok ostale primjere zanemarite (**u nastavku radite isključivo s primjerima iz te jedne klase**). Vizualizirajte podatke tako da načinite 2D-prikaze za svaki par značajki (šest grafikona; za prikaz je najjednostavnije koristiti funkciju [`scatter`](http://matplotlib.org/api/pyplot_api.html#matplotlib.pyplot.scatter)).\n",
    "\n",
    "**NB:** Mogla bi Vam dobro dući funkcija [`itertools.combinations`](https://docs.python.org/2/library/itertools.html#itertools.combinations)."
   ]
  },
  {
   "cell_type": "code",
   "execution_count": 21,
   "metadata": {
    "collapsed": false
   },
   "outputs": [
    {
     "data": {
      "image/png": "[encoded data removed]",
      "text/plain": [
       "<matplotlib.figure.Figure at 0xe261d68>"
      ]
     },
     "metadata": {},
     "output_type": "display_data"
    }
   ],
   "source": [
    "from sklearn.datasets import load_iris\n",
    "import itertools as it\n",
    "\n",
    "X, y = load_iris(True)\n",
    "X = X[:50]\n",
    "y = y[:50]\n",
    "unstacked_array_of_arrays = np.hsplit(X,4)\n",
    "\n",
    "k = 1\n",
    "for i, j in it.combinations(range(4), 2):\n",
    "    plt.subplot(2, 3, k)\n",
    "    plt.title('Features: {0}, {1}'.format(i,j))\n",
    "    plt.scatter(unstacked_array_of_arrays[i], unstacked_array_of_arrays[j])\n",
    "    k += 1\n",
    "\n",
    "plt.show()"
   ]
  },
  {
   "cell_type": "code",
   "execution_count": 31,
   "metadata": {
    "collapsed": false
   },
   "outputs": [
    {
     "data": {
      "text/plain": [
       "array([[ 5.1,  4.9,  4.7,  4.6,  5. ,  5.4,  4.6,  5. ,  4.4,  4.9,  5.4,\n",
       "         4.8,  4.8,  4.3,  5.8,  5.7,  5.4,  5.1,  5.7,  5.1,  5.4,  5.1,\n",
       "         4.6,  5.1,  4.8,  5. ,  5. ,  5.2,  5.2,  4.7,  4.8,  5.4,  5.2,\n",
       "         5.5,  4.9,  5. ,  5.5,  4.9,  4.4,  5.1,  5. ,  4.5,  4.4,  5. ,\n",
       "         5.1,  4.8,  5.1,  4.6,  5.3,  5. ]])"
      ]
     },
     "execution_count": 31,
     "metadata": {},
     "output_type": "execute_result"
    }
   ],
   "source": [
    "np.stack(unstacked_array_of_arrays[0], axis=-1)"
   ]
  },
  {
   "cell_type": "markdown",
   "metadata": {},
   "source": [
    "#### (h)\n",
    "\n",
    "Implementirajte funkciju log-izglednosti za parametre $\\mu$ i $\\sigma^2$ normalne distribucije."
   ]
  },
  {
   "cell_type": "code",
   "execution_count": 38,
   "metadata": {
    "collapsed": true
   },
   "outputs": [],
   "source": [
    "def CalculateLikelihoodOfGauss(X, mean, var):\n",
    "    log_part = log(1 / (sqrt(2 * pi) * var))\n",
    "    \n",
    "    total_sum = 0\n",
    "    for example in X:\n",
    "        total_sum += log_part\n",
    "        total_sum -= ((example - mean) * (example - mean)) / (2 * var * var)\n",
    "    return total_sum"
   ]
  },
  {
   "cell_type": "markdown",
   "metadata": {},
   "source": [
    "#### (i)\n",
    "Izračunajte ML-procjene za $(\\mu, \\sigma^2)$ za svaku od $n=4$ značajki iz skupa *Iris*. Ispišite log-izglednosti tih ML-procjena. "
   ]
  },
  {
   "cell_type": "code",
   "execution_count": 41,
   "metadata": {
    "collapsed": false
   },
   "outputs": [
    {
     "name": "stdout",
     "output_type": "stream",
     "text": [
      "5.006\n",
      "0.121764\n",
      "-145.97859986\n",
      "-.-.-.-.-.-.-\n",
      "3.418\n",
      "0.142276\n",
      "-124.162412205\n",
      "-.-.-.-.-.-.-\n",
      "1.464\n",
      "0.029504\n",
      "-717.128188269\n",
      "-.-.-.-.-.-.-\n",
      "0.244\n",
      "0.011264\n",
      "-2041.09997995\n",
      "-.-.-.-.-.-.-\n"
     ]
    }
   ],
   "source": [
    "for array in unstacked_array_of_arrays:\n",
    "    array = np.stack(array, axis=-1)[0]\n",
    "    mean = np.mean(array)\n",
    "    var = np.var(array)\n",
    "    print mean\n",
    "    print var\n",
    "    print CalculateLikelihoodOfGauss(array, mean, var)\n",
    "    print \"-.-.-.-.-.-.-\""
   ]
  },
  {
   "cell_type": "markdown",
   "metadata": {},
   "source": [
    "**Q:** Možete li, na temelju dobivenih log-izglednosti, zaključiti koja se značajka najbolje pokorava normalnoj distribuciji? "
   ]
  },
  {
   "cell_type": "markdown",
   "metadata": {},
   "source": [
    "#### (j)\n",
    "\n",
    "Proučite funkciju [`pearsonr`](https://docs.scipy.org/doc/scipy-0.14.0/reference/generated/scipy.stats.pearsonr.html) za izračun Pearsonovog koeficijenta korelacije. Izračunajte koeficijente korelacije između svih četiri značajki u skupu *Iris*. "
   ]
  },
  {
   "cell_type": "code",
   "execution_count": 42,
   "metadata": {
    "collapsed": false
   },
   "outputs": [
    {
     "name": "stdout",
     "output_type": "stream",
     "text": [
      "(array([ 0.74678037]), array([  4.75198658e-10]))\n",
      "(array([ 0.26387409]), array([ 0.06407651]))\n",
      "(array([ 0.27909157]), array([ 0.04967466]))\n",
      "(array([ 0.17669463]), array([ 0.2196332]))\n",
      "(array([ 0.27997289]), array([ 0.04892865]))\n",
      "(array([ 0.30630821]), array([ 0.03050716]))\n"
     ]
    }
   ],
   "source": [
    "from scipy.stats import pearsonr\n",
    "\n",
    "for i, j in it.combinations(range(4), 2):\n",
    "    print pearsonr(unstacked_array_of_arrays[i], unstacked_array_of_arrays[j])"
   ]
  },
  {
   "cell_type": "markdown",
   "metadata": {},
   "source": [
    "#### (k)\n",
    "\n",
    "Proučite funkciju [`cov`](http://docs.scipy.org/doc/numpy/reference/generated/numpy.cov.html) te izračunajte ML-procjenu za kovarijacijsku matricu za skup *Iris*. Usporedite pristranu i nepristranu procjenu. Pokažite da se razlika (srednja apsolutna i kvadratna) smanjuje s brojem primjera (npr. isprobajte za $N/4$ i $N/2$ i $N$ primjera)."
   ]
  },
  {
   "cell_type": "code",
   "execution_count": 44,
   "metadata": {
    "collapsed": false
   },
   "outputs": [
    {
     "data": {
      "text/plain": [
       "array([[ 4.75      ,  4.42166667,  4.35333333, ...,  4.23      ,\n",
       "         4.945     ,  4.60166667],\n",
       "       [ 4.42166667,  4.14916667,  4.055     , ...,  3.93833333,\n",
       "         4.59916667,  4.29583333],\n",
       "       [ 4.35333333,  4.055     ,  3.99      , ...,  3.87666667,\n",
       "         4.53166667,  4.21833333],\n",
       "       ..., \n",
       "       [ 4.23      ,  3.93833333,  3.87666667, ...,  3.77      ,\n",
       "         4.405     ,  4.09833333],\n",
       "       [ 4.945     ,  4.59916667,  4.53166667, ...,  4.405     ,\n",
       "         5.14916667,  4.78916667],\n",
       "       [ 4.60166667,  4.29583333,  4.21833333, ...,  4.09833333,\n",
       "         4.78916667,  4.4625    ]])"
      ]
     },
     "execution_count": 44,
     "metadata": {},
     "output_type": "execute_result"
    }
   ],
   "source": [
    "cov(X, bias=False)"
   ]
  },
  {
   "cell_type": "code",
   "execution_count": 46,
   "metadata": {
    "collapsed": false
   },
   "outputs": [
    {
     "data": {
      "text/plain": [
       "array([[ 3.5625  ,  3.31625 ,  3.265   , ...,  3.1725  ,  3.70875 ,\n",
       "         3.45125 ],\n",
       "       [ 3.31625 ,  3.111875,  3.04125 , ...,  2.95375 ,  3.449375,\n",
       "         3.221875],\n",
       "       [ 3.265   ,  3.04125 ,  2.9925  , ...,  2.9075  ,  3.39875 ,\n",
       "         3.16375 ],\n",
       "       ..., \n",
       "       [ 3.1725  ,  2.95375 ,  2.9075  , ...,  2.8275  ,  3.30375 ,\n",
       "         3.07375 ],\n",
       "       [ 3.70875 ,  3.449375,  3.39875 , ...,  3.30375 ,  3.861875,\n",
       "         3.591875],\n",
       "       [ 3.45125 ,  3.221875,  3.16375 , ...,  3.07375 ,  3.591875,\n",
       "         3.346875]])"
      ]
     },
     "execution_count": 46,
     "metadata": {},
     "output_type": "execute_result"
    }
   ],
   "source": [
    "cov(X, bias=True)"
   ]
  },
  {
   "cell_type": "code",
   "execution_count": 54,
   "metadata": {
    "collapsed": false
   },
   "outputs": [
    {
     "data": {
      "text/plain": [
       "array([[ 1.1875    ,  1.10541667,  1.08833333, ...,  1.0575    ,\n",
       "         1.23625   ,  1.15041667],\n",
       "       [ 1.10541667,  1.03729167,  1.01375   , ...,  0.98458333,\n",
       "         1.14979167,  1.07395833],\n",
       "       [ 1.08833333,  1.01375   ,  0.9975    , ...,  0.96916667,\n",
       "         1.13291667,  1.05458333],\n",
       "       ..., \n",
       "       [ 1.0575    ,  0.98458333,  0.96916667, ...,  0.9425    ,\n",
       "         1.10125   ,  1.02458333],\n",
       "       [ 1.23625   ,  1.14979167,  1.13291667, ...,  1.10125   ,\n",
       "         1.28729167,  1.19729167],\n",
       "       [ 1.15041667,  1.07395833,  1.05458333, ...,  1.02458333,\n",
       "         1.19729167,  1.115625  ]])"
      ]
     },
     "execution_count": 54,
     "metadata": {},
     "output_type": "execute_result"
    }
   ],
   "source": [
    "cov(X, bias=False) - cov(X, bias=True)"
   ]
  },
  {
   "cell_type": "code",
   "execution_count": 55,
   "metadata": {
    "collapsed": false
   },
   "outputs": [
    {
     "data": {
      "text/plain": [
       "array([[ 1.1875    ,  1.10541667,  1.08833333,  1.04      ,  1.17416667,\n",
       "         1.215     ,  1.05375   ,  1.14875   ,  0.99125   ,  1.12333333,\n",
       "         1.2575    ,  1.09666667,  1.10375   ,  1.02625   ,  1.395     ,\n",
       "         1.3375    ,  1.25333333,  1.16791667,  1.29041667,  1.18208333,\n",
       "         1.21458333,  1.15458333,  1.1275    ,  1.08416667,  1.06791667],\n",
       "       [ 1.10541667,  1.03729167,  1.01375   ,  0.97125   ,  1.08958333,\n",
       "         1.12875   ,  0.976875  ,  1.07104167,  0.926875  ,  1.0525    ,\n",
       "         1.17083333,  1.02083333,  1.034375  ,  0.95354167,  1.295     ,\n",
       "         1.23416667,  1.16125   ,  1.08729167,  1.20479167,  1.09479167,\n",
       "         1.13895833,  1.07145833,  1.03791667,  1.01625   ,  0.99645833],\n",
       "       [ 1.08833333,  1.01375   ,  0.9975    ,  0.95333333,  1.07583333,\n",
       "         1.11333333,  0.96541667,  1.05291667,  0.90875   ,  1.03      ,\n",
       "         1.1525    ,  1.005     ,  1.01208333,  0.94041667,  1.27833333,\n",
       "         1.225     ,  1.14833333,  1.07041667,  1.18291667,  1.08291667,\n",
       "         1.11375   ,  1.05791667,  1.0325    ,  0.99416667,  0.97875   ],\n",
       "       [ 1.04      ,  0.97125   ,  0.95333333,  0.91416667,  1.0275    ,\n",
       "         1.06416667,  0.92208333,  1.00791667,  0.87125   ,  0.98833333,\n",
       "         1.10166667,  0.96333333,  0.97041667,  0.89791667,  1.21666667,\n",
       "         1.16583333,  1.0925    ,  1.02208333,  1.13208333,  1.03375   ,\n",
       "         1.06875   ,  1.00958333,  0.98083333,  0.9525    ,  0.94208333],\n",
       "       [ 1.17416667,  1.08958333,  1.07583333,  1.0275    ,  1.1625    ,\n",
       "         1.2025    ,  1.04375   ,  1.13541667,  0.97875   ,  1.10833333,\n",
       "         1.24333333,  1.085     ,  1.08875   ,  1.01541667,  1.38      ,\n",
       "         1.32666667,  1.24083333,  1.15458333,  1.27458333,  1.17125   ,\n",
       "         1.19791667,  1.14291667,  1.11916667,  1.06916667,  1.05625   ],\n",
       "       [ 1.215     ,  1.12875   ,  1.11333333,  1.06416667,  1.2025    ,\n",
       "         1.24416667,  1.07958333,  1.17541667,  1.01375   ,  1.14833333,\n",
       "         1.28666667,  1.12333333,  1.12791667,  1.05041667,  1.42666667,\n",
       "         1.37083333,  1.2825    ,  1.19458333,  1.31958333,  1.21125   ,\n",
       "         1.24125   ,  1.18208333,  1.15583333,  1.1075    ,  1.09458333],\n",
       "       [ 1.05375   ,  0.976875  ,  0.96541667,  0.92208333,  1.04375   ,\n",
       "         1.07958333,  0.93729167,  1.01895833,  0.878125  ,  0.99416667,\n",
       "         1.11583333,  0.97416667,  0.97645833,  0.91145833,  1.23833333,\n",
       "         1.19166667,  1.11375   ,  1.03604167,  1.14354167,  1.051875  ,\n",
       "         1.074375  ,  1.02604167,  1.00541667,  0.95875   ,  0.94854167],\n",
       "       [ 1.14875   ,  1.07104167,  1.05291667,  1.00791667,  1.13541667,\n",
       "         1.17541667,  1.01895833,  1.11229167,  0.960625  ,  1.08916667,\n",
       "         1.21666667,  1.0625    ,  1.06979167,  0.99229167,  1.34666667,\n",
       "         1.29083333,  1.20958333,  1.129375  ,  1.249375  ,  1.14270833,\n",
       "         1.17770833,  1.11604167,  1.08708333,  1.05041667,  1.036875  ],\n",
       "       [ 0.99125   ,  0.926875  ,  0.90875   ,  0.87125   ,  0.97875   ,\n",
       "         1.01375   ,  0.878125  ,  0.960625  ,  0.830625  ,  0.9425    ,\n",
       "         1.05      ,  0.9175    ,  0.925625  ,  0.855625  ,  1.16      ,\n",
       "         1.11      ,  1.04125   ,  0.974375  ,  1.079375  ,  0.984375  ,\n",
       "         1.019375  ,  0.961875  ,  0.93375   ,  0.90875   ,  0.896875  ],\n",
       "       [ 1.12333333,  1.0525    ,  1.03      ,  0.98833333,  1.10833333,\n",
       "         1.14833333,  0.99416667,  1.08916667,  0.9425    ,  1.07      ,\n",
       "         1.19      ,  1.04      ,  1.05083333,  0.96916667,  1.31333333,\n",
       "         1.255     ,  1.17833333,  1.10416667,  1.22416667,  1.11416667,\n",
       "         1.1575    ,  1.08916667,  1.055     ,  1.03166667,  1.0175    ],\n",
       "       [ 1.2575    ,  1.17083333,  1.1525    ,  1.10166667,  1.24333333,\n",
       "         1.28666667,  1.11583333,  1.21666667,  1.05      ,  1.19      ,\n",
       "         1.33166667,  1.16166667,  1.16916667,  1.08666667,  1.47666667,\n",
       "         1.41583333,  1.32666667,  1.23666667,  1.36666667,  1.25166667,\n",
       "         1.28666667,  1.2225    ,  1.19333333,  1.14833333,  1.13166667],\n",
       "       [ 1.09666667,  1.02083333,  1.005     ,  0.96333333,  1.085     ,\n",
       "         1.12333333,  0.97416667,  1.0625    ,  0.9175    ,  1.04      ,\n",
       "         1.16166667,  1.01666667,  1.02083333,  0.9475    ,  1.28333333,\n",
       "         1.23333333,  1.15333333,  1.0775    ,  1.1925    ,  1.0925    ,\n",
       "         1.12416667,  1.06583333,  1.03833333,  1.00166667,  0.99416667],\n",
       "       [ 1.10375   ,  1.034375  ,  1.01208333,  0.97041667,  1.08875   ,\n",
       "         1.12791667,  0.97645833,  1.06979167,  0.925625  ,  1.05083333,\n",
       "         1.16916667,  1.02083333,  1.03229167,  0.95229167,  1.29166667,\n",
       "         1.23333333,  1.15875   ,  1.08520833,  1.20270833,  1.094375  ,\n",
       "         1.136875  ,  1.07020833,  1.03708333,  1.01375   ,  0.99770833],\n",
       "       [ 1.02625   ,  0.95354167,  0.94041667,  0.89791667,  1.01541667,\n",
       "         1.05041667,  0.91145833,  0.99229167,  0.855625  ,  0.96916667,\n",
       "         1.08666667,  0.9475    ,  0.95229167,  0.88729167,  1.20666667,\n",
       "         1.15833333,  1.08458333,  1.009375  ,  1.114375  ,  1.02270833,\n",
       "         1.04770833,  0.99854167,  0.97708333,  0.93541667,  0.921875  ],\n",
       "       [ 1.395     ,  1.295     ,  1.27833333,  1.21666667,  1.38      ,\n",
       "         1.42666667,  1.23833333,  1.34666667,  1.16      ,  1.31333333,\n",
       "         1.47666667,  1.28333333,  1.29166667,  1.20666667,  1.64666667,\n",
       "         1.57833333,  1.48      ,  1.37333333,  1.51333333,  1.39      ,\n",
       "         1.42      ,  1.35833333,  1.33333333,  1.27      ,  1.24333333],\n",
       "       [ 1.3375    ,  1.23416667,  1.225     ,  1.16583333,  1.32666667,\n",
       "         1.37083333,  1.19166667,  1.29083333,  1.11      ,  1.255     ,\n",
       "         1.41583333,  1.23333333,  1.23333333,  1.15833333,  1.57833333,\n",
       "         1.52166667,  1.42083333,  1.31583333,  1.44833333,  1.33833333,\n",
       "         1.35583333,  1.305     ,  1.28666667,  1.21166667,  1.19583333],\n",
       "       [ 1.25333333,  1.16125   ,  1.14833333,  1.0925    ,  1.24083333,\n",
       "         1.2825    ,  1.11375   ,  1.20958333,  1.04125   ,  1.17833333,\n",
       "         1.32666667,  1.15333333,  1.15875   ,  1.08458333,  1.48      ,\n",
       "         1.42083333,  1.33083333,  1.23375   ,  1.35875   ,  1.25041667,\n",
       "         1.27375   ,  1.22125   ,  1.20083333,  1.13916667,  1.11708333],\n",
       "       [ 1.16791667,  1.08729167,  1.07041667,  1.02208333,  1.15458333,\n",
       "         1.19458333,  1.03604167,  1.129375  ,  0.974375  ,  1.10416667,\n",
       "         1.23666667,  1.0775    ,  1.08520833,  1.009375  ,  1.37333333,\n",
       "         1.31583333,  1.23375   ,  1.14895833,  1.26895833,  1.16229167,\n",
       "         1.19395833,  1.135625  ,  1.10958333,  1.06625   ,  1.048125  ],\n",
       "       [ 1.29041667,  1.20479167,  1.18291667,  1.13208333,  1.27458333,\n",
       "         1.31958333,  1.14354167,  1.249375  ,  1.079375  ,  1.22416667,\n",
       "         1.36666667,  1.1925    ,  1.20270833,  1.114375  ,  1.51333333,\n",
       "         1.44833333,  1.35875   ,  1.26895833,  1.40395833,  1.28229167,\n",
       "         1.32395833,  1.253125  ,  1.21958333,  1.18125   ,  1.163125  ],\n",
       "       [ 1.18208333,  1.09479167,  1.08291667,  1.03375   ,  1.17125   ,\n",
       "         1.21125   ,  1.051875  ,  1.14270833,  0.984375  ,  1.11416667,\n",
       "         1.25166667,  1.0925    ,  1.094375  ,  1.02270833,  1.39      ,\n",
       "         1.33833333,  1.25041667,  1.16229167,  1.28229167,  1.180625  ,\n",
       "         1.20395833,  1.15145833,  1.12958333,  1.07458333,  1.063125  ],\n",
       "       [ 1.21458333,  1.13895833,  1.11375   ,  1.06875   ,  1.19791667,\n",
       "         1.24125   ,  1.074375  ,  1.17770833,  1.019375  ,  1.1575    ,\n",
       "         1.28666667,  1.12416667,  1.136875  ,  1.04770833,  1.42      ,\n",
       "         1.35583333,  1.27375   ,  1.19395833,  1.32395833,  1.20395833,\n",
       "         1.25229167,  1.17729167,  1.13958333,  1.11625   ,  1.09979167],\n",
       "       [ 1.15458333,  1.07145833,  1.05791667,  1.00958333,  1.14291667,\n",
       "         1.18208333,  1.02604167,  1.11604167,  0.961875  ,  1.08916667,\n",
       "         1.2225    ,  1.06583333,  1.07020833,  0.99854167,  1.35833333,\n",
       "         1.305     ,  1.22125   ,  1.135625  ,  1.253125  ,  1.15145833,\n",
       "         1.17729167,  1.12395833,  1.10125   ,  1.05125   ,  1.03645833],\n",
       "       [ 1.1275    ,  1.03791667,  1.0325    ,  0.98083333,  1.11916667,\n",
       "         1.15583333,  1.00541667,  1.08708333,  0.93375   ,  1.055     ,\n",
       "         1.19333333,  1.03833333,  1.03708333,  0.97708333,  1.33333333,\n",
       "         1.28666667,  1.20083333,  1.10958333,  1.21958333,  1.12958333,\n",
       "         1.13958333,  1.10125   ,  1.08916667,  1.01916667,  1.00458333],\n",
       "       [ 1.08416667,  1.01625   ,  0.99416667,  0.9525    ,  1.06916667,\n",
       "         1.1075    ,  0.95875   ,  1.05041667,  0.90875   ,  1.03166667,\n",
       "         1.14833333,  1.00166667,  1.01375   ,  0.93541667,  1.27      ,\n",
       "         1.21166667,  1.13916667,  1.06625   ,  1.18125   ,  1.07458333,\n",
       "         1.11625   ,  1.05125   ,  1.01916667,  0.99583333,  0.97791667],\n",
       "       [ 1.06791667,  0.99645833,  0.97875   ,  0.94208333,  1.05625   ,\n",
       "         1.09458333,  0.94854167,  1.036875  ,  0.896875  ,  1.0175    ,\n",
       "         1.13166667,  0.99416667,  0.99770833,  0.921875  ,  1.24333333,\n",
       "         1.19583333,  1.11708333,  1.048125  ,  1.163125  ,  1.063125  ,\n",
       "         1.09979167,  1.03645833,  1.00458333,  0.97791667,  0.97729167]])"
      ]
     },
     "execution_count": 55,
     "metadata": {},
     "output_type": "execute_result"
    }
   ],
   "source": [
    "cov(X[:25], bias=False) - cov(X[:25], bias=True)"
   ]
  },
  {
   "cell_type": "code",
   "execution_count": 53,
   "metadata": {
    "collapsed": false
   },
   "outputs": [
    {
     "data": {
      "text/plain": [
       "array([[ 1.1875    ,  1.10541667,  1.08833333,  1.04      ,  1.17416667,\n",
       "         1.215     ,  1.05375   ,  1.14875   ,  0.99125   ,  1.12333333,\n",
       "         1.2575    ,  1.09666667],\n",
       "       [ 1.10541667,  1.03729167,  1.01375   ,  0.97125   ,  1.08958333,\n",
       "         1.12875   ,  0.976875  ,  1.07104167,  0.926875  ,  1.0525    ,\n",
       "         1.17083333,  1.02083333],\n",
       "       [ 1.08833333,  1.01375   ,  0.9975    ,  0.95333333,  1.07583333,\n",
       "         1.11333333,  0.96541667,  1.05291667,  0.90875   ,  1.03      ,\n",
       "         1.1525    ,  1.005     ],\n",
       "       [ 1.04      ,  0.97125   ,  0.95333333,  0.91416667,  1.0275    ,\n",
       "         1.06416667,  0.92208333,  1.00791667,  0.87125   ,  0.98833333,\n",
       "         1.10166667,  0.96333333],\n",
       "       [ 1.17416667,  1.08958333,  1.07583333,  1.0275    ,  1.1625    ,\n",
       "         1.2025    ,  1.04375   ,  1.13541667,  0.97875   ,  1.10833333,\n",
       "         1.24333333,  1.085     ],\n",
       "       [ 1.215     ,  1.12875   ,  1.11333333,  1.06416667,  1.2025    ,\n",
       "         1.24416667,  1.07958333,  1.17541667,  1.01375   ,  1.14833333,\n",
       "         1.28666667,  1.12333333],\n",
       "       [ 1.05375   ,  0.976875  ,  0.96541667,  0.92208333,  1.04375   ,\n",
       "         1.07958333,  0.93729167,  1.01895833,  0.878125  ,  0.99416667,\n",
       "         1.11583333,  0.97416667],\n",
       "       [ 1.14875   ,  1.07104167,  1.05291667,  1.00791667,  1.13541667,\n",
       "         1.17541667,  1.01895833,  1.11229167,  0.960625  ,  1.08916667,\n",
       "         1.21666667,  1.0625    ],\n",
       "       [ 0.99125   ,  0.926875  ,  0.90875   ,  0.87125   ,  0.97875   ,\n",
       "         1.01375   ,  0.878125  ,  0.960625  ,  0.830625  ,  0.9425    ,\n",
       "         1.05      ,  0.9175    ],\n",
       "       [ 1.12333333,  1.0525    ,  1.03      ,  0.98833333,  1.10833333,\n",
       "         1.14833333,  0.99416667,  1.08916667,  0.9425    ,  1.07      ,\n",
       "         1.19      ,  1.04      ],\n",
       "       [ 1.2575    ,  1.17083333,  1.1525    ,  1.10166667,  1.24333333,\n",
       "         1.28666667,  1.11583333,  1.21666667,  1.05      ,  1.19      ,\n",
       "         1.33166667,  1.16166667],\n",
       "       [ 1.09666667,  1.02083333,  1.005     ,  0.96333333,  1.085     ,\n",
       "         1.12333333,  0.97416667,  1.0625    ,  0.9175    ,  1.04      ,\n",
       "         1.16166667,  1.01666667]])"
      ]
     },
     "execution_count": 53,
     "metadata": {},
     "output_type": "execute_result"
    }
   ],
   "source": [
    "cov(X[:12], bias=False) - cov(X[:12], bias=True)"
   ]
  }
 ],
 "metadata": {
  "anaconda-cloud": {},
  "kernelspec": {
   "display_name": "Python 2",
   "language": "python",
   "name": "python2"
  },
  "language_info": {
   "codemirror_mode": {
    "name": "ipython",
    "version": 2
   },
   "file_extension": ".py",
   "mimetype": "text/x-python",
   "name": "python",
   "nbconvert_exporter": "python",
   "pygments_lexer": "ipython2",
   "version": "2.7.13"
  }
 },
 "nbformat": 4,
 "nbformat_minor": 2
}
