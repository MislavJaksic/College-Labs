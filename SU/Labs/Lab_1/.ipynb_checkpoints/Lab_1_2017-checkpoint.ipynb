{
 "cells": [
  {
   "cell_type": "markdown",
   "metadata": {},
   "source": [
    "Sveučilište u Zagrebu  \n",
    "Fakultet elektrotehnike i računarstva  \n",
    "  \n",
    "## Strojno učenje 2017/2018  \n",
    "http://www.fer.unizg.hr/predmet/su"
   ]
  },
  {
   "cell_type": "markdown",
   "metadata": {},
   "source": [
    "------------------------------\n",
    "\n",
    "### Laboratorijska vježba 1: Regresija\n",
    "\n",
    "*Verzija: 1.1  \n",
    "Zadnji put ažurirano: 16. listopada 2017.*\n",
    "\n",
    "(c) 2015-2017 Jan Šnajder, Domagoj Alagić, Mladen Karan \n",
    "\n",
    "Objavljeno: **16. listopada 2017.**  \n",
    "Rok za predaju: **23. listopada 2017. u 07:00h**\n",
    "\n",
    "------------------------------"
   ]
  },
  {
   "cell_type": "markdown",
   "metadata": {},
   "source": [
    "### Upute\n",
    "\n",
    "Prva laboratorijska vježba sastoji se od osam zadataka. U nastavku slijedite upute navedene u ćelijama s tekstom. Rješavanje vježbe svodi se na **dopunjavanje ove bilježnice**: umetanja ćelije ili više njih **ispod** teksta zadatka, pisanja odgovarajućeg kôda te evaluiranja ćelija. \n",
    "\n",
    "Osigurajte da u potpunosti **razumijete** kôd koji ste napisali. Kod predaje vježbe, morate biti u stanju na zahtjev asistenta (ili demonstratora) preinačiti i ponovno evaluirati Vaš kôd. Nadalje, morate razumjeti teorijske osnove onoga što radite, u okvirima onoga što smo obradili na predavanju. Ispod nekih zadataka možete naći i pitanja koja služe kao smjernice za bolje razumijevanje gradiva (**nemojte pisati** odgovore na pitanja u bilježnicu). Stoga se nemojte ograničiti samo na to da riješite zadatak, nego slobodno eksperimentirajte. To upravo i jest svrha ovih vježbi.\n",
    "\n",
    "Vježbe trebate raditi **samostalno**. Možete se konzultirati s drugima o načelnom načinu rješavanja, ali u konačnici morate sami odraditi vježbu. U protivnome vježba nema smisla."
   ]
  },
  {
   "cell_type": "code",
   "execution_count": 242,
   "metadata": {
    "collapsed": false
   },
   "outputs": [
    {
     "name": "stdout",
     "output_type": "stream",
     "text": [
      "Populating the interactive namespace from numpy and matplotlib\n"
     ]
    }
   ],
   "source": [
    "# Učitaj osnovne biblioteke...\n",
    "import numpy as np\n",
    "import sklearn\n",
    "import matplotlib.pyplot as plt\n",
    "%pylab inline"
   ]
  },
  {
   "cell_type": "markdown",
   "metadata": {},
   "source": [
    "## Zadatci"
   ]
  },
  {
   "cell_type": "markdown",
   "metadata": {},
   "source": [
    "### 1. Jednostavna regresija"
   ]
  },
  {
   "cell_type": "markdown",
   "metadata": {},
   "source": [
    "Zadan je skup primjera $\\mathcal{D}=\\{(x^{(i)},y^{(i)})\\}_{i=1}^4 = \\{(0,4),(1,1),(2,2),(4,5)\\}$. Primjere predstavite matrixom $\\mathbf{X}$ dimenzija $N\\times n$ (u ovom slučaju $4\\times 1$) i vektorom oznaka $\\textbf{y}$, dimenzija $N\\times 1$ (u ovom slučaju $4\\times 1$), na sljedeći način:\n"
   ]
  },
  {
   "cell_type": "code",
   "execution_count": 243,
   "metadata": {
    "collapsed": true
   },
   "outputs": [],
   "source": [
    "X1 = np.array([[0],[1],[2],[4]])\n",
    "y1 = np.array([4,1,2,5])"
   ]
  },
  {
   "cell_type": "markdown",
   "metadata": {},
   "source": [
    "#### (a)\n",
    "\n",
    "Proučite funkciju [`PolynomialFeatures`](http://scikit-learn.org/stable/modules/generated/sklearn.preprocessing.PolynomialFeatures.html) iz biblioteke `sklearn` i upotrijebite je za generiranje matrice dizajna $\\mathbf{\\Phi}$ koja ne koristi preslikavanje u prostor više dimenzije (samo će svakom primjeru biti dodane *dummy* jedinice; $m=n+1$).\n"
   ]
  },
  {
   "cell_type": "code",
   "execution_count": 244,
   "metadata": {
    "collapsed": true
   },
   "outputs": [],
   "source": [
    "from sklearn.preprocessing import PolynomialFeatures"
   ]
  },
  {
   "cell_type": "code",
   "execution_count": 245,
   "metadata": {
    "collapsed": false
   },
   "outputs": [
    {
     "name": "stdout",
     "output_type": "stream",
     "text": [
      "[[0]\n",
      " [1]\n",
      " [2]\n",
      " [4]]\n",
      "[[ 1.  0.]\n",
      " [ 1.  1.]\n",
      " [ 1.  2.]\n",
      " [ 1.  4.]]\n"
     ]
    }
   ],
   "source": [
    "def PolynomialTransformation(X, degree):\n",
    "    features = PolynomialFeatures(degree)\n",
    "    return features.fit_transform(X)\n",
    "\n",
    "print X1\n",
    "degree = 1 # if degree > 1, construct n-degree polynomial\n",
    "XPoly1 = PolynomialTransformation(X1, degree)\n",
    "print XPoly1"
   ]
  },
  {
   "cell_type": "markdown",
   "metadata": {},
   "source": [
    "#### (b)"
   ]
  },
  {
   "cell_type": "markdown",
   "metadata": {},
   "source": [
    "Upoznajte se s modulom [`linalg`](http://docs.scipy.org/doc/numpy/reference/routines.linalg.html). Izračunajte težine $\\mathbf{w}$ modela linearne regresije kao $\\mathbf{w}=(\\mathbf{\\Phi}^\\intercal\\mathbf{\\Phi})^{-1}\\mathbf{\\Phi}^\\intercal\\mathbf{y}$. Zatim se uvjerite da isti rezultat možete dobiti izračunom pseudoinverza $\\mathbf{\\Phi}^+$ matrice dizajna, tj. $\\mathbf{w}=\\mathbf{\\Phi}^+\\mathbf{y}$, korištenjem funkcije [`pinv`](http://docs.scipy.org/doc/numpy/reference/generated/numpy.linalg.pinv.html)."
   ]
  },
  {
   "cell_type": "code",
   "execution_count": 246,
   "metadata": {
    "collapsed": true
   },
   "outputs": [],
   "source": [
    "from numpy import linalg"
   ]
  },
  {
   "cell_type": "code",
   "execution_count": 247,
   "metadata": {
    "collapsed": false
   },
   "outputs": [
    {
     "name": "stdout",
     "output_type": "stream",
     "text": [
      "[ 2.2         0.45714286]\n",
      "[ 2.2         0.45714286]\n"
     ]
    }
   ],
   "source": [
    "def ManualLinReg(X, y):\n",
    "    XT = X.transpose()\n",
    "    XTmulX = np.dot(XT, X)\n",
    "    XTmulXinv = np.linalg.inv(XTmulX)\n",
    "    w = np.dot(np.dot(XTmulXinv, XT), y)\n",
    "    return w\n",
    "\n",
    "w = ManualLinReg(XPoly1, y1)\n",
    "print w\n",
    "\n",
    "w = np.dot(np.linalg.pinv(XPoly1), y1)\n",
    "print w\n",
    "\n",
    "#print np.linalg.pinv(np.array([[1,1],[1,1]])) \"proof that pinv uses Single Value Decomposition\n",
    "\n",
    "#w = w.transpose()\n",
    "#print w #the transpose has happened but it doesn't effect the repr"
   ]
  },
  {
   "cell_type": "markdown",
   "metadata": {},
   "source": [
    "Radi jasnoće, u nastavku je vektor $\\mathbf{x}$ s dodanom *dummy* jedinicom $x_0=1$ označen kao $\\tilde{\\mathbf{x}}$."
   ]
  },
  {
   "cell_type": "markdown",
   "metadata": {},
   "source": [
    "#### (c)"
   ]
  },
  {
   "cell_type": "markdown",
   "metadata": {},
   "source": [
    "Prikažite primjere iz $\\mathcal{D}$ i funkciju $h(\\tilde{\\mathbf{x}})=\\mathbf{w}^\\intercal\\tilde{\\mathbf{x}}$. Izračunajte pogrešku učenja prema izrazu $E(h|\\mathcal{D})=\\frac{1}{2}\\sum_{i=1}^N(\\tilde{\\mathbf{x}}^{(i)} - h(\\tilde{\\mathbf{x}}))^2$. Možete koristiti funkciju srednje kvadratne pogreške [`mean_squared_error`]( http://scikit-learn.org/stable/modules/generated/sklearn.metrics.mean_squared_error.html#sklearn.metrics.mean_squared_error) iz modula [`sklearn.metrics`](http://scikit-learn.org/stable/modules/classes.html#module-sklearn.metrics).\n",
    "\n",
    "**Q:** Gore definirana funkcija pogreške $E(h|\\mathcal{D})$ i funkcija srednje kvadratne pogreške nisu posve identične. U čemu je razlika? Koja je \"realnija\"?"
   ]
  },
  {
   "cell_type": "code",
   "execution_count": 248,
   "metadata": {
    "collapsed": true
   },
   "outputs": [],
   "source": [
    "from sklearn.metrics import mean_squared_error"
   ]
  },
  {
   "cell_type": "code",
   "execution_count": 249,
   "metadata": {
    "collapsed": false
   },
   "outputs": [
    {
     "name": "stdout",
     "output_type": "stream",
     "text": [
      "[4 1 2 5]\n",
      "[ 2.2         2.65714286  3.11428571  4.02857143]\n",
      "2.04285714286\n",
      "4.08571428571\n"
     ]
    }
   ],
   "source": [
    "predictions = np.dot(XPoly1, w)\n",
    "print y1\n",
    "print predictions\n",
    "\n",
    "print mean_squared_error(y1, predictions)\n",
    "print mean_squared_error(y1, predictions) * len(X1)/2"
   ]
  },
  {
   "cell_type": "markdown",
   "metadata": {},
   "source": [
    "#### (d)"
   ]
  },
  {
   "cell_type": "markdown",
   "metadata": {},
   "source": [
    "Uvjerite se da za primjere iz $\\mathcal{D}$ težine $\\mathbf{w}$ ne možemo naći rješavanjem sustava $\\mathbf{w}=\\mathbf{\\Phi}^{-1}\\mathbf{y}$, već da nam doista treba pseudoinverz.\n",
    "\n",
    "**Q:** Zašto je to slučaj? Bi li se problem mogao riješiti preslikavanjem primjera u višu dimenziju? Ako da, bi li to uvijek funkcioniralo, neovisno o skupu primjera $\\mathcal{D}$? Pokažite na primjeru."
   ]
  },
  {
   "cell_type": "code",
   "execution_count": 250,
   "metadata": {
    "collapsed": false
   },
   "outputs": [
    {
     "name": "stdout",
     "output_type": "stream",
     "text": [
      "[[  1.   0.   0.   0.]\n",
      " [  1.   1.   1.   1.]\n",
      " [  1.   2.   4.   8.]\n",
      " [  1.   4.  16.  64.]]\n",
      "[ 4.         -5.91666667  3.375      -0.45833333]\n"
     ]
    }
   ],
   "source": [
    "#print np.linalg.inv(X) #cannot do that. The matrix isn't a square matrix.\n",
    "degree = 3\n",
    "XPoly3 = PolynomialTransformation(X1, degree)\n",
    "print XPoly3\n",
    "XPoly3inv = np.linalg.inv(XPoly3)\n",
    "print np.dot(XPoly3inv, y1)"
   ]
  },
  {
   "cell_type": "markdown",
   "metadata": {},
   "source": [
    "#### (e) "
   ]
  },
  {
   "cell_type": "markdown",
   "metadata": {},
   "source": [
    "Proučite klasu [`LinearRegression`](http://scikit-learn.org/stable/modules/generated/sklearn.linear_model.LinearRegression.html#sklearn.linear_model.LinearRegression) iz modula [`sklearn.linear_model`](http://scikit-learn.org/stable/modules/classes.html#module-sklearn.linear_model). Uvjerite se da su težine koje izračunava ta funkcija (dostupne pomoću atributa `coef_` i `intercept_`) jednake onima koje ste izračunali gore. Izračunajte predikcije modela (metoda `predict`) i uvjerite se da je pogreška učenja identična onoj koju ste ranije izračunali."
   ]
  },
  {
   "cell_type": "code",
   "execution_count": 251,
   "metadata": {
    "collapsed": true
   },
   "outputs": [],
   "source": [
    "from sklearn.linear_model import LinearRegression"
   ]
  },
  {
   "cell_type": "code",
   "execution_count": 252,
   "metadata": {
    "collapsed": false
   },
   "outputs": [
    {
     "name": "stdout",
     "output_type": "stream",
     "text": [
      "2.2\n",
      "[ 0.          0.45714286]\n",
      "[ 2.2         2.65714286  3.11428571  4.02857143]\n",
      "2.04285714286\n"
     ]
    }
   ],
   "source": [
    "def PerformModel(model, X, y):\n",
    "    model.fit(X, y)\n",
    "    w0 = model.intercept_\n",
    "    wi = model.coef_\n",
    "    predictions = model.predict(X)\n",
    "    trainError = mean_squared_error(predictions, y)\n",
    "    return w0, wi, predictions, trainError\n",
    "    \n",
    "model = LinearRegression()\n",
    "w0, wi, predictions, trainError = PerformModel(model, XPoly1, y1)\n",
    "print w0\n",
    "print wi\n",
    "print predictions\n",
    "print trainError"
   ]
  },
  {
   "cell_type": "markdown",
   "metadata": {},
   "source": [
    "### 2. Polinomijalna regresija i utjecaj šuma"
   ]
  },
  {
   "cell_type": "markdown",
   "metadata": {},
   "source": [
    "#### (a)\n",
    "\n",
    "Razmotrimo sada regresiju na većem broju primjera. Koristite funkciju `make_labels(X, f, noise=0)` koja uzima matricu neoznačenih primjera $\\mathbf{X}_{N\\times n}$ te generira vektor njihovih oznaka $\\mathbf{y}_{N\\times 1}$. Oznake se generiraju kao $y^{(i)} = f(x^{(i)})+\\mathcal{N}(0,\\sigma^2)$, gdje je $f:\\mathbb{R}^n\\to\\mathbb{R}$ stvarna funkcija koja je generirala podatke (koja nam je u stvarnosti nepoznata), a $\\sigma$ je standardna devijacija Gaussovog šuma, definirana parametrom `noise`. Za generiranje šuma koristi se funkcija [`numpy.random.normal`](http://docs.scipy.org/doc/numpy/reference/generated/numpy.random.normal.html). \n",
    "\n",
    "Generirajte skup za učenje od $N=50$ primjera uniformno distribuiranih u intervalu $[-5,5]$ pomoću funkcije $f(x) = 5 + x -2 x^2 -5 x^3$ uz šum  $\\sigma=200$:"
   ]
  },
  {
   "cell_type": "code",
   "execution_count": 253,
   "metadata": {
    "collapsed": true
   },
   "outputs": [],
   "source": [
    "from numpy.random import normal\n",
    "from random import uniform"
   ]
  },
  {
   "cell_type": "code",
   "execution_count": 254,
   "metadata": {
    "collapsed": true
   },
   "outputs": [],
   "source": [
    "# N \"tall\"\n",
    "# n \"wide\"\n",
    "# noise is standard deviation, sigma\n",
    "\n",
    "def MakeLabels(X, f, noise=0) :\n",
    "    if noise > 0:\n",
    "        return np.array([(f(x) + np.random.normal(0, noise)) for x in X])\n",
    "    return  np.array([f(x) for x in X])\n",
    "\n",
    "def Function(x):\n",
    "    return 5 + x - 2*x*x - 5*x*x*x\n",
    "\n",
    "XUniform2 = np.array([uniform(-5,5) for number in xrange(50)])\n",
    "XUniform2.sort()\n",
    "XUniform2 = XUniform2.reshape(-1, 1) #make a column vector\n",
    "\n",
    "f = Function\n",
    "y2 = MakeLabels(XUniform2, f, 200)"
   ]
  },
  {
   "cell_type": "markdown",
   "metadata": {},
   "source": [
    "Prikažite taj skup funkcijom [`scatter`](http://matplotlib.org/api/pyplot_api.html#matplotlib.pyplot.scatter)."
   ]
  },
  {
   "cell_type": "code",
   "execution_count": 255,
   "metadata": {
    "collapsed": true
   },
   "outputs": [],
   "source": [
    "import scipy as sp"
   ]
  },
  {
   "cell_type": "code",
   "execution_count": 256,
   "metadata": {
    "collapsed": false
   },
   "outputs": [
    {
     "data": {
      "image/png": "[encoded data removed]",
      "text/plain": [
       "<matplotlib.figure.Figure at 0xee215f8>"
      ]
     },
     "metadata": {},
     "output_type": "display_data"
    }
   ],
   "source": [
    "def DrawFunctionOnInterval(f, interval):\n",
    "    XDraw = sp.linspace(interval[0], interval[1])\n",
    "    yDraw = MakeLabels(XDraw, f, 0)\n",
    "    plt.plot(XDraw, yDraw, \"r--\")\n",
    "    \n",
    "def DrawUniformExamples(X, y):\n",
    "    plt.scatter(X, y)\n",
    "\n",
    "DrawUniformExamples(XUniform2, y2)\n",
    "DrawFunctionOnInterval(f, (-5,5))"
   ]
  },
  {
   "cell_type": "markdown",
   "metadata": {},
   "source": [
    "#### (b)"
   ]
  },
  {
   "cell_type": "markdown",
   "metadata": {},
   "source": [
    "Trenirajte model polinomijalne regresije stupnja $d=3$. Na istom grafikonu prikažite naučeni model $h(\\mathbf{x})=\\mathbf{w}^\\intercal\\tilde{\\mathbf{x}}$ i primjere za učenje. Izračunajte pogrešku učenja modela."
   ]
  },
  {
   "cell_type": "code",
   "execution_count": 257,
   "metadata": {
    "collapsed": true
   },
   "outputs": [],
   "source": [
    "def DrawResults(X, y, color):\n",
    "    plt.plot(X, y, color)"
   ]
  },
  {
   "cell_type": "code",
   "execution_count": 258,
   "metadata": {
    "collapsed": false
   },
   "outputs": [
    {
     "name": "stdout",
     "output_type": "stream",
     "text": [
      "37556.3650373\n"
     ]
    },
    {
     "data": {
      "image/png": "[encoded data removed]",
      "text/plain": [
       "<matplotlib.figure.Figure at 0x11cdd630>"
      ]
     },
     "metadata": {},
     "output_type": "display_data"
    }
   ],
   "source": [
    "degree = 3 # if degree > 1, construct n-degree polynomial\n",
    "           # example: d=3 -> (1, x, x*x, x*x*x)\n",
    "features = PolynomialFeatures(degree)\n",
    "\n",
    "model = LinearRegression()\n",
    "XPoly3 = features.fit_transform(XUniform2)\n",
    "w0, wi, predictions, trainError = PerformModel(model, XPoly3, y2)\n",
    "\n",
    "print trainError\n",
    "DrawUniformExamples(XUniform2, y2)\n",
    "DrawFunctionOnInterval(f, (-5,5))\n",
    "DrawResults(XUniform2, predictions, \"g\")"
   ]
  },
  {
   "cell_type": "markdown",
   "metadata": {},
   "source": [
    "### 3. Odabir modela"
   ]
  },
  {
   "cell_type": "markdown",
   "metadata": {},
   "source": [
    "#### (a)\n",
    "\n",
    "Na skupu podataka iz zadatka 2 trenirajte pet modela linearne regresije $\\mathcal{H}_d$ različite složenosti, gdje je $d$ stupanj polinoma, $d\\in\\{1,3,5,10,20\\}$. Prikažite na istome grafikonu skup za učenje i funkcije $h_d(\\mathbf{x})$ za svih pet modela (preporučujemo koristiti `plot` unutar `for` petlje). Izračunajte pogrešku učenja svakog od modela.\n",
    "\n",
    "**Q:** Koji model ima najmanju pogrešku učenja i zašto?"
   ]
  },
  {
   "cell_type": "code",
   "execution_count": 259,
   "metadata": {
    "collapsed": false
   },
   "outputs": [
    {
     "name": "stdout",
     "output_type": "stream",
     "text": [
      "Degree:1 trainError:44727.2815756\n",
      "Degree:3 trainError:37556.3650373\n",
      "Degree:5 trainError:36596.4008784\n",
      "Degree:10 trainError:32101.9363898\n",
      "Degree:20 trainError:22310.2218979\n"
     ]
    },
    {
     "data": {
      "image/png": "[encoded data removed]",
      "text/plain": [
       "<matplotlib.figure.Figure at 0x121a91d0>"
      ]
     },
     "metadata": {},
     "output_type": "display_data"
    }
   ],
   "source": [
    "model = LinearRegression()\n",
    "\n",
    "degrees = [1,   3,   5,   10,  20]\n",
    "colors = [\"g\", \"b\", \"c\", \"m\", \"y\"]\n",
    "for index in xrange(len(degrees)):\n",
    "    degree = degrees[index]\n",
    "    features = PolynomialFeatures(degree)\n",
    "    \n",
    "    XPoly = features.fit_transform(XUniform2)\n",
    "    w0, wi, predictions, trainError = PerformModel(model, XPoly, y2)\n",
    "    \n",
    "    print \"Degree:\"+str(degree),\n",
    "    print \"trainError:\"+str(trainError)\n",
    "    color = colors[index]\n",
    "    plt.plot(XUniform2, predictions, color)\n",
    "    \n",
    "DrawUniformExamples(XUniform2, y2)\n",
    "DrawFunctionOnInterval(f, (-5,5))"
   ]
  },
  {
   "cell_type": "markdown",
   "metadata": {},
   "source": [
    "#### (b)"
   ]
  },
  {
   "cell_type": "markdown",
   "metadata": {},
   "source": [
    "Razdvojite skup primjera iz zadatka 2 pomoću funkcije [`cross_validation.train_test_split`](http://scikit-learn.org/stable/modules/generated/sklearn.cross_validation.train_test_split.html#sklearn.cross_validation.train_test_split) na skup za učenja i skup za ispitivanje u omjeru 1:1. Prikažite na jednom grafikonu pogrešku učenja i ispitnu pogrešku za modele polinomijalne regresije $\\mathcal{H}_d$, sa stupnjem polinoma $d$ u rasponu $d\\in [1,2,\\ldots,20]$. Radi preciznosti, funkcije $h(\\mathbf{x})$ iscrtajte na cijelom skupu primjera (ali pogrešku generalizacije računajte, naravno, samo na ispitnome skupu). Budući da kvadratna pogreška brzo raste za veće stupnjeve polinoma, umjesto da iscrtate izravno iznose pogrešaka, iscrtajte njihove logaritme.\n",
    "\n",
    "**NB:** Podjela na skupa za učenje i skup za ispitivanje mora za svih pet modela biti identična.\n",
    "\n",
    "**Q:** Je li rezultat u skladu s očekivanjima? Koji biste model odabrali i zašto?\n",
    "\n",
    "**Q:** Pokrenite iscrtavanje više puta. U čemu je problem? Bi li problem bio jednako izražen kad bismo imali više primjera? Zašto?"
   ]
  },
  {
   "cell_type": "markdown",
   "metadata": {},
   "source": [
    "[Decrication source](http://scikit-learn.org/stable/modules/generated/sklearn.cross_validation.train_test_split.html#sklearn.cross_validation.train_test_split)"
   ]
  },
  {
   "cell_type": "code",
   "execution_count": 260,
   "metadata": {
    "collapsed": false
   },
   "outputs": [],
   "source": [
    "#from sklearn import cross_validation #Depricated!\n",
    "from sklearn.model_selection import train_test_split"
   ]
  },
  {
   "cell_type": "code",
   "execution_count": 261,
   "metadata": {
    "collapsed": false
   },
   "outputs": [
    {
     "name": "stdout",
     "output_type": "stream",
     "text": [
      "Degree:1 testError:65321.2355411\n",
      "Degree:2 testError:62954.380353\n",
      "Degree:3 testError:64156.3674402\n",
      "Degree:4 testError:63197.6208237\n",
      "Degree:5 testError:63876.6075787\n",
      "Degree:6 testError:62481.1928403\n",
      "Degree:7 testError:62928.0930416\n",
      "Degree:8 testError:63385.5792834\n",
      "Degree:9 testError:58859.5142254\n",
      "Degree:10 testError:80840.0017923\n",
      "Degree:11 testError:70858.806518\n",
      "Degree:12 testError:73169.7614406\n",
      "Degree:13 testError:72805.0821792\n",
      "Degree:14 testError:896016.739646\n",
      "Degree:15 testError:677146.832197\n",
      "Degree:16 testError:5522803.08745\n",
      "Degree:17 testError:4716479.12417\n",
      "Degree:18 testError:5466748.86254\n",
      "Degree:19 testError:151011807.051\n",
      "Degree:20 testError:72814617.0592\n"
     ]
    },
    {
     "data": {
      "image/png": "[encoded data removed]",
      "text/plain": [
       "<matplotlib.figure.Figure at 0x122142b0>"
      ]
     },
     "metadata": {},
     "output_type": "display_data"
    }
   ],
   "source": [
    "def PerformModelAndCrossValidation(model, X, y):\n",
    "    X_train, X_test, y_train, y_test = train_test_split(X, y, test_size=0.5, random_state=0)\n",
    "    \n",
    "    model.fit(X_train, y_train)\n",
    "\n",
    "    predictions = model.predict(X_train)\n",
    "    trainError = mean_squared_error(y_train, predictions)\n",
    "\n",
    "    predictions = model.predict(X_test)\n",
    "    testError = mean_squared_error(y_test, predictions)\n",
    "    \n",
    "    return trainError, testError\n",
    "        \n",
    "def DrawErrors(xAxis, trainErrors, testErrors, ax=False):\n",
    "    if ax:\n",
    "        ax.plot(xAxis, log(trainErrors), \"b\")\n",
    "        ax.plot(xAxis, log(testErrors), \"r\")\n",
    "    else:\n",
    "        plt.plot(xAxis, log(trainErrors), \"b\")\n",
    "        plt.plot(xAxis, log(testErrors), \"r\")\n",
    "\n",
    "model = LinearRegression()\n",
    "trainErrors = []\n",
    "testErrors = []\n",
    "degrees = xrange(1, 21)\n",
    "for degree in degrees:\n",
    "    features = PolynomialFeatures(degree)\n",
    "    \n",
    "    XPoly = features.fit_transform(XUniform2)\n",
    "    trainError, testError = PerformModelAndCrossValidation(model, XPoly, y2)\n",
    "    trainErrors.append(trainError)\n",
    "    testErrors.append(testError)\n",
    "    \n",
    "    print \"Degree:\"+str(degree),\n",
    "    print \"testError:\"+str(testError)\n",
    "\n",
    "DrawErrors(range(1, 21), trainErrors, testErrors)"
   ]
  },
  {
   "cell_type": "markdown",
   "metadata": {},
   "source": [
    "#### (c)"
   ]
  },
  {
   "cell_type": "markdown",
   "metadata": {},
   "source": [
    "Točnost modela ovisi o (1) njegovoj složenosti (stupanj $d$ polinoma), (2) broju primjera $N$, i (3) količini šuma. Kako biste to analizirali, nacrtajte grafikone pogrešaka kao u 3b, ali za sve kombinacija broja primjera $N\\in\\{100,200,1000\\}$ i količine šuma $\\sigma\\in\\{100,200,500\\}$ (ukupno 9 grafikona). Upotrijebite funkciju [`subplots`](http://matplotlib.org/examples/pylab_examples/subplots_demo.html) kako biste pregledno posložili grafikone u tablicu $3\\times 3$. Podatci se generiraju na isti način kao u zadatku 2.\n",
    "\n",
    "**NB:** Pobrinite se da svi grafikoni budu generirani nad usporedivim skupovima podataka, na sljedeći način. Generirajte najprije svih 1000 primjera, podijelite ih na skupove za učenje i skupove za ispitivanje (dva skupa od po 500 primjera). Zatim i od skupa za učenje i od skupa za ispitivanje načinite tri različite verzije, svaka s drugačijom količinom šuma (ukupno 2x3=6 verzija podataka). Kako bi simulirali veličinu skupa podataka, od tih dobivenih 6 skupova podataka uzorkujte trećinu, dvije trećine i sve podatke. Time ste dobili 18 skupova podataka -- skup za učenje i za testiranje za svaki od devet grafova."
   ]
  },
  {
   "cell_type": "markdown",
   "metadata": {},
   "source": [
    "***Q:*** Jesu li rezultati očekivani? Obrazložite."
   ]
  },
  {
   "cell_type": "code",
   "execution_count": 262,
   "metadata": {
    "collapsed": false
   },
   "outputs": [
    {
     "name": "stdout",
     "output_type": "stream",
     "text": [
      "Degree:1 testError:28025.4214967\n",
      "Degree:2 testError:27524.8081368\n",
      "Degree:3 testError:15297.5185783\n",
      "Degree:4 testError:15002.2983365\n",
      "Degree:5 testError:14819.0996532\n",
      "Degree:6 testError:15479.3849008\n",
      "Degree:7 testError:15339.1643319\n",
      "Degree:8 testError:15364.7831992\n",
      "Degree:9 testError:16721.6089913\n",
      "Degree:10 testError:16223.0688565\n",
      "Degree:11 testError:18960.7218235\n",
      "Degree:12 testError:16726.2926591\n",
      "Degree:13 testError:118009.548067\n",
      "Degree:14 testError:303562.016586\n",
      "Degree:15 testError:1134430.71966\n",
      "Degree:16 testError:413234.025228\n",
      "Degree:17 testError:573231.138151\n",
      "Degree:18 testError:470585.326283\n",
      "Degree:19 testError:15819574.9257\n",
      "Degree:20 testError:34667976.669\n",
      "Degree:1 testError:59162.6588254\n",
      "Degree:2 testError:60988.2194666\n",
      "Degree:3 testError:61768.085961\n",
      "Degree:4 testError:62166.8448136\n",
      "Degree:5 testError:62244.3737785\n",
      "Degree:6 testError:61738.1930865\n",
      "Degree:7 testError:64792.4108574\n",
      "Degree:8 testError:61720.5500272\n",
      "Degree:9 testError:62696.8346551\n",
      "Degree:10 testError:242659.566779\n",
      "Degree:11 testError:1001777.09531\n",
      "Degree:12 testError:114981.885433\n",
      "Degree:13 testError:1337986.7139\n",
      "Degree:14 testError:9290537.58758\n",
      "Degree:15 testError:41726925.3925\n",
      "Degree:16 testError:63841790.2763\n",
      "Degree:17 testError:5972964536.22\n",
      "Degree:18 testError:53589478.1137\n",
      "Degree:19 testError:46860805055.8\n",
      "Degree:20 testError:49708392638.4\n",
      "Degree:1 testError:326096.601205\n",
      "Degree:2 testError:358581.289018\n",
      "Degree:3 testError:348806.824026\n",
      "Degree:4 testError:360368.042201\n",
      "Degree:5 testError:364948.007212\n",
      "Degree:6 testError:364834.91879\n",
      "Degree:7 testError:367261.933846\n",
      "Degree:8 testError:370189.523442\n",
      "Degree:9 testError:346788.764064\n",
      "Degree:10 testError:461874.837546\n",
      "Degree:11 testError:790050.343427\n",
      "Degree:12 testError:390718.876648\n",
      "Degree:13 testError:441575.407933\n",
      "Degree:14 testError:414940.379636\n",
      "Degree:15 testError:1137499.97652\n",
      "Degree:16 testError:5069941.45235\n",
      "Degree:17 testError:1513068.58014\n",
      "Degree:18 testError:47243402.3038\n",
      "Degree:19 testError:211241027.128\n",
      "Degree:20 testError:219453485.819\n",
      "Degree:1 testError:14918.8052079\n",
      "Degree:2 testError:15102.600449\n",
      "Degree:3 testError:9736.12525612\n",
      "Degree:4 testError:9739.73027196\n",
      "Degree:5 testError:9602.79758952\n",
      "Degree:6 testError:10083.0879245\n",
      "Degree:7 testError:10355.4785761\n",
      "Degree:8 testError:10335.5210896\n",
      "Degree:9 testError:10300.9805262\n",
      "Degree:10 testError:10330.2382215\n",
      "Degree:11 testError:10235.044053\n",
      "Degree:12 testError:10245.376207\n",
      "Degree:13 testError:10353.605086\n",
      "Degree:14 testError:10376.3107878\n",
      "Degree:15 testError:10308.0413005\n",
      "Degree:16 testError:10682.0255747\n",
      "Degree:17 testError:11620.600487\n",
      "Degree:18 testError:11433.7551245\n",
      "Degree:19 testError:12051.9362792\n",
      "Degree:20 testError:12008.7939513\n",
      "Degree:1 testError:47944.7121388\n",
      "Degree:2 testError:48510.5886239\n",
      "Degree:3 testError:36738.2416638\n",
      "Degree:4 testError:36776.3616321\n",
      "Degree:5 testError:38692.2566585\n",
      "Degree:6 testError:39570.2862059\n",
      "Degree:7 testError:39631.1922315\n",
      "Degree:8 testError:39836.1396011\n",
      "Degree:9 testError:41508.9158097\n",
      "Degree:10 testError:46982.7806079\n",
      "Degree:11 testError:51405.0993495\n",
      "Degree:12 testError:53636.0458764\n",
      "Degree:13 testError:56589.857553\n",
      "Degree:14 testError:56743.0463147\n",
      "Degree:15 testError:55948.6881137\n",
      "Degree:16 testError:56028.1291755\n",
      "Degree:17 testError:56698.7192859\n",
      "Degree:18 testError:54020.3458703\n",
      "Degree:19 testError:53358.3758838\n",
      "Degree:20 testError:52503.8220703\n",
      "Degree:1 testError:254143.944512\n",
      "Degree:2 testError:264228.621682\n",
      "Degree:3 testError:257983.023658\n",
      "Degree:4 testError:263006.241793\n",
      "Degree:5 testError:262830.701486\n",
      "Degree:6 testError:262077.444231\n",
      "Degree:7 testError:261064.135208\n",
      "Degree:8 testError:287320.367956\n",
      "Degree:9 testError:283296.926928\n",
      "Degree:10 testError:283178.284572\n",
      "Degree:11 testError:282371.77764\n",
      "Degree:12 testError:279079.469961\n",
      "Degree:13 testError:280847.518574\n",
      "Degree:14 testError:288965.137749\n",
      "Degree:15 testError:290858.356789\n",
      "Degree:16 testError:292657.442674\n",
      "Degree:17 testError:291372.230736\n",
      "Degree:18 testError:302085.501141\n",
      "Degree:19 testError:286965.296778\n",
      "Degree:20 testError:510258.550862\n",
      "Degree:1 testError:19925.9606127\n",
      "Degree:2 testError:19439.9350731\n",
      "Degree:3 testError:10130.7178634\n",
      "Degree:4 testError:10117.5385341\n",
      "Degree:5 testError:10217.1481884\n",
      "Degree:6 testError:10233.4644657\n",
      "Degree:7 testError:10225.8299096\n",
      "Degree:8 testError:10224.6299645\n",
      "Degree:9 testError:10360.3064278\n",
      "Degree:10 testError:10360.5869051\n",
      "Degree:11 testError:10353.0002475\n",
      "Degree:12 testError:10551.3092126\n",
      "Degree:13 testError:10561.9016099\n",
      "Degree:14 testError:10561.2430457\n",
      "Degree:15 testError:10557.82015\n",
      "Degree:16 testError:10525.9663598\n",
      "Degree:17 testError:10532.4690045\n",
      "Degree:18 testError:10870.3222532\n",
      "Degree:19 testError:10882.6160476\n",
      "Degree:20 testError:10874.1493636\n",
      "Degree:1 testError:48644.9272335\n",
      "Degree:2 testError:48236.5228774\n",
      "Degree:3 testError:39765.4853738\n",
      "Degree:4 testError:39724.9148131\n",
      "Degree:5 testError:39663.1125378\n",
      "Degree:6 testError:39596.9887811\n",
      "Degree:7 testError:39580.6205604\n",
      "Degree:8 testError:39616.0021016\n",
      "Degree:9 testError:39624.1533258\n",
      "Degree:10 testError:39606.6451727\n",
      "Degree:11 testError:39648.0861269\n",
      "Degree:12 testError:39960.2492203\n",
      "Degree:13 testError:39959.6862705\n",
      "Degree:14 testError:40387.9643741\n",
      "Degree:15 testError:40286.7681299\n",
      "Degree:16 testError:40291.9890187\n",
      "Degree:17 testError:40304.2481053\n",
      "Degree:18 testError:40587.7110984\n",
      "Degree:19 testError:40537.6944817\n",
      "Degree:20 testError:40504.3492416\n",
      "Degree:1 testError:259100.991276\n",
      "Degree:2 testError:263110.530242\n",
      "Degree:3 testError:250082.785801\n",
      "Degree:4 testError:251042.880094\n",
      "Degree:5 testError:255800.132323\n",
      "Degree:6 testError:257170.139604\n",
      "Degree:7 testError:257093.072605\n",
      "Degree:8 testError:257324.998323\n",
      "Degree:9 testError:256342.476459\n",
      "Degree:10 testError:259732.245148\n",
      "Degree:11 testError:259749.329797\n",
      "Degree:12 testError:260352.344058\n",
      "Degree:13 testError:260292.958206\n",
      "Degree:14 testError:260694.577532\n",
      "Degree:15 testError:262761.265108\n",
      "Degree:16 testError:263213.208094\n",
      "Degree:17 testError:267402.495179\n",
      "Degree:18 testError:267459.678139\n",
      "Degree:19 testError:267355.39343\n",
      "Degree:20 testError:263921.787285\n"
     ]
    },
    {
     "data": {
      "image/png": "[encoded data removed]",
      "text/plain": [
       "<matplotlib.figure.Figure at 0x12583668>"
      ]
     },
     "metadata": {},
     "output_type": "display_data"
    }
   ],
   "source": [
    "Ns = [100,200,1000]\n",
    "sigmas = [100,200,500]\n",
    "f, axarr = plt.subplots(3, 3, sharex='col', sharey='row')\n",
    "counter = 0\n",
    "for N in Ns:\n",
    "    for sigma in sigmas:\n",
    "        X3 = np.array([uniform(-5,5) for number in xrange(N)])\n",
    "        X3.sort()\n",
    "        X3 = X3.reshape(-1, 1)\n",
    "        f = Function\n",
    "        y3 = MakeLabels(X3, f, sigma)\n",
    "        \n",
    "        model = LinearRegression()\n",
    "        trainErrors = []\n",
    "        testErrors = []\n",
    "        degrees = xrange(1, 21)\n",
    "        for degree in degrees:\n",
    "            features = PolynomialFeatures(degree)\n",
    "\n",
    "            XPoly = features.fit_transform(X3)\n",
    "            trainError, testError = PerformModelAndCrossValidation(model, XPoly, y3)\n",
    "            trainErrors.append(trainError)\n",
    "            testErrors.append(testError)\n",
    "\n",
    "            print \"Degree:\"+str(degree),\n",
    "            print \"testError:\"+str(testError)\n",
    "        \n",
    "        DrawErrors(range(1,21), trainErrors, testErrors, ax=axarr[counter/3,counter%3])\n",
    "        axarr[counter/3,counter%3].set_title(\"N:\"+str(N)+\";sigma:\"+str(sigma))\n",
    "        counter += 1"
   ]
  },
  {
   "cell_type": "markdown",
   "metadata": {},
   "source": [
    "### 4. Regularizirana regresija"
   ]
  },
  {
   "cell_type": "markdown",
   "metadata": {},
   "source": [
    "#### (a)\n",
    "\n",
    "U gornjim eksperimentima nismo koristili **regularizaciju**. Vratimo se najprije na primjer iz zadatka 1. Na primjerima iz tog zadatka izračunajte težine $\\mathbf{w}$ za polinomijalni regresijski model stupnja $d=3$ uz L2-regularizaciju (tzv. *ridge regression*), prema izrazu $\\mathbf{w}=(\\mathbf{\\Phi}^\\intercal\\mathbf{\\Phi}+\\lambda\\mathbf{I})^{-1}\\mathbf{\\Phi}^\\intercal\\mathbf{y}$. Napravite izračun težina za regularizacijske faktore $\\lambda=0$, $\\lambda=1$ i $\\lambda=10$ te usporedite dobivene težine.\n",
    "\n",
    "**Q:** Kojih je dimenzija matrica koju treba invertirati?\n",
    "\n",
    "**Q:** Po čemu se razlikuju dobivene težine i je li ta razlika očekivana? Obrazložite."
   ]
  },
  {
   "cell_type": "code",
   "execution_count": 263,
   "metadata": {
    "collapsed": false
   },
   "outputs": [
    {
     "name": "stdout",
     "output_type": "stream",
     "text": [
      "[[  1.   0.   0.   0.]\n",
      " [  1.   1.   1.   1.]\n",
      " [  1.   2.   4.   8.]\n",
      " [  1.   4.  16.  64.]]\n",
      "Lam:0 [ 4.         -5.91666667  3.375      -0.45833333]\n",
      "Lam:1 [ 3.05696145 -0.69079365 -0.2831746   0.1445805 ]\n",
      "Lam:10 [ 2.49444184 -0.15897295 -0.13423067  0.0815601 ]\n"
     ]
    }
   ],
   "source": [
    "degree = 3\n",
    "features = PolynomialFeatures(degree)\n",
    "XPoly3 = features.fit_transform(X1)\n",
    "print XPoly3\n",
    "\n",
    "XT = XPoly3.transpose()\n",
    "XTmulX = np.dot(XT, XPoly3)\n",
    "\n",
    "I = np.eye(len(XPoly3))\n",
    "I[0][0] = 0 #this is how you can fix the discrepancy between 4a) and 4b)\n",
    "\n",
    "lams = [0,1,10]\n",
    "for lam in lams:\n",
    "    XTmulXinv = np.linalg.inv(XTmulX + np.dot(lam, I))\n",
    "    w = np.dot(np.dot(XTmulXinv, XT), y1)\n",
    "    print \"Lam:\"+str(lam),\n",
    "    print w"
   ]
  },
  {
   "cell_type": "markdown",
   "metadata": {},
   "source": [
    "#### (b)"
   ]
  },
  {
   "cell_type": "markdown",
   "metadata": {},
   "source": [
    "Proučite klasu [`Ridge`](http://scikit-learn.org/stable/modules/generated/sklearn.linear_model.Ridge.html#sklearn.linear_model.Ridge) iz modula [`sklearn.linear_model`](http://scikit-learn.org/stable/modules/classes.html#module-sklearn.linear_model), koja implementira L2-regularizirani regresijski model. Parametar $\\alpha$ odgovara parametru $\\lambda$. Primijenite model na istim primjerima kao u prethodnom zadatku i ispišite težine $\\mathbf{w}$ (atributi `coef_` i `intercept_`).\n",
    "\n",
    "**Q:** Jesu li težine identične onima iz zadatka 4a? Ako nisu, objasnite zašto je to tako i kako biste to popravili."
   ]
  },
  {
   "cell_type": "markdown",
   "metadata": {},
   "source": [
    "[Ridge Loss Function](http://scikit-learn.org/stable/modules/linear_model.html#ridge-regression)\n",
    "\n",
    "[Lecture Ridge Loss Function](http://www.fer.unizg.hr/_download/repository/SU-2016-4-Regresija2.pdf)"
   ]
  },
  {
   "cell_type": "code",
   "execution_count": 264,
   "metadata": {
    "collapsed": true
   },
   "outputs": [],
   "source": [
    "from sklearn.linear_model import Ridge"
   ]
  },
  {
   "cell_type": "code",
   "execution_count": 265,
   "metadata": {
    "collapsed": false
   },
   "outputs": [
    {
     "name": "stdout",
     "output_type": "stream",
     "text": [
      "4.0\n",
      "[ 0.         -5.91666667  3.375      -0.45833333]\n",
      "3.05696145125\n",
      "[ 0.         -0.69079365 -0.2831746   0.1445805 ]\n",
      "2.49444184312\n",
      "[ 0.         -0.15897295 -0.13423067  0.0815601 ]\n"
     ]
    }
   ],
   "source": [
    "lams = [0,1,10]\n",
    "for lam in lams:\n",
    "    model = Ridge(alpha=lam)\n",
    "    w0, wi, predictions, trainError = PerformModel(model, XPoly3, y1)\n",
    "    print w0\n",
    "    print wi"
   ]
  },
  {
   "cell_type": "markdown",
   "metadata": {},
   "source": [
    "### 5. Regularizirana polinomijalna regresija"
   ]
  },
  {
   "cell_type": "markdown",
   "metadata": {},
   "source": [
    "#### (a)\n",
    "\n",
    "Vratimo se na slučaj $N=50$ slučajno generiranih primjera iz zadatka 2. Trenirajte modele polinomijalne regresije $\\mathcal{H}_{\\lambda,d}$ za $\\lambda\\in\\{0,100\\}$ i $d\\in\\{2,10\\}$ (ukupno četiri modela). Skicirajte pripadne funkcije $h(\\mathbf{x})$ i primjere (na jednom grafikonu; preporučujemo koristiti `plot` unutar `for` petlje).\n",
    "\n",
    "**Q:** Jesu li rezultati očekivani? Obrazložite."
   ]
  },
  {
   "cell_type": "code",
   "execution_count": 266,
   "metadata": {
    "collapsed": true
   },
   "outputs": [],
   "source": [
    "import matplotlib.patches as mpatches"
   ]
  },
  {
   "cell_type": "code",
   "execution_count": 267,
   "metadata": {
    "collapsed": false
   },
   "outputs": [
    {
     "data": {
      "text/plain": [
       "<matplotlib.legend.Legend at 0xa2a9a58>"
      ]
     },
     "execution_count": 267,
     "metadata": {},
     "output_type": "execute_result"
    },
    {
     "data": {
      "image/png": "[encoded data removed]",
      "text/plain": [
       "<matplotlib.figure.Figure at 0x1258f400>"
      ]
     },
     "metadata": {},
     "output_type": "display_data"
    }
   ],
   "source": [
    "DrawUniformExamples(XUniform2, y2)\n",
    "DrawFunctionOnInterval(f, (-5,5))\n",
    "\n",
    "lams = [0,100]\n",
    "degrees = [2,10]\n",
    "colors = [\"g\", \"b\", \"c\", \"m\"]\n",
    "patches = []\n",
    "counter = 0\n",
    "for lam in lams:\n",
    "    for degree in degrees:\n",
    "        model = Ridge(alpha=lam)\n",
    "        features = PolynomialFeatures(degree)\n",
    "    \n",
    "        XPoly = features.fit_transform(XUniform2)\n",
    "        w0, wi, predictions, trainError = PerformModel(model, XPoly, y2)\n",
    "        \n",
    "        color = colors[counter]\n",
    "        counter += 1\n",
    "        \n",
    "        patches.append(mpatches.Patch(color=color, label=\"L:\"+str(lam)+\",d:\"+str(degree)))\n",
    "        plt.plot(XUniform2, predictions, color)\n",
    "        \n",
    "plt.legend(handles=patches)"
   ]
  },
  {
   "cell_type": "code",
   "execution_count": 268,
   "metadata": {
    "collapsed": false
   },
   "outputs": [
    {
     "data": {
      "text/plain": [
       "<matplotlib.legend.Legend at 0x12390748>"
      ]
     },
     "execution_count": 268,
     "metadata": {},
     "output_type": "execute_result"
    },
    {
     "data": {
      "image/png": "[encoded data removed]",
      "text/plain": [
       "<matplotlib.figure.Figure at 0xa22dd30>"
      ]
     },
     "metadata": {},
     "output_type": "display_data"
    }
   ],
   "source": [
    "#For DZ2_7\n",
    "DrawUniformExamples(XUniform2, y2)\n",
    "DrawFunctionOnInterval(f, (-5,5))\n",
    "\n",
    "lams = [0,100,1000]\n",
    "degrees = [5]\n",
    "colors = [\"g\", \"y\", \"c\", \"m\"]\n",
    "patches = []\n",
    "counter = 0\n",
    "for lam in lams:\n",
    "    for degree in degrees:\n",
    "        model = Ridge(alpha=lam)\n",
    "        features = PolynomialFeatures(degree)\n",
    "    \n",
    "        XPoly = features.fit_transform(XUniform2)\n",
    "        w0, wi, predictions, trainError = PerformModel(model, XPoly, y2)\n",
    "        \n",
    "        color = colors[counter]\n",
    "        counter += 1\n",
    "        \n",
    "        patches.append(mpatches.Patch(color=color, label=\"L:\"+str(lam)+\",d:\"+str(degree)))\n",
    "        plt.plot(XUniform2, predictions, color)\n",
    "        \n",
    "plt.legend(handles=patches)"
   ]
  },
  {
   "cell_type": "markdown",
   "metadata": {},
   "source": [
    "#### (b)\n",
    "\n",
    "Kao u zadataku 3b, razdvojite primjere na skup za učenje i skup za ispitivanje u omjeru 1:1. Prikažite krivulje logaritama pogreške učenja i ispitne pogreške u ovisnosti za model $\\mathcal{H}_{d=20,\\lambda}$, podešavajući faktor regularizacije $\\lambda$ u rasponu $\\lambda\\in\\{0,1,\\dots,50\\}$.\n",
    "\n",
    "**Q:** Kojoj strani na grafikonu odgovara područje prenaučenosti, a kojoj podnaučenosti? Zašto?\n",
    "\n",
    "**Q:** Koju biste vrijednosti za $\\lambda$ izabrali na temelju ovih grafikona i zašto?\n"
   ]
  },
  {
   "cell_type": "code",
   "execution_count": 269,
   "metadata": {
    "collapsed": false
   },
   "outputs": [
    {
     "name": "stdout",
     "output_type": "stream",
     "text": [
      "Lam:0 testError:98169906.0297\n",
      "Lam:1 testError:11196721.5731\n",
      "Lam:2 testError:7793182.33786\n",
      "Lam:3 testError:6298437.89985\n",
      "Lam:4 testError:6196544.2233\n",
      "Lam:5 testError:6212281.70552\n",
      "Lam:6 testError:6098543.86098\n",
      "Lam:7 testError:6225713.90695\n",
      "Lam:8 testError:6174737.11055\n",
      "Lam:9 testError:6218476.37994\n",
      "Lam:10 testError:6299381.5285\n",
      "Lam:11 testError:6274406.62865\n",
      "Lam:12 testError:6340715.22053\n",
      "Lam:13 testError:6391373.39181\n",
      "Lam:14 testError:6391537.52067\n",
      "Lam:15 testError:6418174.37518\n",
      "Lam:16 testError:6454070.1515\n",
      "Lam:17 testError:6523751.16612\n",
      "Lam:18 testError:6584209.92692\n",
      "Lam:19 testError:6502755.45509\n",
      "Lam:20 testError:6595421.81044\n",
      "Lam:21 testError:6584858.0863\n",
      "Lam:22 testError:6599658.69422\n",
      "Lam:23 testError:6637911.28778\n",
      "Lam:24 testError:6645800.76184\n",
      "Lam:25 testError:6672113.38145\n",
      "Lam:26 testError:6660172.04897\n",
      "Lam:27 testError:6672699.87682\n",
      "Lam:28 testError:6741775.94489\n",
      "Lam:29 testError:6709795.3131\n",
      "Lam:30 testError:6709539.67729\n",
      "Lam:31 testError:6745713.29486\n",
      "Lam:32 testError:6745733.38763\n",
      "Lam:33 testError:6694013.26717\n",
      "Lam:34 testError:6760710.66696\n",
      "Lam:35 testError:6749444.02479\n",
      "Lam:36 testError:6785352.83536\n",
      "Lam:37 testError:6756840.50704\n",
      "Lam:38 testError:6831635.16765\n",
      "Lam:39 testError:6749360.07996\n",
      "Lam:40 testError:6774785.30616\n",
      "Lam:41 testError:6766035.18692\n",
      "Lam:42 testError:6830581.55743\n",
      "Lam:43 testError:6835160.29001\n",
      "Lam:44 testError:6819697.65602\n",
      "Lam:45 testError:6853342.40702\n",
      "Lam:46 testError:6803918.34655\n",
      "Lam:47 testError:6811154.9068\n",
      "Lam:48 testError:6791432.76441\n",
      "Lam:49 testError:6802441.29698\n",
      "Lam:50 testError:6835212.75977\n"
     ]
    },
    {
     "data": {
      "image/png": "[encoded data removed]",
      "text/plain": [
       "<matplotlib.figure.Figure at 0x12390860>"
      ]
     },
     "metadata": {},
     "output_type": "display_data"
    }
   ],
   "source": [
    "degree = 20\n",
    "features = PolynomialFeatures(degree)\n",
    "XPoly20 = features.fit_transform(XUniform2)\n",
    "\n",
    "trainErrors = []\n",
    "testErrors = []\n",
    "lams = range(51)\n",
    "for lam in lams:\n",
    "    model = Ridge(alpha=lam)\n",
    "    \n",
    "    trainError, testError = PerformModelAndCrossValidation(model, XPoly20, y2)\n",
    "    trainErrors.append(trainError)\n",
    "    testErrors.append(testError)\n",
    "    \n",
    "    print \"Lam:\"+str(lam),\n",
    "    print \"testError:\"+str(testError)\n",
    "\n",
    "DrawErrors(lams, trainErrors, testErrors)"
   ]
  },
  {
   "cell_type": "markdown",
   "metadata": {},
   "source": [
    "### 6. L1-regularizacija i L2-regularizacija"
   ]
  },
  {
   "cell_type": "markdown",
   "metadata": {},
   "source": [
    "Svrha regularizacije jest potiskivanje težina modela $\\mathbf{w}$ prema nuli, kako bi model bio što jednostavniji. Složenost modela može se okarakterizirati normom pripadnog vektora težina $\\mathbf{w}$, i to tipično L2-normom ili L1-normom. Za jednom trenirani model možemo izračunati i broj ne-nul značajki, ili L0-normu, pomoću sljedeće funkcije:"
   ]
  },
  {
   "cell_type": "code",
   "execution_count": 270,
   "metadata": {
    "collapsed": true
   },
   "outputs": [],
   "source": [
    "def nonzeroes(coef, tol=1e-6): \n",
    "    return len(coef) - len(coef[sp.isclose(0, coef, atol=tol)])"
   ]
  },
  {
   "cell_type": "code",
   "execution_count": 271,
   "metadata": {
    "collapsed": true
   },
   "outputs": [],
   "source": [
    "ERROR = (0.1)**4\n",
    "\n",
    "def IsFloatEqual(floatOne, floatTwo):\n",
    "    if ((floatTwo-ERROR) <= floatOne) and (floatOne <= (floatTwo+ERROR)):\n",
    "        return True\n",
    "    return False\n",
    "\n",
    "def LNorm(wRow, p):\n",
    "    wColumn = wRow.reshape(-1, 1)\n",
    "    if p == 0:\n",
    "        countZeros = 0\n",
    "        for value in wColumn:\n",
    "            if IsFloatEqual(value[0], 0.0):\n",
    "                countZeros += 1\n",
    "        return len(wColumn) - countZeros\n",
    "    \n",
    "    if p == 1:\n",
    "        sum = 0\n",
    "        for value in wColumn:\n",
    "            sum += sqrt(value[0]**2)\n",
    "        return sum\n",
    "    \n",
    "    if p == 2:\n",
    "        try:\n",
    "            return sqrt(np.dot(wRow, wColumn)[0][0])\n",
    "        except:\n",
    "            return sqrt(np.dot(wRow, wColumn)[0])\n",
    "    \n",
    "    print \"ERROR_NOT_IMPLEMENTED\""
   ]
  },
  {
   "cell_type": "markdown",
   "metadata": {},
   "source": [
    "#### (a)\n",
    "\n",
    "Za ovaj zadatak upotrijebite skup za učenje i skup za testiranje iz zadatka 3b. Trenirajte modele **L2-regularizirane** polinomijalne regresije stupnja $d=20$, mijenjajući hiperparametar $\\lambda$ u rasponu $\\{1,2,\\dots,100\\}$. Za svaki od treniranih modela izračunajte L{0,1,2}-norme vektora težina $\\mathbf{w}$ te ih prikažite kao funkciju od $\\lambda$.\n",
    "\n",
    "**Q:** Objasnite oblik obiju krivulja. Hoće li krivulja za $\\|\\mathbf{w}\\|_2$ doseći nulu? Zašto? Je li to problem? Zašto?\n",
    "\n",
    "**Q:** Za $\\lambda=100$, koliki je postotak težina modela jednak nuli, odnosno koliko je model rijedak?"
   ]
  },
  {
   "cell_type": "code",
   "execution_count": 272,
   "metadata": {
    "collapsed": true
   },
   "outputs": [],
   "source": [
    "def PerformLAndCalculateNorms(model, X, y):\n",
    "    X_train, X_test, y_train, y_test = train_test_split(X, y, test_size=0.5, random_state=0)\n",
    "    \n",
    "    model.fit(X_train, y_train)\n",
    "    wi = model.coef_\n",
    "    \n",
    "    L0 = LNorm(wi, 0)\n",
    "    L1 = LNorm(wi, 1)\n",
    "    L2 = LNorm(wi, 2)\n",
    "    \n",
    "    return L0, L1, L2"
   ]
  },
  {
   "cell_type": "code",
   "execution_count": 273,
   "metadata": {
    "collapsed": true
   },
   "outputs": [],
   "source": [
    "L0s = []\n",
    "L1s = []\n",
    "L2s = []\n",
    "lams = range(1, 101)\n",
    "for lam in lams:\n",
    "    model = Ridge(alpha=lam)\n",
    "    \n",
    "    L0, L1, L2 = PerformLAndCalculateNorms(model, XPoly20, y2)\n",
    "    L0s.append(L0)\n",
    "    L1s.append(L1)\n",
    "    L2s.append(L2)"
   ]
  },
  {
   "cell_type": "code",
   "execution_count": 274,
   "metadata": {
    "collapsed": false
   },
   "outputs": [
    {
     "data": {
      "image/png": "[encoded data removed]",
      "text/plain": [
       "<matplotlib.figure.Figure at 0x121c0a90>"
      ]
     },
     "metadata": {},
     "output_type": "display_data"
    }
   ],
   "source": [
    "DrawResults(lams, L0s, \"g\")\n",
    "DrawResults(lams, L1s, \"y\")\n",
    "DrawResults(lams, L2s, \"c\")"
   ]
  },
  {
   "cell_type": "code",
   "execution_count": 275,
   "metadata": {
    "collapsed": false
   },
   "outputs": [
    {
     "name": "stdout",
     "output_type": "stream",
     "text": [
      "[18, 18, 18, 17, 17, 17, 18, 18, 17, 17, 17, 17, 17, 17, 17, 17, 17, 17, 17, 17, 17, 17, 17, 17, 17, 17, 17, 17, 17, 17, 17, 17, 17, 17, 17, 17, 17, 17, 17, 17, 17, 17, 17, 17, 16, 16, 16, 16, 16, 16, 16, 17, 17, 17, 17, 17, 17, 17, 17, 17, 17, 17, 17, 17, 17, 17, 17, 17, 17, 17, 17, 17, 17, 17, 17, 17, 17, 17, 17, 17, 17, 17, 17, 17, 17, 17, 17, 17, 17, 17, 17, 17, 17, 17, 17, 17, 17, 17, 17, 17]\n"
     ]
    }
   ],
   "source": [
    "print L0s"
   ]
  },
  {
   "cell_type": "markdown",
   "metadata": {},
   "source": [
    "#### (b)"
   ]
  },
  {
   "cell_type": "markdown",
   "metadata": {},
   "source": [
    "Glavna prednost L1-regularizirane regresije (ili *LASSO regression*) nad L2-regulariziranom regresijom jest u tome što L1-regularizirana regresija rezultira **rijetkim modelima** (engl. *sparse models*), odnosno modelima kod kojih su mnoge težine pritegnute na nulu. Pokažite da je to doista tako, ponovivši gornji eksperiment s **L1-regulariziranom** regresijom, implementiranom u klasi  [`Lasso`](http://scikit-learn.org/stable/modules/generated/sklearn.linear_model.Lasso.html) u modulu [`sklearn.linear_model`](http://scikit-learn.org/stable/modules/classes.html#module-sklearn.linear_model)."
   ]
  },
  {
   "cell_type": "code",
   "execution_count": 276,
   "metadata": {
    "collapsed": true
   },
   "outputs": [],
   "source": [
    "from sklearn.linear_model import Lasso"
   ]
  },
  {
   "cell_type": "code",
   "execution_count": 277,
   "metadata": {
    "collapsed": false
   },
   "outputs": [
    {
     "data": {
      "image/png": "[encoded data removed]",
      "text/plain": [
       "<matplotlib.figure.Figure at 0x12309898>"
      ]
     },
     "metadata": {},
     "output_type": "display_data"
    }
   ],
   "source": [
    "L0s = []\n",
    "L1s = []\n",
    "L2s = []\n",
    "lams = range(1, 101)\n",
    "for lam in lams:\n",
    "    model = Lasso(alpha=lam)\n",
    "    \n",
    "    L0, L1, L2 = PerformLAndCalculateNorms(model, XPoly20, y2)\n",
    "    L0s.append(L0)\n",
    "    L1s.append(L1)\n",
    "    L2s.append(L2)\n",
    "    \n",
    "DrawResults(lams, L0s, \"g\")\n",
    "DrawResults(lams, L1s, \"y\")\n",
    "DrawResults(lams, L2s, \"c\")"
   ]
  },
  {
   "cell_type": "code",
   "execution_count": 278,
   "metadata": {
    "collapsed": false
   },
   "outputs": [
    {
     "name": "stdout",
     "output_type": "stream",
     "text": [
      "[9, 9, 9, 9, 9, 9, 9, 9, 9, 7, 7, 7, 8, 5, 5, 5, 5, 5, 5, 5, 5, 5, 5, 4, 4, 4, 4, 4, 5, 6, 6, 6, 6, 6, 6, 6, 6, 6, 6, 6, 6, 6, 6, 6, 6, 6, 6, 6, 6, 6, 6, 6, 6, 6, 6, 6, 6, 6, 6, 6, 6, 6, 6, 6, 6, 6, 6, 6, 6, 5, 5, 5, 5, 5, 5, 5, 6, 6, 6, 6, 6, 6, 6, 6, 6, 6, 6, 6, 6, 6, 6, 6, 6, 6, 6, 6, 6, 6, 6, 6]\n"
     ]
    }
   ],
   "source": [
    "print L0s"
   ]
  },
  {
   "cell_type": "markdown",
   "metadata": {},
   "source": [
    "### 7. Značajke različitih skala"
   ]
  },
  {
   "cell_type": "markdown",
   "metadata": {},
   "source": [
    "Često se u praksi možemo susreti sa podatcima u kojima sve značajke nisu jednakih magnituda. Primjer jednog takvog skupa je regresijski skup podataka `grades` u kojem se predviđa prosjek ocjena studenta na studiju (1--5) na temelju dvije značajke: bodova na prijamnom ispitu (1--3000) i prosjeka ocjena u srednjoj školi. Prosjek ocjena na studiju izračunat je kao težinska suma ove dvije značajke uz dodani šum.\n",
    "\n",
    "Koristite sljedeći kôd kako biste generirali ovaj skup podataka."
   ]
  },
  {
   "cell_type": "code",
   "execution_count": 279,
   "metadata": {
    "collapsed": true
   },
   "outputs": [],
   "source": [
    "n_data_points = 500\n",
    "np.random.seed(69)\n",
    "\n",
    "# Generiraj podatke o bodovima na prijamnom ispitu koristeći normalnu razdiobu i ograniči ih na interval [1, 3000].\n",
    "exam_score = np.random.normal(loc=1500.0, scale = 500.0, size = n_data_points) \n",
    "exam_score = np.round(exam_score)\n",
    "exam_score[exam_score > 3000] = 3000\n",
    "exam_score[exam_score < 0] = 0\n",
    "\n",
    "# Generiraj podatke o ocjenama iz srednje škole koristeći normalnu razdiobu i ograniči ih na interval [1, 5].\n",
    "grade_in_highschool = np.random.normal(loc=3, scale = 2.0, size = n_data_points)\n",
    "grade_in_highschool[grade_in_highschool > 5] = 5\n",
    "grade_in_highschool[grade_in_highschool < 1] = 1\n",
    "\n",
    "# Matrica dizajna.\n",
    "grades_X = np.array([exam_score,grade_in_highschool]).T\n",
    "\n",
    "# Završno, generiraj izlazne vrijednosti.\n",
    "rand_noise = np.random.normal(loc=0.0, scale = 0.5, size = n_data_points)\n",
    "exam_influence = 0.9\n",
    "grades_y = ((exam_score / 3000.0) * (exam_influence) + (grade_in_highschool / 5.0) \\\n",
    "            * (1.0 - exam_influence)) * 5.0 + rand_noise\n",
    "grades_y[grades_y < 1] = 1\n",
    "grades_y[grades_y > 5] = 5"
   ]
  },
  {
   "cell_type": "code",
   "execution_count": 280,
   "metadata": {
    "collapsed": false
   },
   "outputs": [
    {
     "name": "stdout",
     "output_type": "stream",
     "text": [
      "[  1.95800000e+03   1.86706705e+00]\n",
      "1958.0\n",
      "1.8670670485\n"
     ]
    }
   ],
   "source": [
    "print grades_X[0]\n",
    "print exam_score[0]\n",
    "print grade_in_highschool[0]"
   ]
  },
  {
   "cell_type": "markdown",
   "metadata": {},
   "source": [
    "**a)**"
   ]
  },
  {
   "cell_type": "markdown",
   "metadata": {},
   "source": [
    "Iscrtajte ovisnost ciljne vrijednosti (y-os) o prvoj i o drugoj značajki (x-os). Iscrtajte dva odvojena grafa."
   ]
  },
  {
   "cell_type": "code",
   "execution_count": 281,
   "metadata": {
    "collapsed": false
   },
   "outputs": [
    {
     "data": {
      "text/plain": [
       "<matplotlib.collections.PathCollection at 0x12385e80>"
      ]
     },
     "execution_count": 281,
     "metadata": {},
     "output_type": "execute_result"
    },
    {
     "data": {
      "image/png": "[encoded data removed]",
      "text/plain": [
       "<matplotlib.figure.Figure at 0x1269d748>"
      ]
     },
     "metadata": {},
     "output_type": "display_data"
    }
   ],
   "source": [
    "plt.scatter(exam_score, grades_y)"
   ]
  },
  {
   "cell_type": "code",
   "execution_count": 282,
   "metadata": {
    "collapsed": false
   },
   "outputs": [
    {
     "data": {
      "text/plain": [
       "<matplotlib.collections.PathCollection at 0x12561668>"
      ]
     },
     "execution_count": 282,
     "metadata": {},
     "output_type": "execute_result"
    },
    {
     "data": {
      "image/png": "[encoded data removed]",
      "text/plain": [
       "<matplotlib.figure.Figure at 0x12214908>"
      ]
     },
     "metadata": {},
     "output_type": "display_data"
    }
   ],
   "source": [
    "plt.scatter(grade_in_highschool, grades_y)"
   ]
  },
  {
   "cell_type": "markdown",
   "metadata": {},
   "source": [
    "**b)**"
   ]
  },
  {
   "cell_type": "markdown",
   "metadata": {},
   "source": [
    "Naučite model L2-regularizirane regresije ($\\lambda = 0.01$), na podacima `grades_X` i `grades_y`:"
   ]
  },
  {
   "cell_type": "code",
   "execution_count": 283,
   "metadata": {
    "collapsed": false
   },
   "outputs": [
    {
     "name": "stdout",
     "output_type": "stream",
     "text": [
      "0.150611795758\n",
      "[ 0.00141497  0.09477276]\n"
     ]
    }
   ],
   "source": [
    "model = Ridge(alpha=0.01)\n",
    "w0, wi, predictions, trainError = PerformModel(model, grades_X, grades_y)\n",
    "print w0\n",
    "print wi"
   ]
  },
  {
   "cell_type": "markdown",
   "metadata": {},
   "source": [
    "Sada ponovite gornji eksperiment, ali prvo skalirajte podatke `grades_X` i `grades_y`. Za tu svrhu, koristite [`StandardScaler`](http://scikit-learn.org/stable/modules/generated/sklearn.preprocessing.StandardScaler.html)."
   ]
  },
  {
   "cell_type": "code",
   "execution_count": 284,
   "metadata": {
    "collapsed": false
   },
   "outputs": [
    {
     "name": "stdout",
     "output_type": "stream",
     "text": [
      "[  1.95800000e+03   1.86706705e+00]\n",
      "[ 0.95063817 -0.78607869]\n",
      "2.50303163599\n",
      "[ 0.73954683  0.13741539]\n"
     ]
    }
   ],
   "source": [
    "from sklearn.preprocessing import StandardScaler\n",
    "\n",
    "model = Ridge(alpha=0.01)\n",
    "scaler = StandardScaler()\n",
    "scaler.fit(grades_X)\n",
    "print grades_X[0]\n",
    "grades_X_scaled = scaler.transform(grades_X)\n",
    "print grades_X_scaled[0]\n",
    "\n",
    "w0, wi, predictions, trainError = PerformModel(model, grades_X_scaled, grades_y)\n",
    "print w0\n",
    "print wi"
   ]
  },
  {
   "cell_type": "markdown",
   "metadata": {},
   "source": [
    "**Q:** Gledajući grafikone iz podzadatka (a), koja značajka bi trebala imati veću magnitudu, odnosno važnost pri predikciji prosjeka na studiju? Odgovaraju li težine Vašoj intuiciji? Objasnite.  "
   ]
  },
  {
   "cell_type": "markdown",
   "metadata": {},
   "source": [
    "### 8. Multikolinearnost i kondicija matrice"
   ]
  },
  {
   "cell_type": "markdown",
   "metadata": {},
   "source": [
    "**a)**"
   ]
  },
  {
   "cell_type": "markdown",
   "metadata": {},
   "source": [
    "Izradite skup podataka `grades_X_fixed_colinear` tako što ćete u skupu `grades_X_fixed` iz\n",
    "zadatka 7b duplicirati zadnji stupac (ocjenu iz srednje škole). Time smo efektivno uveli savršenu multikolinearnost."
   ]
  },
  {
   "cell_type": "code",
   "execution_count": 285,
   "metadata": {
    "collapsed": true
   },
   "outputs": [],
   "source": [
    "grades_X_fixed_colinear = np.array([exam_score,grade_in_highschool, grade_in_highschool]).T"
   ]
  },
  {
   "cell_type": "markdown",
   "metadata": {},
   "source": [
    "Ponovno, naučite na ovom skupu L2-regularizirani model regresije ($\\lambda = 0.01$)."
   ]
  },
  {
   "cell_type": "code",
   "execution_count": 286,
   "metadata": {
    "collapsed": false
   },
   "outputs": [
    {
     "name": "stdout",
     "output_type": "stream",
     "text": [
      "0.15061056881\n",
      "[ 0.00141497  0.04738661  0.04738661]\n",
      "0.0947732120658\n"
     ]
    }
   ],
   "source": [
    "model = Ridge(alpha=0.01)\n",
    "w0, wi, predictions, trainError = PerformModel(model, grades_X_fixed_colinear, grades_y)\n",
    "print w0\n",
    "print wi\n",
    "\n",
    "print wi[1] + wi[2]"
   ]
  },
  {
   "cell_type": "markdown",
   "metadata": {},
   "source": [
    "**Q:** Usporedite iznose težina s onima koje ste dobili u zadatku *7b*. Što se dogodilo?"
   ]
  },
  {
   "cell_type": "markdown",
   "metadata": {},
   "source": [
    "**b)**"
   ]
  },
  {
   "cell_type": "markdown",
   "metadata": {},
   "source": [
    "Slučajno uzorkujte 50% elemenata iz skupa `grades_X_fixed_colinear` i naučite dva modela L2-regularizirane regresije, jedan s $\\lambda=0.01$, a jedan s $\\lambda=1000$. Ponovite ovaj pokus 10 puta (svaki put s drugim podskupom od 50% elemenata).  Za svaki model, ispišite dobiveni vektor težina u svih 10 ponavljanja te ispišite standardnu devijaciju vrijednosti svake od težina (ukupno šest standardnih devijacija, svaka dobivena nad 10 vrijednosti)."
   ]
  },
  {
   "cell_type": "code",
   "execution_count": 288,
   "metadata": {
    "collapsed": false
   },
   "outputs": [
    {
     "name": "stdout",
     "output_type": "stream",
     "text": [
      "lam:0.01 0.191629629807 [ 0.00139955  0.04755474  0.04755474]\n",
      "lam:1000 0.335725114851 [ 0.00139839  0.02417813  0.02417813]\n",
      "\n",
      "lam:0.01 0.160989158691 [ 0.00141128  0.04794587  0.04794587]\n",
      "lam:1000 0.302721925859 [ 0.00141323  0.02454389  0.02454389]\n",
      "\n",
      "lam:0.01 0.0964484176568 [ 0.00144333  0.04675877  0.04675877]\n",
      "lam:1000 0.218576377583 [ 0.00145384  0.02390332  0.02390332]\n",
      "\n",
      "lam:0.01 0.193840502954 [ 0.00138215  0.05007228  0.05007228]\n",
      "lam:1000 0.338077118536 [ 0.00138114  0.02615556  0.02615556]\n",
      "\n",
      "lam:0.01 0.262632932075 [ 0.00141872  0.02827358  0.02827358]\n",
      "lam:1000 0.328281135271 [ 0.00142937  0.01460865  0.01460865]\n",
      "\n",
      "lam:0.01 0.20246441519 [ 0.00138824  0.03839925  0.03839925]\n",
      "lam:1000 0.30897564775 [ 0.00139006  0.01977629  0.01977629]\n",
      "\n",
      "lam:0.01 0.204009489324 [ 0.00140782  0.04154038  0.04154038]\n",
      "lam:1000 0.312872196583 [ 0.00141636  0.02153838  0.02153838]\n",
      "\n",
      "lam:0.01 0.260932993708 [ 0.00141277  0.02777097  0.02777097]\n",
      "lam:1000 0.335347381811 [ 0.00141455  0.01440987  0.01440987]\n",
      "\n",
      "lam:0.01 0.132226081908 [ 0.00142012  0.04651205  0.04651205]\n",
      "lam:1000 0.255519347142 [ 0.00142632  0.02422088  0.02422088]\n",
      "\n",
      "lam:0.01 0.301752919193 [ 0.00138349  0.02788541  0.02788541]\n",
      "lam:1000 0.371192174167 [ 0.00139316  0.01397189  0.01397189]\n",
      "\n",
      "1.80527012461e-05\n",
      "0.00864736846297\n",
      "0.00864736846219\n",
      "2.0632552501e-05\n",
      "0.00450309181124\n",
      "0.00450309181124\n"
     ]
    }
   ],
   "source": [
    "w1sLow = []\n",
    "w2sLow = []\n",
    "w3sLow = []\n",
    "w1sHigh = []\n",
    "w2sHigh = []\n",
    "w3sHigh = []\n",
    "\n",
    "lams = [0.01,1000]\n",
    "for i in range(10):\n",
    "    X_50, X_other_50, y_50, y_other_50 = train_test_split(grades_X_fixed_colinear, grades_y, test_size=0.5)\n",
    "    \n",
    "    for lam in lams:\n",
    "        model = Ridge(alpha=lam)\n",
    "        w0, wi, predictions, trainError = PerformModel(model, X_50, y_50)\n",
    "        print \"lam:\"+str(lam),\n",
    "        print w0,\n",
    "        print wi\n",
    "        \n",
    "        if lam == 0.01:\n",
    "            w1sLow.append(wi[0])\n",
    "            w2sLow.append(wi[1])\n",
    "            w3sLow.append(wi[2])\n",
    "        if lam == 1000:\n",
    "            w1sHigh.append(wi[0])\n",
    "            w2sHigh.append(wi[1])\n",
    "            w3sHigh.append(wi[2])\n",
    "    print\n",
    "    \n",
    "print np.std(w1sLow)\n",
    "print np.std(w2sLow)\n",
    "print np.std(w3sLow)\n",
    "\n",
    "print np.std(w1sHigh)\n",
    "print np.std(w2sHigh)\n",
    "print np.std(w3sHigh)"
   ]
  },
  {
   "cell_type": "markdown",
   "metadata": {},
   "source": [
    "**Q:** Kako regularizacija utječe na stabilnost težina?  \n",
    "**Q:** Jesu li koeficijenti jednakih magnituda kao u prethodnom pokusu? Objasnite zašto."
   ]
  },
  {
   "cell_type": "markdown",
   "metadata": {},
   "source": [
    "**c)**"
   ]
  },
  {
   "cell_type": "markdown",
   "metadata": {},
   "source": [
    "Koristeći [`numpy.linalg.cond`](https://docs.scipy.org/doc/numpy-1.13.0/reference/generated/numpy.linalg.cond.html) izračunajte kondicijski broj matrice $\\mathbf{\\Phi}^\\intercal\\mathbf{\\Phi}+\\lambda\\mathbf{I}$, gdje je $\\mathbf{\\Phi}$ matrica dizajna (`grades_fixed_X_colinear`). Ponovite i za $\\lambda=0.01$ i za $\\lambda=10$."
   ]
  },
  {
   "cell_type": "code",
   "execution_count": 289,
   "metadata": {
    "collapsed": false
   },
   "outputs": [
    {
     "name": "stdout",
     "output_type": "stream",
     "text": [
      "Lam:0.01\n",
      "120405059633.0\n",
      "Lam:10\n",
      "120405060.642\n"
     ]
    }
   ],
   "source": [
    "XT = grades_X_fixed_colinear.transpose()\n",
    "XTmulX = np.dot(XT, grades_X_fixed_colinear)\n",
    "\n",
    "I = np.eye(len(XTmulX))\n",
    "\n",
    "lams = [0.01,10]\n",
    "for lam in lams:\n",
    "    print \"Lam:\"+str(lam)\n",
    "    lamI = np.dot(lam, I)\n",
    "    print numpy.linalg.cond(XTmulX + lamI)"
   ]
  },
  {
   "cell_type": "markdown",
   "metadata": {},
   "source": [
    "**Q:** Kako regularizacija utječe na kondicijski broj matrice $\\mathbf{\\Phi}^\\intercal\\mathbf{\\Phi}+\\lambda\\mathbf{I}$?  "
   ]
  }
 ],
 "metadata": {
  "anaconda-cloud": {},
  "kernelspec": {
   "display_name": "Python 2",
   "language": "python",
   "name": "python2"
  },
  "language_info": {
   "codemirror_mode": {
    "name": "ipython",
    "version": 2
   },
   "file_extension": ".py",
   "mimetype": "text/x-python",
   "name": "python",
   "nbconvert_exporter": "python",
   "pygments_lexer": "ipython2",
   "version": "2.7.13"
  }
 },
 "nbformat": 4,
 "nbformat_minor": 1
}
