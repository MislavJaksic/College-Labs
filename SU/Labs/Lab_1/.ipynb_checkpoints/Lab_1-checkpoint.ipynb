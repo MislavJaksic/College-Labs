{
 "cells": [
  {
   "cell_type": "markdown",
   "metadata": {},
   "source": [
    "Sveučilište u Zagrebu<br>\n",
    "Fakultet elektrotehnike i računarstva\n",
    "\n",
    "## Strojno učenje 2016./2017.\n",
    "\n",
    "<a href=\"http://www.fer.unizg.hr/predmet/su\">http://www.fer.unizg.hr/predmet/su</a>"
   ]
  },
  {
   "cell_type": "markdown",
   "metadata": {},
   "source": [
    "### Laboratorijska vježba 1: Regresija"
   ]
  },
  {
   "cell_type": "markdown",
   "metadata": {},
   "source": [
    "Objavljeno: **12. listopada 2016.**<br>\n",
    "Rok za predaju: U terminu vježbe u tjednu od **17. listopada 2016.**"
   ]
  },
  {
   "cell_type": "markdown",
   "metadata": {},
   "source": [
    "### Upute\n",
    "\n",
    "Prva laboratorijska vježba sastoji se od **sedam** zadataka. Kako bi kvalitetnije, ali i na manje zamoran način usvojili gradivo ovog kolegija, potrudili smo se uključiti tri vrste zadataka: **1)** implementacija manjih algoritama, modela ili postupaka; **2)** eksperimenti s raznim modelima te njihovim hiperparametrima, te **3)** primjena modela na (stvarnim) podatcima. Ovim zadatcima pokrivamo dvije paradigme učenja: učenje izgradnjom (engl. *learning by building*) i učenje eksperimentiranjem (engl. *learning by experimenting*).\n",
    "\n",
    "U nastavku slijedite upute navedene u ćelijama s tekstom. Rješavanje vježbe svodi se na **dopunjavanje ove bilježnice**: umetanja ćelije ili više njih **ispod** teksta zadatka, pisanja odgovarajućeg kôda te evaluiranja ćelija. \n",
    "\n",
    "Osigurajte da u potpunosti **razumijete** kôd koji ste napisali. Kod predaje vježbe, morate biti u stanju na zahtjev asistenta (ili demonstratora) preinačiti i ponovno evaluirati Vaš kôd. Nadalje, morate razumjeti teorijske osnove onoga što radite, u okvirima onoga što smo obradili na predavanju. Ispod nekih zadataka možete naći i pitanja koja služe kao smjernice za bolje razumijevanje gradiva (**nemojte pisati** odgovore na pitanja u bilježnicu). Stoga se nemojte ograničiti samo na to da riješite zadatak, nego slobodno eksperimentirajte. To upravo i jest svrha ovih vježbi.\n",
    "\n",
    "Vježbe trebate raditi **samostalno**. Možete se konzultirati s drugima o načelnom načinu rješavanja, ali u konačnici morate sami odraditi vježbu. U protivnome vježba nema smisla."
   ]
  },
  {
   "cell_type": "code",
   "execution_count": 45,
   "metadata": {
    "collapsed": false
   },
   "outputs": [
    {
     "name": "stdout",
     "output_type": "stream",
     "text": [
      "Populating the interactive namespace from numpy and matplotlib\n"
     ]
    },
    {
     "name": "stderr",
     "output_type": "stream",
     "text": [
      "C:\\Anaconda2\\lib\\site-packages\\IPython\\core\\magics\\pylab.py:161: UserWarning: pylab import has clobbered these variables: ['colors', 'uniform', 'f', 'number', 'degrees']\n",
      "`%matplotlib` prevents importing * from pylab and numpy\n",
      "  \"\\n`%matplotlib` prevents importing * from pylab and numpy\"\n"
     ]
    }
   ],
   "source": [
    "# Učitaj osnovne biblioteke...\n",
    "import numpy as np\n",
    "import scipy as sp\n",
    "import sklearn\n",
    "import matplotlib.pyplot as plt\n",
    "%pylab inline"
   ]
  },
  {
   "cell_type": "markdown",
   "metadata": {},
   "source": [
    "## Zadatci"
   ]
  },
  {
   "cell_type": "markdown",
   "metadata": {},
   "source": [
    "### 1. Univarijatna regresija"
   ]
  },
  {
   "cell_type": "markdown",
   "metadata": {},
   "source": [
    "Zadan je skup primjera $\\mathcal{D}=\\{(x^{(i)},y^{(i)})\\}_{i=1}^4 = \\{(0,4),(1,1),(2,2),(4,5)\\}$. Primjere predstavite matrixom $\\mathbf{X}$ dimenzija $N\\times n$ (u ovom slučaju $4\\times 1$) i vektorom oznaka $\\textbf{y}$, dimenzija $N\\times 1$ (u ovom slučaju $4\\times 1$), na sljedeći način:\n"
   ]
  },
  {
   "cell_type": "code",
   "execution_count": 46,
   "metadata": {
    "collapsed": false
   },
   "outputs": [],
   "source": [
    "X = np.array([[0],[1],[2],[4]])\n",
    "y = np.array([4,1,2,5])"
   ]
  },
  {
   "cell_type": "markdown",
   "metadata": {},
   "source": [
    "### (a)\n",
    "\n",
    "Proučite funkciju [`PolynomialFeatures`](http://scikit-learn.org/stable/modules/generated/sklearn.preprocessing.PolynomialFeatures.html) iz biblioteke `sklearn` i upotrijebite je za generiranje dizajn-matrice $\\mathbf{\\Phi}$ koja ne koristi preslikavanje u prostor više dimenzije (samo će svakom primjeru biti dodane *dummy* jedinice; $m=n+1$).\n"
   ]
  },
  {
   "cell_type": "code",
   "execution_count": 47,
   "metadata": {
    "collapsed": true
   },
   "outputs": [],
   "source": [
    "from sklearn.preprocessing import PolynomialFeatures"
   ]
  },
  {
   "cell_type": "code",
   "execution_count": 48,
   "metadata": {
    "collapsed": false
   },
   "outputs": [
    {
     "name": "stdout",
     "output_type": "stream",
     "text": [
      "[[0]\n",
      " [1]\n",
      " [2]\n",
      " [4]]\n",
      "[[ 1.  0.]\n",
      " [ 1.  1.]\n",
      " [ 1.  2.]\n",
      " [ 1.  4.]]\n"
     ]
    }
   ],
   "source": [
    "def PolynomialTransformation(X, degree):\n",
    "    features = PolynomialFeatures(degree)\n",
    "    return features.fit_transform(X)\n",
    "\n",
    "print X\n",
    "degree = 1 # if degree > 1, construct n-degree polynomial\n",
    "XPoly1 = PolynomialTransformation(X, degree)\n",
    "print XPoly1"
   ]
  },
  {
   "cell_type": "markdown",
   "metadata": {},
   "source": [
    "### (b)"
   ]
  },
  {
   "cell_type": "markdown",
   "metadata": {},
   "source": [
    "Upoznajte se s modulom [`linalg`](http://docs.scipy.org/doc/numpy/reference/routines.linalg.html). Izračunajte težine $\\mathbf{w}$ modela linearne regresije kao $\\mathbf{w}=(\\mathbf{\\Phi}^\\intercal\\mathbf{\\Phi})^{-1}\\mathbf{\\Phi}^\\intercal\\mathbf{y}$. Zatim se uvjerite da isti rezultat možete dobiti izračunom pseudoinverza $\\mathbf{\\Phi}^+$ dizajn-matrice, tj. $\\mathbf{w}=\\mathbf{\\Phi}^+\\mathbf{y}$, korištenjem funkcije [`pinv`](http://docs.scipy.org/doc/numpy/reference/generated/numpy.linalg.pinv.html)."
   ]
  },
  {
   "cell_type": "code",
   "execution_count": 49,
   "metadata": {
    "collapsed": true
   },
   "outputs": [],
   "source": [
    "from numpy import linalg"
   ]
  },
  {
   "cell_type": "code",
   "execution_count": 50,
   "metadata": {
    "collapsed": false
   },
   "outputs": [
    {
     "name": "stdout",
     "output_type": "stream",
     "text": [
      "[ 2.2         0.45714286]\n",
      "[ 2.2         0.45714286]\n"
     ]
    }
   ],
   "source": [
    "def ManualLinReg(X, y):\n",
    "    XT = X.transpose()\n",
    "    XTmulX = np.dot(XT, X)\n",
    "    XTmulXinv = np.linalg.inv(XTmulX)\n",
    "    w = np.dot(np.dot(XTmulXinv, XT), y)\n",
    "    return w\n",
    "\n",
    "w = ManualLinReg(XPoly1, y)\n",
    "print w\n",
    "\n",
    "w = np.dot(np.linalg.pinv(XPoly1), y)\n",
    "print w\n",
    "\n",
    "#w = w.transpose()\n",
    "#print w #the transpose has happened but it doesn't effect the repr"
   ]
  },
  {
   "cell_type": "markdown",
   "metadata": {},
   "source": [
    "Radi jasnoće, u nastavku je vektor $\\mathbf{x}$ s dodanom *dummy* jedinicom $x_0=1$ označen kao $\\tilde{\\mathbf{x}}$."
   ]
  },
  {
   "cell_type": "markdown",
   "metadata": {},
   "source": [
    "### (c)"
   ]
  },
  {
   "cell_type": "markdown",
   "metadata": {},
   "source": [
    "Prikažite primjere iz $\\mathcal{D}$ i funkciju $h(\\tilde{\\mathbf{x}})=\\mathbf{w}^\\intercal\\tilde{\\mathbf{x}}$. Izračunajte pogrešku učenja prema izrazu $E(h|\\mathcal{D})=\\frac{1}{2}\\sum_{i=1}^N(\\tilde{\\mathbf{x}}^{(i)} - h(\\tilde{\\mathbf{x}}))^2$. Možete koristiti funkciju srednje kvadratne pogreške [`mean_squared_error`]( http://scikit-learn.org/stable/modules/generated/sklearn.metrics.mean_squared_error.html#sklearn.metrics.mean_squared_error) iz modula [`sklearn.metrics`](http://scikit-learn.org/stable/modules/classes.html#module-sklearn.metrics).\n",
    "\n",
    "**Q:** Gore definirana funkcija pogreške $E(h|\\mathcal{D})$ i funkcija srednje kvadratne pogreške nisu posve identične. U čemu je razlika? Koja je \"realnija\"?"
   ]
  },
  {
   "cell_type": "code",
   "execution_count": 51,
   "metadata": {
    "collapsed": true
   },
   "outputs": [],
   "source": [
    "from sklearn.metrics import mean_squared_error"
   ]
  },
  {
   "cell_type": "code",
   "execution_count": 52,
   "metadata": {
    "collapsed": false
   },
   "outputs": [
    {
     "name": "stdout",
     "output_type": "stream",
     "text": [
      "[4 1 2 5]\n",
      "[ 2.2         2.65714286  3.11428571  4.02857143]\n",
      "2.04285714286\n",
      "4.08571428571\n"
     ]
    }
   ],
   "source": [
    "predictions = np.dot(XPoly1, w)\n",
    "print y\n",
    "print predictions\n",
    "\n",
    "print mean_squared_error(y, predictions)\n",
    "print mean_squared_error(y, predictions) * len(X)/2"
   ]
  },
  {
   "cell_type": "markdown",
   "metadata": {},
   "source": [
    "### (d)"
   ]
  },
  {
   "cell_type": "markdown",
   "metadata": {},
   "source": [
    "Uvjerite se da za primjere iz $\\mathcal{D}$ težine $\\mathbf{w}$ ne možemo naći rješavanjem sustava $\\mathbf{w}=\\mathbf{\\Phi}^{-1}\\mathbf{y}$, već da nam doista treba pseudoinverz.\n",
    "\n",
    "**Q:** Zašto je to slučaj? Bi li se problem mogao riješiti preslikavanjem primjera u višu dimenziju? Ako da, bi li to uvijek funkcioniralo, neovisno o skupu primjera $\\mathcal{D}$? Pokažite na primjeru."
   ]
  },
  {
   "cell_type": "code",
   "execution_count": 53,
   "metadata": {
    "collapsed": false
   },
   "outputs": [
    {
     "name": "stdout",
     "output_type": "stream",
     "text": [
      "[[ 0.     0.    -0.5    0.5  ]\n",
      " [ 0.     0.25  -0.375  0.125]\n",
      " [-1.    -0.5    6.75  -3.25 ]\n",
      " [ 1.     0.25  -4.375  2.125]]\n",
      "[ 1.5    0.125 -7.25   6.125]\n"
     ]
    }
   ],
   "source": [
    "#print np.linalg.inv(X) #cannot do that. The matrix isn't a square matrix.\n",
    "XHighD = np.array([[0,1,2,3],\n",
    "                   [1,5,1,1],\n",
    "                   [2,1,1,1],\n",
    "                   [4,1,1,1],  \n",
    "                  ])\n",
    "XHighDinv = np.linalg.inv(XHighD)\n",
    "print XHighDinv\n",
    "print np.dot(XHighDinv,y)"
   ]
  },
  {
   "cell_type": "markdown",
   "metadata": {},
   "source": [
    "### (e) "
   ]
  },
  {
   "cell_type": "markdown",
   "metadata": {},
   "source": [
    "Proučite klasu [`LinearRegression`](http://scikit-learn.org/stable/modules/generated/sklearn.linear_model.LinearRegression.html#sklearn.linear_model.LinearRegression) iz modula [`sklearn.linear_model`](http://scikit-learn.org/stable/modules/classes.html#module-sklearn.linear_model). Uvjerite se da su težine koje izračunava ta funkcija (dostupne pomoću atributa `coef_` i `intercept_`) jednake onima koje ste izračunali gore. Izračunajte predikcije modela (metoda `predict`) i uvjerite se da je pogreška učenja identična onoj koju ste ranije izračunali."
   ]
  },
  {
   "cell_type": "code",
   "execution_count": 54,
   "metadata": {
    "collapsed": false
   },
   "outputs": [],
   "source": [
    "from sklearn.linear_model import LinearRegression"
   ]
  },
  {
   "cell_type": "code",
   "execution_count": 55,
   "metadata": {
    "collapsed": false
   },
   "outputs": [
    {
     "name": "stdout",
     "output_type": "stream",
     "text": [
      "2.2\n",
      "[ 0.          0.45714286]\n",
      "[ 2.2         2.65714286  3.11428571  4.02857143]\n",
      "2.04285714286\n"
     ]
    }
   ],
   "source": [
    "def PerformModel(model, X, y):\n",
    "    model.fit(X, y)\n",
    "    w0 = model.intercept_\n",
    "    wi = model.coef_\n",
    "    predictions = model.predict(X)\n",
    "    trainError = mean_squared_error(predictions, y)\n",
    "    return w0, wi, predictions, trainError\n",
    "    \n",
    "model = LinearRegression()\n",
    "w0, wi, predictions, trainError = PerformModel(model, XPoly1, y)\n",
    "print w0\n",
    "print wi\n",
    "print predictions\n",
    "print trainError"
   ]
  },
  {
   "cell_type": "markdown",
   "metadata": {},
   "source": [
    "### 2. Polinomijalna regresija i utjecaj šuma"
   ]
  },
  {
   "cell_type": "markdown",
   "metadata": {},
   "source": [
    "### (a)\n",
    "\n",
    "Razmotrimo sada regresiju na većem broju primjera. Definirajte funkciju `make_labels(X, f, noise=0)` koja uzima matricu neoznačenih primjera $\\mathbf{X}_{N\\times n}$ te generira vektor njihovih oznaka $\\mathbf{y}_{N\\times 1}$. Oznake se generiraju kao $y^{(i)} = f(x^{(i)})+\\mathcal{N}(0,\\sigma^2)$, gdje je $f:\\mathbb{R}^n\\to\\mathbb{R}$ stvarna funkcija koja je generirala podatke (koja nam je u stvarnosti nepoznata), a $\\sigma$ je standardna devijacija Gaussovog šuma, definirana parametrom `noise`. Za generiranje šuma možete koristiti funkciju [`numpy.random.normal`](http://docs.scipy.org/doc/numpy/reference/generated/numpy.random.normal.html). \n",
    "\n",
    "Generirajte skup za učenje od $N=50$ primjera uniformno distribuiranih u intervalu $[-5,5]$ pomoću funkcije $f(x) = 5 + x -2 x^2 -5 x^3$ uz šum  $\\sigma=200$:"
   ]
  },
  {
   "cell_type": "code",
   "execution_count": 56,
   "metadata": {
    "collapsed": false
   },
   "outputs": [],
   "source": [
    "from numpy.random import normal\n",
    "from random import uniform"
   ]
  },
  {
   "cell_type": "code",
   "execution_count": 57,
   "metadata": {
    "collapsed": false
   },
   "outputs": [],
   "source": [
    "# N \"tall\"\n",
    "# n \"wide\"\n",
    "# noise is standard deviation, sigma\n",
    "\n",
    "def MakeLabels(X, f, noise=0) :\n",
    "    if noise > 0:\n",
    "        return np.array([(f(x) + np.random.normal(0, noise)) for x in X])\n",
    "    return  np.array([f(x) for x in X])\n",
    "\n",
    "def Function(x):\n",
    "    return 5 + x - 2*x*x - 5*x*x*x\n",
    "\n",
    "XUniform2 = np.array([uniform(-5,5) for number in xrange(50)])\n",
    "XUniform2.sort()\n",
    "XUniform2 = XUniform2.reshape(-1, 1)\n",
    "f = Function\n",
    "y2 = MakeLabels(XUniform2, f, 200)"
   ]
  },
  {
   "cell_type": "markdown",
   "metadata": {},
   "source": [
    "Prikažite taj skup funkcijom [`scatter`](http://matplotlib.org/api/pyplot_api.html#matplotlib.pyplot.scatter)."
   ]
  },
  {
   "cell_type": "code",
   "execution_count": 58,
   "metadata": {
    "collapsed": false
   },
   "outputs": [
    {
     "data": {
      "image/png": "[encoded data removed]",
      "text/plain": [
       "<matplotlib.figure.Figure at 0x838e518>"
      ]
     },
     "metadata": {},
     "output_type": "display_data"
    }
   ],
   "source": [
    "def DrawFunctionOnInterval(f, interval):\n",
    "    XDraw = sp.linspace(interval[0], interval[1])\n",
    "    yDraw = MakeLabels(XDraw, f, 0)\n",
    "    plt.plot(XDraw, yDraw, \"r--\")\n",
    "    \n",
    "def DrawUniformExamples(X, y):\n",
    "    plt.scatter(X, y)\n",
    "\n",
    "DrawUniformExamples(XUniform2, y2)\n",
    "DrawFunctionOnInterval(f, (-5,5))"
   ]
  },
  {
   "cell_type": "markdown",
   "metadata": {},
   "source": [
    "### (b)"
   ]
  },
  {
   "cell_type": "markdown",
   "metadata": {},
   "source": [
    "Trenirajte model polinomijalne regresije stupnja $d=3$. Na istom grafikonu prikažite naučeni model $h(\\mathbf{x})=\\mathbf{w}^\\intercal\\tilde{\\mathbf{x}}$ i primjere za učenje. Izračunajte pogrešku učenja modela."
   ]
  },
  {
   "cell_type": "code",
   "execution_count": 59,
   "metadata": {
    "collapsed": true
   },
   "outputs": [],
   "source": [
    "def DrawResults(X, y, color):\n",
    "    plt.plot(X, y, color)"
   ]
  },
  {
   "cell_type": "code",
   "execution_count": 60,
   "metadata": {
    "collapsed": false
   },
   "outputs": [
    {
     "name": "stdout",
     "output_type": "stream",
     "text": [
      "30201.7504648\n"
     ]
    },
    {
     "data": {
      "image/png": "[encoded data removed]",
      "text/plain": [
       "<matplotlib.figure.Figure at 0xc155390>"
      ]
     },
     "metadata": {},
     "output_type": "display_data"
    }
   ],
   "source": [
    "degree = 3 # if degree > 1, construct n-degree polynomial\n",
    "           # example: d=3 -> (1, x, x*x, x*x*x)\n",
    "features = PolynomialFeatures(degree)\n",
    "\n",
    "model = LinearRegression()\n",
    "XPoly3 = features.fit_transform(XUniform2)\n",
    "w0, wi, predictions, trainError = PerformModel(model, XPoly3, y2)\n",
    "\n",
    "print trainError\n",
    "DrawUniformExamples(XUniform2, y2)\n",
    "DrawFunctionOnInterval(f, (-5,5))\n",
    "DrawResults(XUniform2, predictions, \"g\")"
   ]
  },
  {
   "cell_type": "markdown",
   "metadata": {},
   "source": [
    "### 3. Odabir modela"
   ]
  },
  {
   "cell_type": "markdown",
   "metadata": {},
   "source": [
    "### (a)\n",
    "\n",
    "Na skupu podataka iz zadatka 2 trenirajte pet modela linearne regresije $\\mathcal{H}_d$ različite složenosti, gdje je $d$ stupanj polinoma, $d\\in\\{1,3,5,10,20\\}$. Prikažite na istome grafikonu skup za učenje i funkcije $h_d(\\mathbf{x})$ za svih pet modela (preporučujemo koristiti `plot` unutar `for` petlje). Izračunajte pogrešku učenja svakog od modela.\n",
    "\n",
    "**Q:** Koji model ima najmanju pogrešku učenja i zašto?"
   ]
  },
  {
   "cell_type": "code",
   "execution_count": 61,
   "metadata": {
    "collapsed": false
   },
   "outputs": [
    {
     "name": "stdout",
     "output_type": "stream",
     "text": [
      "Degree:1 trainError:42275.7277286\n",
      "Degree:3 trainError:30201.7504648\n",
      "Degree:5 trainError:27571.4085648\n",
      "Degree:10 trainError:24609.3276952\n",
      "Degree:20 trainError:20573.6902646\n"
     ]
    },
    {
     "data": {
      "image/png": "[encoded data removed]",
      "text/plain": [
       "<matplotlib.figure.Figure at 0xa6494a8>"
      ]
     },
     "metadata": {},
     "output_type": "display_data"
    }
   ],
   "source": [
    "model = LinearRegression()\n",
    "\n",
    "degrees = [1,   3,   5,   10,  20]\n",
    "colors = [\"g\", \"b\", \"c\", \"m\", \"y\"]\n",
    "for index in xrange(len(degrees)):\n",
    "    degree = degrees[index]\n",
    "    features = PolynomialFeatures(degree)\n",
    "    \n",
    "    XPoly = features.fit_transform(XUniform2)\n",
    "    w0, wi, predictions, trainError = PerformModel(model, XPoly, y2)\n",
    "    \n",
    "    print \"Degree:\"+str(degree),\n",
    "    print \"trainError:\"+str(trainError)\n",
    "    color = colors[index]\n",
    "    plt.plot(XUniform2, predictions, color)\n",
    "    \n",
    "DrawUniformExamples(XUniform2, y2)\n",
    "DrawFunctionOnInterval(f, (-5,5))"
   ]
  },
  {
   "cell_type": "markdown",
   "metadata": {},
   "source": [
    "### (b)"
   ]
  },
  {
   "cell_type": "markdown",
   "metadata": {},
   "source": [
    "Razdvojite skup primjera iz zadatka 2 pomoću funkcije [`cross_validation.train_test_split`](http://scikit-learn.org/stable/modules/generated/sklearn.cross_validation.train_test_split.html#sklearn.cross_validation.train_test_split) na skup za učenja i skup za ispitivanje u omjeru 1:1. Prikažite na jednom grafikonu pogrešku učenja i ispitnu pogrešku za modele polinomijalne regresije $\\mathcal{H}_d$, sa stupnjem polinoma $d$ u rasponu $d\\in\\{1,20\\}$. Radi preciznosti, funkcije $h(\\mathbf{x})$ iscrtajte na cijelom skupu primjera (ali pogrešku generalizacije računajte, naravno, samo na ispitnome skupu). Budući da kvadratna pogreška brzo raste za veće stupnjeve polinoma, umjesto da iscrtate izravno iznose pogrešaka, iscrtajte njihove logaritme.\n",
    "\n",
    "**NB:** Podjela na skupa za učenje i skup za ispitivanje mora za svih pet modela biti identična.\n",
    "\n",
    "**Q:** Je li rezultat u skladu s očekivanjima? Koji biste model odabrali i zašto?\n",
    "\n",
    "**Q:** Pokrenite iscrtavanje više puta. U čemu je problem? Bi li problem bio jednako izražen kad bismo imali više primjera? Zašto?"
   ]
  },
  {
   "cell_type": "markdown",
   "metadata": {},
   "source": [
    "[Decrication source](http://scikit-learn.org/stable/modules/generated/sklearn.cross_validation.train_test_split.html#sklearn.cross_validation.train_test_split)"
   ]
  },
  {
   "cell_type": "code",
   "execution_count": 62,
   "metadata": {
    "collapsed": false
   },
   "outputs": [],
   "source": [
    "#from sklearn import cross_validation #Depricated!\n",
    "from sklearn.model_selection import train_test_split"
   ]
  },
  {
   "cell_type": "code",
   "execution_count": 63,
   "metadata": {
    "collapsed": false
   },
   "outputs": [
    {
     "name": "stdout",
     "output_type": "stream",
     "text": [
      "Degree:1 testError:50461.5634798\n",
      "Degree:2 testError:51338.9428201\n",
      "Degree:3 testError:37134.1156571\n",
      "Degree:4 testError:38582.415441\n",
      "Degree:5 testError:40315.1483299\n",
      "Degree:6 testError:40106.8449833\n",
      "Degree:7 testError:45298.3018965\n",
      "Degree:8 testError:64502.8072042\n",
      "Degree:9 testError:97809.9380405\n",
      "Degree:10 testError:65422.391712\n",
      "Degree:11 testError:70452.1677555\n",
      "Degree:12 testError:57663.6318672\n",
      "Degree:13 testError:58291.7305804\n",
      "Degree:14 testError:131449.311362\n",
      "Degree:15 testError:422145.149659\n",
      "Degree:16 testError:79167.4776559\n",
      "Degree:17 testError:495845.240428\n",
      "Degree:18 testError:162867.083477\n",
      "Degree:19 testError:730162.833634\n",
      "Degree:20 testError:394238.384463\n"
     ]
    },
    {
     "data": {
      "image/png": "[encoded data removed]",
      "text/plain": [
       "<matplotlib.figure.Figure at 0xa10a6a0>"
      ]
     },
     "metadata": {},
     "output_type": "display_data"
    }
   ],
   "source": [
    "def PerformModelAndCrossValidation(model, X, y):\n",
    "    X_train, X_test, y_train, y_test = train_test_split(X, y, test_size=0.5, random_state=0)\n",
    "    \n",
    "    model.fit(X_train, y_train)\n",
    "\n",
    "    predictions = model.predict(X_train)\n",
    "    trainError = mean_squared_error(y_train, predictions)\n",
    "\n",
    "    predictions = model.predict(X_test)\n",
    "    testError = mean_squared_error(y_test, predictions)\n",
    "    \n",
    "    return trainError, testError\n",
    "        \n",
    "def DrawErrors(xAxis, trainErrors, testErrors, ax=False):\n",
    "    if ax:\n",
    "        ax.plot(xAxis, log(trainErrors), \"b\")\n",
    "        ax.plot(xAxis, log(testErrors), \"r\")\n",
    "    else:\n",
    "        plt.plot(xAxis, log(trainErrors), \"b\")\n",
    "        plt.plot(xAxis, log(testErrors), \"r\")\n",
    "\n",
    "model = LinearRegression()\n",
    "trainErrors = []\n",
    "testErrors = []\n",
    "degrees = xrange(1, 21)\n",
    "for degree in degrees:\n",
    "    features = PolynomialFeatures(degree)\n",
    "    \n",
    "    XPoly = features.fit_transform(XUniform2)\n",
    "    trainError, testError = PerformModelAndCrossValidation(model, XPoly, y2)\n",
    "    trainErrors.append(trainError)\n",
    "    testErrors.append(testError)\n",
    "    \n",
    "    print \"Degree:\"+str(degree),\n",
    "    print \"testError:\"+str(testError)\n",
    "\n",
    "DrawErrors(range(1, 21), trainErrors, testErrors)"
   ]
  },
  {
   "cell_type": "markdown",
   "metadata": {},
   "source": [
    "### (c)"
   ]
  },
  {
   "cell_type": "markdown",
   "metadata": {},
   "source": [
    "Točnost modela ovisi o (1) njegovoj složenosti (stupanj $d$ polinoma), (2) broju primjera $N$, i (3) količini šuma. Kako biste to analizirali, nacrtajte grafikone pogrešaka kao u 3b, ali za sve kombinacija broja primjera $N\\in\\{100,200,1000\\}$ i količine šuma $\\sigma\\in\\{100,200,500\\}$ (ukupno 9 grafikona). Upotrijebite funkciju [`subplots`](http://matplotlib.org/examples/pylab_examples/subplots_demo.html) kako biste pregledno posložili grafikone u tablicu $3\\times 3$. Podatci se generiraju na isti način kao u zadatku 2.\n",
    "\n",
    "**NB:** Pobrinite se da svi grafikoni budu generirani nad usporedivim skupovima podataka, na sljedeći način. Generirajte najprije svih 1000 primjera, podijelite ih na skupove za učenje i skupove za ispitivanje (dva skupa od po 500 primjera). Zatim i od skupa za učenje i od skupa za ispitivanje načinite tri različite verzije, svaka s drugačijom količinom šuma (ukupno 2x3=6 verzija podataka). Kako bi simulirali veličinu skupa podataka, od tih dobivenih 6 skupova podataka uzorkujte trećinu, dvije trećine i sve podatke. Time ste dobili 18 skupova podataka -- skup za učenje i za testiranje za svaki od devet grafova."
   ]
  },
  {
   "cell_type": "markdown",
   "metadata": {},
   "source": [
    "***Q:*** Jesu li rezultati očekivani? Obrazložite."
   ]
  },
  {
   "cell_type": "code",
   "execution_count": 64,
   "metadata": {
    "collapsed": false
   },
   "outputs": [
    {
     "name": "stdout",
     "output_type": "stream",
     "text": [
      "Degree:1 testError:17243.4011775\n",
      "Degree:2 testError:20670.3830817\n",
      "Degree:3 testError:8551.98529685\n",
      "Degree:4 testError:8316.23978566\n",
      "Degree:5 testError:8229.84296385\n",
      "Degree:6 testError:8884.14776311\n",
      "Degree:7 testError:9914.53463702\n",
      "Degree:8 testError:7202.00127907\n",
      "Degree:9 testError:7603.7918332\n",
      "Degree:10 testError:7988.81845755\n",
      "Degree:11 testError:17340.0746569\n",
      "Degree:12 testError:10707.0269569\n",
      "Degree:13 testError:11373.3682714\n",
      "Degree:14 testError:366923.988204\n",
      "Degree:15 testError:1302070.32901\n",
      "Degree:16 testError:13079893.4545\n",
      "Degree:17 testError:168300915.721\n",
      "Degree:18 testError:632328520.518\n",
      "Degree:19 testError:8608449.59201\n",
      "Degree:20 testError:37363799.7955\n",
      "Degree:1 testError:59056.7411619\n",
      "Degree:2 testError:59635.2029986\n",
      "Degree:3 testError:64770.7133362\n",
      "Degree:4 testError:69226.8446219\n",
      "Degree:5 testError:69604.2451324\n",
      "Degree:6 testError:79429.9664867\n",
      "Degree:7 testError:82683.7590007\n",
      "Degree:8 testError:81550.1796206\n",
      "Degree:9 testError:132261.612242\n",
      "Degree:10 testError:114404.900185\n",
      "Degree:11 testError:141254.608297\n",
      "Degree:12 testError:269851.391073\n",
      "Degree:13 testError:327999.176593\n",
      "Degree:14 testError:253832.21939\n",
      "Degree:15 testError:70246095.0186\n",
      "Degree:16 testError:3094759.476\n",
      "Degree:17 testError:65964191.8937\n",
      "Degree:18 testError:316956917.908\n",
      "Degree:19 testError:909718748.875\n",
      "Degree:20 testError:27714562219.2\n",
      "Degree:1 testError:335683.529069\n",
      "Degree:2 testError:342889.230821\n",
      "Degree:3 testError:332208.235498\n",
      "Degree:4 testError:324319.705468\n",
      "Degree:5 testError:319702.676244\n",
      "Degree:6 testError:317676.188508\n",
      "Degree:7 testError:317194.172939\n",
      "Degree:8 testError:332403.661632\n",
      "Degree:9 testError:324800.810882\n",
      "Degree:10 testError:749991.607053\n",
      "Degree:11 testError:461108.143022\n",
      "Degree:12 testError:793555.627002\n",
      "Degree:13 testError:2334416.86933\n",
      "Degree:14 testError:13331620.9563\n",
      "Degree:15 testError:50864965.6961\n",
      "Degree:16 testError:41014640.6397\n",
      "Degree:17 testError:505350187.642\n",
      "Degree:18 testError:462939823.794\n",
      "Degree:19 testError:1746067348.19\n",
      "Degree:20 testError:42996997492.5\n",
      "Degree:1 testError:19179.5675124\n",
      "Degree:2 testError:19171.7572748\n",
      "Degree:3 testError:10373.7392508\n",
      "Degree:4 testError:10574.9322003\n",
      "Degree:5 testError:10592.4857346\n",
      "Degree:6 testError:10560.0352431\n",
      "Degree:7 testError:10685.3305257\n",
      "Degree:8 testError:10696.9670234\n",
      "Degree:9 testError:10856.8300607\n",
      "Degree:10 testError:10867.6664604\n",
      "Degree:11 testError:10822.0900099\n",
      "Degree:12 testError:10893.252025\n",
      "Degree:13 testError:10837.8549446\n",
      "Degree:14 testError:11043.2047\n",
      "Degree:15 testError:11115.1815692\n",
      "Degree:16 testError:11255.5540039\n",
      "Degree:17 testError:11375.9592052\n",
      "Degree:18 testError:12616.6140619\n",
      "Degree:19 testError:13009.2997508\n",
      "Degree:20 testError:12837.6706509\n",
      "Degree:1 testError:48235.0121732\n",
      "Degree:2 testError:48452.8202714\n",
      "Degree:3 testError:39746.8536732\n",
      "Degree:4 testError:38413.9206262\n",
      "Degree:5 testError:38690.5889092\n",
      "Degree:6 testError:38719.6311392\n",
      "Degree:7 testError:38687.647019\n",
      "Degree:8 testError:37450.5911813\n",
      "Degree:9 testError:42136.6124415\n",
      "Degree:10 testError:42181.8485368\n",
      "Degree:11 testError:43256.1159864\n",
      "Degree:12 testError:44149.2631576\n",
      "Degree:13 testError:44159.1507801\n",
      "Degree:14 testError:46410.2890818\n",
      "Degree:15 testError:48577.27144\n",
      "Degree:16 testError:48453.3970173\n",
      "Degree:17 testError:48441.5884802\n",
      "Degree:18 testError:53470.8727413\n",
      "Degree:19 testError:50398.497942\n",
      "Degree:20 testError:51628.4958217\n",
      "Degree:1 testError:272700.363577\n",
      "Degree:2 testError:271541.052478\n",
      "Degree:3 testError:263608.427678\n",
      "Degree:4 testError:262445.001396\n",
      "Degree:5 testError:265145.062574\n",
      "Degree:6 testError:265136.123335\n",
      "Degree:7 testError:269500.02148\n",
      "Degree:8 testError:269541.144909\n",
      "Degree:9 testError:273030.545128\n",
      "Degree:10 testError:271393.980906\n",
      "Degree:11 testError:288194.017561\n",
      "Degree:12 testError:289365.431075\n",
      "Degree:13 testError:289869.901241\n",
      "Degree:14 testError:299248.180669\n",
      "Degree:15 testError:307451.278769\n",
      "Degree:16 testError:321274.93022\n",
      "Degree:17 testError:351026.609738\n",
      "Degree:18 testError:345602.905431\n",
      "Degree:19 testError:341346.063573\n",
      "Degree:20 testError:339663.700655\n",
      "Degree:1 testError:19782.043886\n",
      "Degree:2 testError:19468.0779196\n",
      "Degree:3 testError:10213.0709787\n",
      "Degree:4 testError:10260.0703177\n",
      "Degree:5 testError:10261.4451368\n",
      "Degree:6 testError:10244.8604554\n",
      "Degree:7 testError:10206.7841147\n",
      "Degree:8 testError:10235.7176429\n",
      "Degree:9 testError:10253.6837635\n",
      "Degree:10 testError:10288.2507619\n",
      "Degree:11 testError:10388.2527646\n",
      "Degree:12 testError:10410.1506333\n",
      "Degree:13 testError:10421.1270838\n",
      "Degree:14 testError:10423.2622688\n",
      "Degree:15 testError:10420.7098013\n",
      "Degree:16 testError:10576.4425065\n",
      "Degree:17 testError:10611.630942\n",
      "Degree:18 testError:10615.8855277\n",
      "Degree:19 testError:10548.1662993\n",
      "Degree:20 testError:10589.3441207\n",
      "Degree:1 testError:48150.7273194\n",
      "Degree:2 testError:47906.9400217\n",
      "Degree:3 testError:41256.4613036\n",
      "Degree:4 testError:41269.8105614\n",
      "Degree:5 testError:41460.732671\n",
      "Degree:6 testError:41067.6853281\n",
      "Degree:7 testError:40912.3682625\n",
      "Degree:8 testError:40912.4196329\n",
      "Degree:9 testError:40925.8317407\n",
      "Degree:10 testError:40927.012074\n",
      "Degree:11 testError:40903.0259275\n",
      "Degree:12 testError:40965.149607\n",
      "Degree:13 testError:41618.1296941\n",
      "Degree:14 testError:41629.283446\n",
      "Degree:15 testError:41613.5148979\n",
      "Degree:16 testError:41720.3013738\n",
      "Degree:17 testError:41672.1222497\n",
      "Degree:18 testError:41634.595548\n",
      "Degree:19 testError:41599.2893723\n",
      "Degree:20 testError:41543.9991865\n",
      "Degree:1 testError:228868.490198\n",
      "Degree:2 testError:228744.627647\n",
      "Degree:3 testError:225190.161223\n",
      "Degree:4 testError:227594.081339\n",
      "Degree:5 testError:228005.97764\n",
      "Degree:6 testError:227362.354741\n",
      "Degree:7 testError:228966.232352\n",
      "Degree:8 testError:232325.86958\n",
      "Degree:9 testError:234830.666379\n",
      "Degree:10 testError:234771.7259\n",
      "Degree:11 testError:235253.202228\n",
      "Degree:12 testError:235975.794208\n",
      "Degree:13 testError:235752.162856\n",
      "Degree:14 testError:237614.497304\n",
      "Degree:15 testError:237616.553202\n",
      "Degree:16 testError:237460.39611\n",
      "Degree:17 testError:239172.492225\n",
      "Degree:18 testError:239008.84622\n",
      "Degree:19 testError:244916.047796\n",
      "Degree:20 testError:244946.926591\n"
     ]
    },
    {
     "data": {
      "image/png": "[encoded data removed]",
      "text/plain": [
       "<matplotlib.figure.Figure at 0xd55d390>"
      ]
     },
     "metadata": {},
     "output_type": "display_data"
    }
   ],
   "source": [
    "Ns = [100,200,1000]\n",
    "sigmas = [100,200,500]\n",
    "f, axarr = plt.subplots(3, 3, sharex='col', sharey='row')\n",
    "counter = 0\n",
    "for N in Ns:\n",
    "    for sigma in sigmas:\n",
    "        X3 = np.array([uniform(-5,5) for number in xrange(N)])\n",
    "        X3.sort()\n",
    "        X3 = X3.reshape(-1, 1)\n",
    "        f = Function\n",
    "        y3 = MakeLabels(X3, f, sigma)\n",
    "        \n",
    "        model = LinearRegression()\n",
    "        trainErrors = []\n",
    "        testErrors = []\n",
    "        degrees = xrange(1, 21)\n",
    "        for degree in degrees:\n",
    "            features = PolynomialFeatures(degree)\n",
    "\n",
    "            XPoly = features.fit_transform(X3)\n",
    "            trainError, testError = PerformModelAndCrossValidation(model, XPoly, y3)\n",
    "            trainErrors.append(trainError)\n",
    "            testErrors.append(testError)\n",
    "\n",
    "            print \"Degree:\"+str(degree),\n",
    "            print \"testError:\"+str(testError)\n",
    "        \n",
    "        DrawErrors(range(1,21), trainErrors, testErrors, ax=axarr[counter/3,counter%3])\n",
    "        axarr[counter/3,counter%3].set_title(\"N:\"+str(N)+\";sigma:\"+str(sigma))\n",
    "        counter += 1"
   ]
  },
  {
   "cell_type": "markdown",
   "metadata": {},
   "source": [
    "### 4. Regularizirana regresija"
   ]
  },
  {
   "cell_type": "markdown",
   "metadata": {},
   "source": [
    "### (a)\n",
    "\n",
    "U gornjim eksperimentima nismo koristili **regularizaciju**. Vratimo se najprije na primjer iz zadatka 1. Na primjerima iz tog zadatka izračunajte težine $\\mathbf{w}$ za polinomijalni regresijski model stupnja $d=3$ uz L2-regularizaciju (tzv. *ridge regression*), prema izrazu $\\mathbf{w}=(\\mathbf{\\Phi}^\\intercal\\mathbf{\\Phi}+\\lambda\\mathbf{I})^{-1}\\mathbf{\\Phi}^\\intercal\\mathbf{y}$. Napravite izračun težina za regularizacijske faktore $\\lambda=0$, $\\lambda=1$ i $\\lambda=10$ te usporedite dobivene težine.\n",
    "\n",
    "**Q:** Kojih je dimenzija matrica koju treba invertirati?\n",
    "\n",
    "**Q:** Po čemu se razlikuju dobivene težine i je li ta razlika očekivana? Obrazložite."
   ]
  },
  {
   "cell_type": "code",
   "execution_count": 65,
   "metadata": {
    "collapsed": true
   },
   "outputs": [],
   "source": [
    "X1 = np.array([[0],[1],[2],[4]])\n",
    "y1 = np.array([4,1,2,5])"
   ]
  },
  {
   "cell_type": "code",
   "execution_count": 66,
   "metadata": {
    "collapsed": false
   },
   "outputs": [
    {
     "name": "stdout",
     "output_type": "stream",
     "text": [
      "[[  1.   0.   0.   0.]\n",
      " [  1.   1.   1.   1.]\n",
      " [  1.   2.   4.   8.]\n",
      " [  1.   4.  16.  64.]]\n",
      "Lam:0 [ 4.         -5.91666667  3.375      -0.45833333]\n",
      "Lam:1 [ 1.79567372 -0.24729075 -0.0175289   0.07014758]\n",
      "Lam:10 [ 0.43312265  0.11060671  0.13827839  0.03093411]\n"
     ]
    }
   ],
   "source": [
    "degree = 3\n",
    "features = PolynomialFeatures(degree)\n",
    "XPoly3 = features.fit_transform(X1)\n",
    "print XPoly3\n",
    "\n",
    "XT = XPoly3.transpose()\n",
    "XTmulX = np.dot(XT, XPoly3)\n",
    "\n",
    "I = np.eye(len(XPoly3))\n",
    "\n",
    "lams = [0,1,10]\n",
    "for lam in lams:\n",
    "    XTmulXinv = np.linalg.inv(XTmulX + np.dot(lam, I))\n",
    "    w = np.dot(np.dot(XTmulXinv, XT), y1)\n",
    "    print \"Lam:\"+str(lam),\n",
    "    print w"
   ]
  },
  {
   "cell_type": "markdown",
   "metadata": {},
   "source": [
    "### (b)"
   ]
  },
  {
   "cell_type": "markdown",
   "metadata": {},
   "source": [
    "Proučite klasu [`Ridge`](http://scikit-learn.org/stable/modules/generated/sklearn.linear_model.Ridge.html#sklearn.linear_model.Ridge) iz modula [`sklearn.linear_model`](http://scikit-learn.org/stable/modules/classes.html#module-sklearn.linear_model), koja implementira L2-regularizirani regresijski model. Parametar $\\alpha$ odgovara parametru $\\lambda$. Primijenite model na istim primjerima kao u prethodnom zadatku i ispišite težine $\\mathbf{w}$ (atributi `coef_` i `intercept_`).\n",
    "\n",
    "**Q:** Jesu li težine identične onima iz zadatka 4a? Ako nisu, objasnite zašto je to tako i kako biste to popravili."
   ]
  },
  {
   "cell_type": "markdown",
   "metadata": {},
   "source": [
    "[Ridge Loss Function](http://scikit-learn.org/stable/modules/linear_model.html#ridge-regression)\n",
    "\n",
    "[Lecture Ridge Loss Function](http://www.fer.unizg.hr/_download/repository/SU-2016-4-Regresija2.pdf)"
   ]
  },
  {
   "cell_type": "code",
   "execution_count": 67,
   "metadata": {
    "collapsed": false
   },
   "outputs": [],
   "source": [
    "from sklearn.linear_model import Ridge"
   ]
  },
  {
   "cell_type": "code",
   "execution_count": 68,
   "metadata": {
    "collapsed": false
   },
   "outputs": [
    {
     "name": "stdout",
     "output_type": "stream",
     "text": [
      "4.0\n",
      "[ 0.         -5.91666667  3.375      -0.45833333]\n",
      "3.05696145125\n",
      "[ 0.         -0.69079365 -0.2831746   0.1445805 ]\n",
      "2.49444184312\n",
      "[ 0.         -0.15897295 -0.13423067  0.0815601 ]\n"
     ]
    }
   ],
   "source": [
    "lams = [0,1,10]\n",
    "for lam in lams:\n",
    "    model = Ridge(alpha=lam)\n",
    "    w0, wi, predictions, trainError = PerformModel(model, XPoly3, y1)\n",
    "    print w0\n",
    "    print wi\n",
    "#??? Why is there a difference?."
   ]
  },
  {
   "cell_type": "markdown",
   "metadata": {},
   "source": [
    "### 5. Regularizirana polinomijalna regresija"
   ]
  },
  {
   "cell_type": "markdown",
   "metadata": {},
   "source": [
    "### (a)\n",
    "\n",
    "Vratimo se na slučaj $N=50$ slučajno generiranih primjera iz zadatka 2. Trenirajte modele polinomijalne regresije $\\mathcal{H}_{\\lambda,d}$ za $\\lambda\\in\\{0,100\\}$ i $d\\in\\{2,10\\}$ (ukupno četiri modela). Skicirajte pripadne funkcije $h(\\mathbf{x})$ i primjere (na jednom grafikonu; preporučujemo koristiti `plot` unutar `for` petlje).\n",
    "\n",
    "**Q:** Jesu li rezultati očekivani? Obrazložite."
   ]
  },
  {
   "cell_type": "code",
   "execution_count": 69,
   "metadata": {
    "collapsed": true
   },
   "outputs": [],
   "source": [
    "import matplotlib.patches as mpatches"
   ]
  },
  {
   "cell_type": "code",
   "execution_count": 70,
   "metadata": {
    "collapsed": false
   },
   "outputs": [
    {
     "data": {
      "text/plain": [
       "<matplotlib.legend.Legend at 0xa3ac7b8>"
      ]
     },
     "execution_count": 70,
     "metadata": {},
     "output_type": "execute_result"
    },
    {
     "data": {
      "image/png": "[encoded data removed]",
      "text/plain": [
       "<matplotlib.figure.Figure at 0xd450b70>"
      ]
     },
     "metadata": {},
     "output_type": "display_data"
    }
   ],
   "source": [
    "DrawUniformExamples(XUniform2, y2)\n",
    "DrawFunctionOnInterval(f, (-5,5))\n",
    "\n",
    "lams = [0,100]\n",
    "degrees = [2,10]\n",
    "colors = [\"g\", \"b\", \"c\", \"m\"]\n",
    "patches = []\n",
    "counter = 0\n",
    "for lam in lams:\n",
    "    for degree in degrees:\n",
    "        model = Ridge(alpha=lam)\n",
    "        features = PolynomialFeatures(degree)\n",
    "    \n",
    "        XPoly = features.fit_transform(XUniform2)\n",
    "        w0, wi, predictions, trainError = PerformModel(model, XPoly, y2)\n",
    "        \n",
    "        color = colors[counter]\n",
    "        counter += 1\n",
    "        \n",
    "        patches.append(mpatches.Patch(color=color, label=\"L:\"+str(lam)+\",d:\"+str(degree)))\n",
    "        plt.plot(XUniform2, predictions, color)\n",
    "        \n",
    "plt.legend(handles=patches)"
   ]
  },
  {
   "cell_type": "markdown",
   "metadata": {},
   "source": [
    "### (b)\n",
    "\n",
    "Kao u zadataku 3b, razdvojite primjere na skup za učenje i skup za ispitivanje u omjeru 1:1. Prikažite krivulje logaritama pogreške učenja i ispitne pogreške u ovisnosti za model $\\mathcal{H}_{d=20,\\lambda}$, podešavajući faktor regularizacije $\\lambda$ u rasponu $\\lambda\\in\\{0,1,\\dots,50\\}$.\n",
    "\n",
    "**Q:** Kojoj strani na grafikonu odgovara područje prenaučenosti a kojoj podnaučenosti. Zašto?\n",
    "\n",
    "**Q:** Koju biste vrijednosti za $\\lambda$ izabrali na temelju ovih grafikona i zašto?\n"
   ]
  },
  {
   "cell_type": "code",
   "execution_count": 71,
   "metadata": {
    "collapsed": false
   },
   "outputs": [
    {
     "name": "stdout",
     "output_type": "stream",
     "text": [
      "Lam:0 testError:628947.837754\n",
      "Lam:1 testError:60678.8420544\n",
      "Lam:2 testError:60532.1148509\n",
      "Lam:3 testError:59992.0263226\n",
      "Lam:4 testError:59381.0552771\n",
      "Lam:5 testError:58822.5017949\n",
      "Lam:6 testError:58258.4104141\n",
      "Lam:7 testError:57801.7041315\n",
      "Lam:8 testError:57386.2155946\n",
      "Lam:9 testError:56970.6281018\n",
      "Lam:10 testError:56625.7105435\n",
      "Lam:11 testError:56333.1512059\n",
      "Lam:12 testError:56048.4436406\n",
      "Lam:13 testError:55787.9323601\n",
      "Lam:14 testError:55552.8113665\n",
      "Lam:15 testError:55353.7400785\n",
      "Lam:16 testError:55171.2005174\n",
      "Lam:17 testError:54991.2547826\n",
      "Lam:18 testError:54850.5208539\n",
      "Lam:19 testError:54709.6971849\n",
      "Lam:20 testError:54579.359725\n",
      "Lam:21 testError:54455.5594132\n",
      "Lam:22 testError:54341.8367998\n",
      "Lam:23 testError:54247.4862044\n",
      "Lam:24 testError:54152.6316352\n",
      "Lam:25 testError:54065.737675\n",
      "Lam:26 testError:53991.1649253\n",
      "Lam:27 testError:53917.2961227\n",
      "Lam:28 testError:53851.7180584\n",
      "Lam:29 testError:53790.2996033\n",
      "Lam:30 testError:53733.7313363\n",
      "Lam:31 testError:53679.8165816\n",
      "Lam:32 testError:53632.6853183\n",
      "Lam:33 testError:53588.1662441\n",
      "Lam:34 testError:53546.8187936\n",
      "Lam:35 testError:53508.1326473\n",
      "Lam:36 testError:53468.2721825\n",
      "Lam:37 testError:53433.773595\n",
      "Lam:38 testError:53403.6707132\n",
      "Lam:39 testError:53373.2639054\n",
      "Lam:40 testError:53346.3753026\n",
      "Lam:41 testError:53320.5157411\n",
      "Lam:42 testError:53296.0101441\n",
      "Lam:43 testError:53272.9997097\n",
      "Lam:44 testError:53251.8014719\n",
      "Lam:45 testError:53231.3561589\n",
      "Lam:46 testError:53212.7510716\n",
      "Lam:47 testError:53195.084395\n",
      "Lam:48 testError:53178.7782124\n",
      "Lam:49 testError:53163.899814\n",
      "Lam:50 testError:53148.9769452\n"
     ]
    },
    {
     "data": {
      "image/png": "[encoded data removed]",
      "text/plain": [
       "<matplotlib.figure.Figure at 0xa32dbe0>"
      ]
     },
     "metadata": {},
     "output_type": "display_data"
    }
   ],
   "source": [
    "degree = 20\n",
    "features = PolynomialFeatures(degree)\n",
    "XPoly20 = features.fit_transform(XUniform2)\n",
    "\n",
    "trainErrors = []\n",
    "testErrors = []\n",
    "lams = range(51)\n",
    "for lam in lams:\n",
    "    model = Ridge(alpha=lam)\n",
    "    \n",
    "    trainError, testError = PerformModelAndCrossValidation(model, XPoly20, y2)\n",
    "    trainErrors.append(trainError)\n",
    "    testErrors.append(testError)\n",
    "    \n",
    "    print \"Lam:\"+str(lam),\n",
    "    print \"testError:\"+str(testError)\n",
    "\n",
    "DrawErrors(lams, trainErrors, testErrors)"
   ]
  },
  {
   "cell_type": "markdown",
   "metadata": {},
   "source": [
    "### 6. L1-regularizacija i L2-regularizacija"
   ]
  },
  {
   "cell_type": "markdown",
   "metadata": {},
   "source": [
    "Svrha regularizacije jest potiskivanje težina modela $\\mathbf{w}$ prema nuli, kako bi model bio što jednostavniji. Složenost modela može se okarakterizirati normom pripadnog vektora težina $\\mathbf{w}$, i to tipično L2-normom ili L1-normom. Za jednom trenirani model možemo izračunati i broj ne-nul značajki, ili L0-normu, pomoću sljedeće funkcije:"
   ]
  },
  {
   "cell_type": "code",
   "execution_count": 72,
   "metadata": {
    "collapsed": false
   },
   "outputs": [],
   "source": [
    "def nonzeroes(coef, tol=1e-6): \n",
    "    return len(coef) - len(coef[sp.isclose(0, coef, atol=tol)])"
   ]
  },
  {
   "cell_type": "code",
   "execution_count": 73,
   "metadata": {
    "collapsed": false
   },
   "outputs": [],
   "source": [
    "ERROR = (0.1)**6\n",
    "\n",
    "def IsFloatEqual(floatOne, floatTwo):\n",
    "    if ((floatTwo-ERROR) <= floatOne) and (floatOne <= (floatTwo+ERROR)):\n",
    "        return True\n",
    "    return False\n",
    "\n",
    "def LNorm(wRow, p):\n",
    "    wColumn = wRow.reshape(-1, 1)\n",
    "    if p == 0:\n",
    "        countZeros = 0\n",
    "        for value in wColumn:\n",
    "            if IsFloatEqual(value[0], 0.0):\n",
    "                countZeros += 1\n",
    "        return len(wColumn) - countZeros\n",
    "    \n",
    "    if p == 1:\n",
    "        sum = 0\n",
    "        for value in wColumn:\n",
    "            sum += sqrt(value[0]**2)\n",
    "        return sum\n",
    "    \n",
    "    if p == 2:\n",
    "        try:\n",
    "            return sqrt(np.dot(wRow, wColumn)[0][0])\n",
    "        except:\n",
    "            return sqrt(np.dot(wRow, wColumn)[0])\n",
    "    \n",
    "    print \"ERROR_NOT_IMPLEMENTED\""
   ]
  },
  {
   "cell_type": "markdown",
   "metadata": {},
   "source": [
    "### (a)\n",
    "\n",
    "Za ovaj zadatak upotrijebite skup za učenje i skup za testiranje iz zadatka 3b. Trenirajte modele **L2-regularizirane** polinomijalne regresije stupnja $d=20$, mijenjajući hiperparametar $\\lambda$ u rasponu $\\{1,2,\\dots,100\\}$. Za svaki od treniranih modela izračunajte L{0,1,2}-norme vektora težina $\\mathbf{w}$ te ih prikažite kao funkciju od $\\lambda$.\n",
    "\n",
    "**Q:** Objasnite oblik obiju krivulja. Hoće li krivulja za $\\|\\mathbf{w}\\|_2$ doseći nulu? Zašto? Je li to problem? Zašto?\n",
    "\n",
    "**Q:** Za $\\lambda=100$, koliki je postotak težina modela jednak nuli, odnosno koliko je model rijedak?"
   ]
  },
  {
   "cell_type": "code",
   "execution_count": 74,
   "metadata": {
    "collapsed": false
   },
   "outputs": [],
   "source": [
    "def PerformLAndCalculateNorms(model, X, y):\n",
    "    X_train, X_test, y_train, y_test = train_test_split(X, y, test_size=0.5, random_state=0)\n",
    "    \n",
    "    model.fit(X_train, y_train)\n",
    "    wi = model.coef_\n",
    "    \n",
    "    L0 = LNorm(wi, 0)\n",
    "    L1 = LNorm(wi, 1)\n",
    "    L2 = LNorm(wi, 2)\n",
    "    \n",
    "    return L0, L1, L2"
   ]
  },
  {
   "cell_type": "code",
   "execution_count": 75,
   "metadata": {
    "collapsed": false
   },
   "outputs": [],
   "source": [
    "L0s = []\n",
    "L1s = []\n",
    "L2s = []\n",
    "lams = range(1, 101)\n",
    "for lam in lams:\n",
    "    model = Ridge(alpha=lam)\n",
    "    \n",
    "    L0, L1, L2 = PerformLAndCalculateNorms(model, XPoly20, y2)\n",
    "    L0s.append(L0)\n",
    "    L1s.append(L1)\n",
    "    L2s.append(L2)"
   ]
  },
  {
   "cell_type": "code",
   "execution_count": 76,
   "metadata": {
    "collapsed": false
   },
   "outputs": [
    {
     "data": {
      "image/png": "[encoded data removed]",
      "text/plain": [
       "<matplotlib.figure.Figure at 0xc576320>"
      ]
     },
     "metadata": {},
     "output_type": "display_data"
    }
   ],
   "source": [
    "DrawResults(lams, L0s, \"g\")\n",
    "DrawResults(lams, L1s, \"y\")\n",
    "DrawResults(lams, L2s, \"c\")"
   ]
  },
  {
   "cell_type": "markdown",
   "metadata": {},
   "source": [
    "### (b)"
   ]
  },
  {
   "cell_type": "markdown",
   "metadata": {},
   "source": [
    "Glavna prednost L1-regularizirane regresije (ili *LASSO regression*) nad L2-regulariziranom regresijom jest u tome što L1-regularizirana regresija rezultira **rijetkim modelima** (engl. *sparse models*), odnosno modelima kod kojih su mnoge težine pritegnute na nulu. Pokažite da je to doista tako, ponovivši gornji eksperiment s **L1-regulariziranom** regresijom, implementiranom u klasi  [`Lasso`](http://scikit-learn.org/stable/modules/generated/sklearn.linear_model.Lasso.html) u modulu [`sklearn.linear_model`](http://scikit-learn.org/stable/modules/classes.html#module-sklearn.linear_model)."
   ]
  },
  {
   "cell_type": "code",
   "execution_count": 77,
   "metadata": {
    "collapsed": false
   },
   "outputs": [],
   "source": [
    "from sklearn.linear_model import Lasso"
   ]
  },
  {
   "cell_type": "code",
   "execution_count": 78,
   "metadata": {
    "collapsed": false
   },
   "outputs": [
    {
     "data": {
      "image/png": "[encoded data removed]",
      "text/plain": [
       "<matplotlib.figure.Figure at 0x9fb7320>"
      ]
     },
     "metadata": {},
     "output_type": "display_data"
    }
   ],
   "source": [
    "L0s = []\n",
    "L1s = []\n",
    "L2s = []\n",
    "lams = range(1, 101)\n",
    "for lam in lams:\n",
    "    model = Lasso(alpha=lam)\n",
    "    \n",
    "    L0, L1, L2 = PerformLAndCalculateNorms(model, XPoly20, y2)\n",
    "    L0s.append(L0)\n",
    "    L1s.append(L1)\n",
    "    L2s.append(L2)\n",
    "    \n",
    "DrawResults(lams, L0s, \"g\")\n",
    "DrawResults(lams, L1s, \"y\")\n",
    "DrawResults(lams, L2s, \"c\")"
   ]
  },
  {
   "cell_type": "markdown",
   "metadata": {},
   "source": [
    "### 7. Predviđanje cijena nekretnina u Bostonu"
   ]
  },
  {
   "cell_type": "markdown",
   "metadata": {},
   "source": [
    "Do sada smo razmatrali isključivo univarijatnu regresiju, tj. imali smo samo jednu značajku ($n=1$). U većini stvarnih problema baratamo s većim brojem značajki. Razmotrimo sada jedan nešto realniji problem, kod kojega postoji više značajki, pa je potrebno napraviti multivarijatnu regresiju.\n",
    "\n",
    "Učitajte skup podataka *Boston House Prices*:"
   ]
  },
  {
   "cell_type": "code",
   "execution_count": 79,
   "metadata": {
    "collapsed": false
   },
   "outputs": [
    {
     "name": "stdout",
     "output_type": "stream",
     "text": [
      "(506L, 13L)\n",
      "(506L,)\n"
     ]
    }
   ],
   "source": [
    "from sklearn.datasets import load_boston\n",
    "boston = load_boston()\n",
    "print boston.data.shape\n",
    "print boston.target.shape"
   ]
  },
  {
   "cell_type": "markdown",
   "metadata": {},
   "source": [
    "Skup sadrži 506 primjera sa 13 numeričkih značajki. Opis skupa možete dobiti na sljedeći način:"
   ]
  },
  {
   "cell_type": "code",
   "execution_count": 80,
   "metadata": {
    "collapsed": false
   },
   "outputs": [
    {
     "name": "stdout",
     "output_type": "stream",
     "text": [
      "Boston House Prices dataset\n",
      "===========================\n",
      "\n",
      "Notes\n",
      "------\n",
      "Data Set Characteristics:  \n",
      "\n",
      "    :Number of Instances: 506 \n",
      "\n",
      "    :Number of Attributes: 13 numeric/categorical predictive\n",
      "    \n",
      "    :Median Value (attribute 14) is usually the target\n",
      "\n",
      "    :Attribute Information (in order):\n",
      "        - CRIM     per capita crime rate by town\n",
      "        - ZN       proportion of residential land zoned for lots over 25,000 sq.ft.\n",
      "        - INDUS    proportion of non-retail business acres per town\n",
      "        - CHAS     Charles River dummy variable (= 1 if tract bounds river; 0 otherwise)\n",
      "        - NOX      nitric oxides concentration (parts per 10 million)\n",
      "        - RM       average number of rooms per dwelling\n",
      "        - AGE      proportion of owner-occupied units built prior to 1940\n",
      "        - DIS      weighted distances to five Boston employment centres\n",
      "        - RAD      index of accessibility to radial highways\n",
      "        - TAX      full-value property-tax rate per $10,000\n",
      "        - PTRATIO  pupil-teacher ratio by town\n",
      "        - B        1000(Bk - 0.63)^2 where Bk is the proportion of blacks by town\n",
      "        - LSTAT    % lower status of the population\n",
      "        - MEDV     Median value of owner-occupied homes in $1000's\n",
      "\n",
      "    :Missing Attribute Values: None\n",
      "\n",
      "    :Creator: Harrison, D. and Rubinfeld, D.L.\n",
      "\n",
      "This is a copy of UCI ML housing dataset.\n",
      "http://archive.ics.uci.edu/ml/datasets/Housing\n",
      "\n",
      "\n",
      "This dataset was taken from the StatLib library which is maintained at Carnegie Mellon University.\n",
      "\n",
      "The Boston house-price data of Harrison, D. and Rubinfeld, D.L. 'Hedonic\n",
      "prices and the demand for clean air', J. Environ. Economics & Management,\n",
      "vol.5, 81-102, 1978.   Used in Belsley, Kuh & Welsch, 'Regression diagnostics\n",
      "...', Wiley, 1980.   N.B. Various transformations are used in the table on\n",
      "pages 244-261 of the latter.\n",
      "\n",
      "The Boston house-price data has been used in many machine learning papers that address regression\n",
      "problems.   \n",
      "     \n",
      "**References**\n",
      "\n",
      "   - Belsley, Kuh & Welsch, 'Regression diagnostics: Identifying Influential Data and Sources of Collinearity', Wiley, 1980. 244-261.\n",
      "   - Quinlan,R. (1993). Combining Instance-Based and Model-Based Learning. In Proceedings on the Tenth International Conference of Machine Learning, 236-243, University of Massachusetts, Amherst. Morgan Kaufmann.\n",
      "   - many more! (see http://archive.ics.uci.edu/ml/datasets/Housing)\n",
      "\n"
     ]
    }
   ],
   "source": [
    "print boston.DESCR"
   ]
  },
  {
   "cell_type": "markdown",
   "metadata": {},
   "source": [
    "### (a)"
   ]
  },
  {
   "cell_type": "markdown",
   "metadata": {},
   "source": [
    "Vaš je zadatak da izgradite regresijski model za predviđanje cijene nekretnine (`y=boston.target`) na temelju 13 raspoloživih značajki za svaku nekretninu (`X=boston.data`). Cilj je pronaći najbolji mogući linearni model regresije na ovom skupu podataka i provjeriti njegovu točnost u smislu pogreške kvadratnog odstupanja ([`mean_squared_error`]( http://scikit-learn.org/stable/modules/generated/sklearn.metrics.mean_squared_error.html#sklearn.metrics.mean_squared_error)). \n",
    "\n",
    "Hiperparametri modela koje treba isprobati su:\n",
    "\n",
    "* **Regularizacija:** Bez regularizacije ([`LinearRegression`](http://scikit-learn.org/stable/modules/generated/sklearn.linear_model.LinearRegression.html#sklearn.linear_model.LinearRegression)), L2-regularizacija ([`Ridge`](http://scikit-learn.org/stable/modules/generated/sklearn.linear_model.Ridge.html#sklearn.linear_model.Ridge)) i L1-regularizacija ([`Lasso`](http://scikit-learn.org/stable/modules/generated/sklearn.linear_model.Lasso.html#sklearn.linear_model.Lasso));\n",
    "* **Značajke:** Izvornih 13 značajki, polinomijalne značajke (isprobajte različite stupnjeve polinoma $d$), samo interakcijske značajke (opcija `interaction_only` u klasi [`PolynomialFeatures`](http://scikit-learn.org/stable/modules/generated/sklearn.preprocessing.PolynomialFeatures.html));\n",
    "\n",
    "Kao i inače, za odabir i ispitivanje modela koristit ćemo **unakrsnu provjeru** (engl. *cross-validation*). Skup primjera za učenje podijelit ćemo na **skup za učenje**, **skup za provjeru** i **skup za ispitivanje** u omjeru (otprilike) 3:1:1. Kao u uvijek, model trebate trenirati na skupu za učenje, odabir modela (odnosno optimizaciju hiperparametra) trebate provesti na skupu za provjeru, a konačno vrednovanje modela trebate načiniti na skupu za ispitivanje. Konačno vrednovanje radite samo jednom, za model koji ste na skupu za provjeru odabrali kao optimalan.\n",
    "\n",
    "**NB:** Nakon što odaberete optimalan model na skupu za provjeru, prije konačnog ispitivanja odabrani model ponovno trenirajte na uniji skupova za učenje i provjeru. Na taj način iskorištavate maksimalno iskorištavate dostupne podatke i model će u pravilu biti bolji.\n",
    "\n",
    "Podjela na skup za učenje, provjeru i ispitivanje u ovom je slučaju fiksna kako bi svi imali identične skupove i kako bi rezultati bili usporedivi. (U stvarnosti biste ovakav eksperiment radili malo drugačije: koristili biste višestruku unakrsnu provjeru ili ugnježđenu unakrsnu provjeru. Više o tome u budućim vježbama.) \n",
    "\n",
    "Koristite sljedeće skupove:"
   ]
  },
  {
   "cell_type": "code",
   "execution_count": 81,
   "metadata": {
    "collapsed": false
   },
   "outputs": [],
   "source": [
    "#from sklearn import cross_validation\n",
    "\n",
    "#Moved to a class"
   ]
  },
  {
   "cell_type": "code",
   "execution_count": 82,
   "metadata": {
    "collapsed": false
   },
   "outputs": [
    {
     "ename": "IndentationError",
     "evalue": "expected an indented block (<ipython-input-82-9f48c3fce54d>, line 8)",
     "output_type": "error",
     "traceback": [
      "\u001b[0;36m  File \u001b[0;32m\"<ipython-input-82-9f48c3fce54d>\"\u001b[0;36m, line \u001b[0;32m8\u001b[0m\n\u001b[0;31m    degrees = range(1, 21)\u001b[0m\n\u001b[0m          ^\u001b[0m\n\u001b[0;31mIndentationError\u001b[0m\u001b[0;31m:\u001b[0m expected an indented block\n"
     ]
    }
   ],
   "source": [
    "#X_train, X_validate, X_test, y_train, y_validate, y_test\n",
    "class Researcher(object):\n",
    "    def __init__(self, X, y):\n",
    "        self.X_train, X_rest, self.y_train, y_rest = train_test_split(X, y, train_size=0.6, random_state=42)\n",
    "        self.X_validate, self.X_test, self.y_validate, self.y_test = train_test_split(X_rest, y_rest, test_size=0.5, random_state=42)\n",
    "    \n",
    "    def FindBestModel(self):\n",
    "        degrees = range(1,21)\n",
    "        for degree in degrees:\n",
    "            XPoly = self.MapToHigher(degree)\n",
    "    \n",
    "    def MapToHigher(self, degree):\n",
    "        return PolynomialTransformation(self.X_train, degree)\n",
    "    \n",
    "    def ChooseModel(X, y):\n",
    "        pass\n",
    "\n",
    "    def FindHyper(model, X, y):\n",
    "        pass\n",
    "    \n",
    "    def LinReg(self):\n",
    "        pass\n",
    "    \n",
    "    def Ridge(self):\n",
    "        pass\n",
    "    \n",
    "    def Lasso(self):\n",
    "        pass\n",
    "    \n",
    "    def PerformModelAndCrossValidation(self, model):\n",
    "        model.fit(self.X_train, self.y_train)\n",
    "\n",
    "        predictions = model.predict(self.X_train)\n",
    "        trainError = mean_squared_error(self.y_train, predictions)\n",
    "\n",
    "        predictions = model.predict(self.X_validate)\n",
    "        testError = mean_squared_error(self.y_validate, predictions)\n",
    "\n",
    "        return trainError, testError\n",
    "        \n",
    "    def DrawErrors(xAxis, trainErrors, testErrors, ax=False):\n",
    "        if ax:\n",
    "            ax.plot(xAxis, log(trainErrors), \"b\")\n",
    "            ax.plot(xAxis, log(testErrors), \"r\")\n",
    "        else:\n",
    "            plt.plot(xAxis, log(trainErrors), \"b\")\n",
    "            plt.plot(xAxis, log(testErrors), \"r\")\n",
    "        \n",
    "Researcher(boston.data, boston.target)"
   ]
  },
  {
   "cell_type": "markdown",
   "metadata": {},
   "source": [
    "**Q:** Koliko značajki ima svaki od modela koji ste isprobali?\n",
    "\n",
    "**Q:** Provjerite točnost odabranog modela na (1) skupu za učenje, (2) skupu za provjeru, (3) uniji ta dva skupa i (4) skupu za ispitivanje. Jesu li odnosi između točnosti modela na ova četiri skupa očekivana? Obrazložite.\n",
    "\n",
    "**Q:** Kod treniranja regresijskog modela moguće je postaviti `fit_intercept=False`, čime se izbjegava optimiranje težine $w_0$. Trenirajte odabrani model s tom postavkom. Usporedite s točnošću optimalnog modela. Je li rezultat očekivan? Obrazložite. Ima li predobrada značajki ikakvog utjecaja na ovu razliku?"
   ]
  }
 ],
 "metadata": {
  "anaconda-cloud": {},
  "kernelspec": {
   "display_name": "Python 2",
   "language": "python",
   "name": "python2"
  },
  "language_info": {
   "codemirror_mode": {
    "name": "ipython",
    "version": 2
   },
   "file_extension": ".py",
   "mimetype": "text/x-python",
   "name": "python",
   "nbconvert_exporter": "python",
   "pygments_lexer": "ipython2",
   "version": "2.7.13"
  }
 },
 "nbformat": 4,
 "nbformat_minor": 0
}
